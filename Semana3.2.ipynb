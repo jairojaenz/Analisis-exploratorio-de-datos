{
 "cells": [
  {
   "cell_type": "code",
   "execution_count": 5,
   "metadata": {
    "executionInfo": {
     "elapsed": 5,
     "status": "ok",
     "timestamp": 1712249895086,
     "user": {
      "displayName": "Jairo Jaenz",
      "userId": "11145695540543017889"
     },
     "user_tz": 360
    },
    "id": "JZiI-jsSsMZe"
   },
   "outputs": [],
   "source": [
    "import pandas as pd\n",
    "import numpy as np\n",
    "import seaborn as sns\n",
    "import matplotlib.pyplot as plt\n",
    "%matplotlib inline"
   ]
  },
  {
   "cell_type": "code",
   "execution_count": 7,
   "metadata": {
    "id": "6kPM7P_Zsliu"
   },
   "outputs": [],
   "source": [
    "df = pd.read_csv(\"tech.csv\", delimiter= '\\t', index_col='Company')"
   ]
  },
  {
   "cell_type": "code",
   "execution_count": 8,
   "metadata": {
    "colab": {
     "base_uri": "https://localhost:8080/",
     "height": 607
    },
    "executionInfo": {
     "elapsed": 274,
     "status": "ok",
     "timestamp": 1712244741920,
     "user": {
      "displayName": "Jairo Jaenz",
      "userId": "11145695540543017889"
     },
     "user_tz": 360
    },
    "id": "gHLNQg3IvQtM",
    "outputId": "5047beb7-3734-4c67-ede7-9904d83cc12e"
   },
   "outputs": [
    {
     "data": {
      "text/html": [
       "<div>\n",
       "<style scoped>\n",
       "    .dataframe tbody tr th:only-of-type {\n",
       "        vertical-align: middle;\n",
       "    }\n",
       "\n",
       "    .dataframe tbody tr th {\n",
       "        vertical-align: top;\n",
       "    }\n",
       "\n",
       "    .dataframe thead th {\n",
       "        text-align: right;\n",
       "    }\n",
       "</style>\n",
       "<table border=\"1\" class=\"dataframe\">\n",
       "  <thead>\n",
       "    <tr style=\"text-align: right;\">\n",
       "      <th></th>\n",
       "      <th>Revenue</th>\n",
       "      <th>Employees</th>\n",
       "      <th>City</th>\n",
       "      <th>Country</th>\n",
       "    </tr>\n",
       "    <tr>\n",
       "      <th>Company</th>\n",
       "      <th></th>\n",
       "      <th></th>\n",
       "      <th></th>\n",
       "      <th></th>\n",
       "    </tr>\n",
       "  </thead>\n",
       "  <tbody>\n",
       "    <tr>\n",
       "      <th>Apple</th>\n",
       "      <td>274515</td>\n",
       "      <td>147000</td>\n",
       "      <td>California</td>\n",
       "      <td>United States</td>\n",
       "    </tr>\n",
       "    <tr>\n",
       "      <th>Samsung Electronics</th>\n",
       "      <td>200734</td>\n",
       "      <td>267937</td>\n",
       "      <td>Suwon</td>\n",
       "      <td>South Korea</td>\n",
       "    </tr>\n",
       "    <tr>\n",
       "      <th>Alphabet</th>\n",
       "      <td>182527</td>\n",
       "      <td>135301</td>\n",
       "      <td>California</td>\n",
       "      <td>United States</td>\n",
       "    </tr>\n",
       "    <tr>\n",
       "      <th>Foxconn</th>\n",
       "      <td>181945</td>\n",
       "      <td>878429</td>\n",
       "      <td>New Taipei City</td>\n",
       "      <td>Taiwan</td>\n",
       "    </tr>\n",
       "    <tr>\n",
       "      <th>Microsoft</th>\n",
       "      <td>143015</td>\n",
       "      <td>163000</td>\n",
       "      <td>Washington</td>\n",
       "      <td>United States</td>\n",
       "    </tr>\n",
       "    <tr>\n",
       "      <th>Huawei</th>\n",
       "      <td>129184</td>\n",
       "      <td>197000</td>\n",
       "      <td>Shenzhen</td>\n",
       "      <td>China</td>\n",
       "    </tr>\n",
       "    <tr>\n",
       "      <th>Dell Technologies</th>\n",
       "      <td>92224</td>\n",
       "      <td>158000</td>\n",
       "      <td>Texas</td>\n",
       "      <td>United States</td>\n",
       "    </tr>\n",
       "    <tr>\n",
       "      <th>Facebook</th>\n",
       "      <td>85965</td>\n",
       "      <td>58604</td>\n",
       "      <td>California</td>\n",
       "      <td>United States</td>\n",
       "    </tr>\n",
       "    <tr>\n",
       "      <th>Sony</th>\n",
       "      <td>84893</td>\n",
       "      <td>109700</td>\n",
       "      <td>Tokyo</td>\n",
       "      <td>Japan</td>\n",
       "    </tr>\n",
       "    <tr>\n",
       "      <th>Hitachi</th>\n",
       "      <td>82345</td>\n",
       "      <td>350864</td>\n",
       "      <td>Tokyo</td>\n",
       "      <td>Japan</td>\n",
       "    </tr>\n",
       "    <tr>\n",
       "      <th>Intel</th>\n",
       "      <td>77867</td>\n",
       "      <td>110600</td>\n",
       "      <td>California</td>\n",
       "      <td>United States</td>\n",
       "    </tr>\n",
       "    <tr>\n",
       "      <th>IBM</th>\n",
       "      <td>73620</td>\n",
       "      <td>364800</td>\n",
       "      <td>New York</td>\n",
       "      <td>United States</td>\n",
       "    </tr>\n",
       "    <tr>\n",
       "      <th>Tencent</th>\n",
       "      <td>69864</td>\n",
       "      <td>85858</td>\n",
       "      <td>Shenzhen</td>\n",
       "      <td>China</td>\n",
       "    </tr>\n",
       "    <tr>\n",
       "      <th>Panasonic</th>\n",
       "      <td>63191</td>\n",
       "      <td>243540</td>\n",
       "      <td>Osaka</td>\n",
       "      <td>Japan</td>\n",
       "    </tr>\n",
       "    <tr>\n",
       "      <th>Lenovo</th>\n",
       "      <td>60742</td>\n",
       "      <td>71500</td>\n",
       "      <td>Hong Kong</td>\n",
       "      <td>China</td>\n",
       "    </tr>\n",
       "    <tr>\n",
       "      <th>HP Inc.</th>\n",
       "      <td>56639</td>\n",
       "      <td>53000</td>\n",
       "      <td>California</td>\n",
       "      <td>United States</td>\n",
       "    </tr>\n",
       "    <tr>\n",
       "      <th>LG Electronics</th>\n",
       "      <td>53625</td>\n",
       "      <td>75000</td>\n",
       "      <td>Seoul</td>\n",
       "      <td>South Korea</td>\n",
       "    </tr>\n",
       "  </tbody>\n",
       "</table>\n",
       "</div>"
      ],
      "text/plain": [
       "                     Revenue  Employees             City        Country\n",
       "Company                                                                \n",
       "Apple                 274515     147000       California  United States\n",
       "Samsung Electronics   200734     267937            Suwon    South Korea\n",
       "Alphabet              182527     135301       California  United States\n",
       "Foxconn               181945     878429  New Taipei City         Taiwan\n",
       "Microsoft             143015     163000       Washington  United States\n",
       "Huawei                129184     197000         Shenzhen          China\n",
       "Dell Technologies      92224     158000            Texas  United States\n",
       "Facebook               85965      58604       California  United States\n",
       "Sony                   84893     109700            Tokyo          Japan\n",
       "Hitachi                82345     350864            Tokyo          Japan\n",
       "Intel                  77867     110600       California  United States\n",
       "IBM                    73620     364800         New York  United States\n",
       "Tencent                69864      85858         Shenzhen          China\n",
       "Panasonic              63191     243540            Osaka          Japan\n",
       "Lenovo                 60742      71500        Hong Kong          China\n",
       "HP Inc.                56639      53000       California  United States\n",
       "LG Electronics         53625      75000            Seoul    South Korea"
      ]
     },
     "execution_count": 8,
     "metadata": {},
     "output_type": "execute_result"
    }
   ],
   "source": [
    "df"
   ]
  },
  {
   "cell_type": "code",
   "execution_count": 30,
   "metadata": {
    "colab": {
     "base_uri": "https://localhost:8080/",
     "height": 235
    },
    "executionInfo": {
     "elapsed": 224,
     "status": "ok",
     "timestamp": 1712244789959,
     "user": {
      "displayName": "Jairo Jaenz",
      "userId": "11145695540543017889"
     },
     "user_tz": 360
    },
    "id": "tzjPc5rfvcj5",
    "outputId": "d1c32823-f60e-4359-b30d-eec0e9a7627e"
   },
   "outputs": [
    {
     "data": {
      "text/html": [
       "<div>\n",
       "<style scoped>\n",
       "    .dataframe tbody tr th:only-of-type {\n",
       "        vertical-align: middle;\n",
       "    }\n",
       "\n",
       "    .dataframe tbody tr th {\n",
       "        vertical-align: top;\n",
       "    }\n",
       "\n",
       "    .dataframe thead th {\n",
       "        text-align: right;\n",
       "    }\n",
       "</style>\n",
       "<table border=\"1\" class=\"dataframe\">\n",
       "  <thead>\n",
       "    <tr style=\"text-align: right;\">\n",
       "      <th></th>\n",
       "      <th>Revenue</th>\n",
       "      <th>Employees</th>\n",
       "      <th>City</th>\n",
       "      <th>Country</th>\n",
       "    </tr>\n",
       "    <tr>\n",
       "      <th>Company</th>\n",
       "      <th></th>\n",
       "      <th></th>\n",
       "      <th></th>\n",
       "      <th></th>\n",
       "    </tr>\n",
       "  </thead>\n",
       "  <tbody>\n",
       "    <tr>\n",
       "      <th>Apple</th>\n",
       "      <td>274515</td>\n",
       "      <td>147000</td>\n",
       "      <td>California</td>\n",
       "      <td>United States</td>\n",
       "    </tr>\n",
       "    <tr>\n",
       "      <th>Samsung Electronics</th>\n",
       "      <td>200734</td>\n",
       "      <td>267937</td>\n",
       "      <td>Suwon</td>\n",
       "      <td>South Korea</td>\n",
       "    </tr>\n",
       "    <tr>\n",
       "      <th>Alphabet</th>\n",
       "      <td>182527</td>\n",
       "      <td>135301</td>\n",
       "      <td>California</td>\n",
       "      <td>United States</td>\n",
       "    </tr>\n",
       "    <tr>\n",
       "      <th>Foxconn</th>\n",
       "      <td>181945</td>\n",
       "      <td>878429</td>\n",
       "      <td>New Taipei City</td>\n",
       "      <td>Taiwan</td>\n",
       "    </tr>\n",
       "    <tr>\n",
       "      <th>Microsoft</th>\n",
       "      <td>143015</td>\n",
       "      <td>163000</td>\n",
       "      <td>Washington</td>\n",
       "      <td>United States</td>\n",
       "    </tr>\n",
       "  </tbody>\n",
       "</table>\n",
       "</div>"
      ],
      "text/plain": [
       "                     Revenue  Employees             City        Country\n",
       "Company                                                                \n",
       "Apple                 274515     147000       California  United States\n",
       "Samsung Electronics   200734     267937            Suwon    South Korea\n",
       "Alphabet              182527     135301       California  United States\n",
       "Foxconn               181945     878429  New Taipei City         Taiwan\n",
       "Microsoft             143015     163000       Washington  United States"
      ]
     },
     "execution_count": 30,
     "metadata": {},
     "output_type": "execute_result"
    }
   ],
   "source": [
    "df.head()"
   ]
  },
  {
   "cell_type": "code",
   "execution_count": 31,
   "metadata": {
    "colab": {
     "base_uri": "https://localhost:8080/",
     "height": 235
    },
    "executionInfo": {
     "elapsed": 299,
     "status": "ok",
     "timestamp": 1712244803492,
     "user": {
      "displayName": "Jairo Jaenz",
      "userId": "11145695540543017889"
     },
     "user_tz": 360
    },
    "id": "KnDHkI05viMq",
    "outputId": "8f17fd21-e7ca-45c6-aab7-89a82bc2b403"
   },
   "outputs": [
    {
     "data": {
      "text/html": [
       "<div>\n",
       "<style scoped>\n",
       "    .dataframe tbody tr th:only-of-type {\n",
       "        vertical-align: middle;\n",
       "    }\n",
       "\n",
       "    .dataframe tbody tr th {\n",
       "        vertical-align: top;\n",
       "    }\n",
       "\n",
       "    .dataframe thead th {\n",
       "        text-align: right;\n",
       "    }\n",
       "</style>\n",
       "<table border=\"1\" class=\"dataframe\">\n",
       "  <thead>\n",
       "    <tr style=\"text-align: right;\">\n",
       "      <th></th>\n",
       "      <th>Revenue</th>\n",
       "      <th>Employees</th>\n",
       "      <th>City</th>\n",
       "      <th>Country</th>\n",
       "    </tr>\n",
       "    <tr>\n",
       "      <th>Company</th>\n",
       "      <th></th>\n",
       "      <th></th>\n",
       "      <th></th>\n",
       "      <th></th>\n",
       "    </tr>\n",
       "  </thead>\n",
       "  <tbody>\n",
       "    <tr>\n",
       "      <th>Tencent</th>\n",
       "      <td>69864</td>\n",
       "      <td>85858</td>\n",
       "      <td>Shenzhen</td>\n",
       "      <td>China</td>\n",
       "    </tr>\n",
       "    <tr>\n",
       "      <th>Panasonic</th>\n",
       "      <td>63191</td>\n",
       "      <td>243540</td>\n",
       "      <td>Osaka</td>\n",
       "      <td>Japan</td>\n",
       "    </tr>\n",
       "    <tr>\n",
       "      <th>Lenovo</th>\n",
       "      <td>60742</td>\n",
       "      <td>71500</td>\n",
       "      <td>Hong Kong</td>\n",
       "      <td>China</td>\n",
       "    </tr>\n",
       "    <tr>\n",
       "      <th>HP Inc.</th>\n",
       "      <td>56639</td>\n",
       "      <td>53000</td>\n",
       "      <td>California</td>\n",
       "      <td>United States</td>\n",
       "    </tr>\n",
       "    <tr>\n",
       "      <th>LG Electronics</th>\n",
       "      <td>53625</td>\n",
       "      <td>75000</td>\n",
       "      <td>Seoul</td>\n",
       "      <td>South Korea</td>\n",
       "    </tr>\n",
       "  </tbody>\n",
       "</table>\n",
       "</div>"
      ],
      "text/plain": [
       "                Revenue  Employees        City        Country\n",
       "Company                                                      \n",
       "Tencent           69864      85858    Shenzhen          China\n",
       "Panasonic         63191     243540       Osaka          Japan\n",
       "Lenovo            60742      71500   Hong Kong          China\n",
       "HP Inc.           56639      53000  California  United States\n",
       "LG Electronics    53625      75000       Seoul    South Korea"
      ]
     },
     "execution_count": 31,
     "metadata": {},
     "output_type": "execute_result"
    }
   ],
   "source": [
    "df.tail()"
   ]
  },
  {
   "cell_type": "code",
   "execution_count": 32,
   "metadata": {
    "colab": {
     "base_uri": "https://localhost:8080/"
    },
    "executionInfo": {
     "elapsed": 5,
     "status": "ok",
     "timestamp": 1712244816281,
     "user": {
      "displayName": "Jairo Jaenz",
      "userId": "11145695540543017889"
     },
     "user_tz": 360
    },
    "id": "ALiuWs4_vlHq",
    "outputId": "f44cd70b-517a-443b-e6a0-489050808845"
   },
   "outputs": [
    {
     "name": "stdout",
     "output_type": "stream",
     "text": [
      "<class 'pandas.core.frame.DataFrame'>\n",
      "Index: 17 entries, Apple to LG Electronics\n",
      "Data columns (total 4 columns):\n",
      " #   Column     Non-Null Count  Dtype \n",
      "---  ------     --------------  ----- \n",
      " 0   Revenue    17 non-null     int64 \n",
      " 1   Employees  17 non-null     int64 \n",
      " 2   City       17 non-null     object\n",
      " 3   Country    17 non-null     object\n",
      "dtypes: int64(2), object(2)\n",
      "memory usage: 680.0+ bytes\n"
     ]
    }
   ],
   "source": [
    "df.info()"
   ]
  },
  {
   "cell_type": "code",
   "execution_count": 33,
   "metadata": {
    "colab": {
     "base_uri": "https://localhost:8080/",
     "height": 297
    },
    "executionInfo": {
     "elapsed": 662,
     "status": "ok",
     "timestamp": 1712244849810,
     "user": {
      "displayName": "Jairo Jaenz",
      "userId": "11145695540543017889"
     },
     "user_tz": 360
    },
    "id": "xXrDJSxzvqbN",
    "outputId": "8b09e159-e6c5-48b0-d3d7-61c05fcf4aa3"
   },
   "outputs": [
    {
     "data": {
      "text/html": [
       "<div>\n",
       "<style scoped>\n",
       "    .dataframe tbody tr th:only-of-type {\n",
       "        vertical-align: middle;\n",
       "    }\n",
       "\n",
       "    .dataframe tbody tr th {\n",
       "        vertical-align: top;\n",
       "    }\n",
       "\n",
       "    .dataframe thead th {\n",
       "        text-align: right;\n",
       "    }\n",
       "</style>\n",
       "<table border=\"1\" class=\"dataframe\">\n",
       "  <thead>\n",
       "    <tr style=\"text-align: right;\">\n",
       "      <th></th>\n",
       "      <th>Revenue</th>\n",
       "      <th>Employees</th>\n",
       "    </tr>\n",
       "  </thead>\n",
       "  <tbody>\n",
       "    <tr>\n",
       "      <th>count</th>\n",
       "      <td>17.000000</td>\n",
       "      <td>17.000000</td>\n",
       "    </tr>\n",
       "    <tr>\n",
       "      <th>mean</th>\n",
       "      <td>112523.235294</td>\n",
       "      <td>204125.470588</td>\n",
       "    </tr>\n",
       "    <tr>\n",
       "      <th>std</th>\n",
       "      <td>63236.957691</td>\n",
       "      <td>198345.912495</td>\n",
       "    </tr>\n",
       "    <tr>\n",
       "      <th>min</th>\n",
       "      <td>53625.000000</td>\n",
       "      <td>53000.000000</td>\n",
       "    </tr>\n",
       "    <tr>\n",
       "      <th>25%</th>\n",
       "      <td>69864.000000</td>\n",
       "      <td>85858.000000</td>\n",
       "    </tr>\n",
       "    <tr>\n",
       "      <th>50%</th>\n",
       "      <td>84893.000000</td>\n",
       "      <td>147000.000000</td>\n",
       "    </tr>\n",
       "    <tr>\n",
       "      <th>75%</th>\n",
       "      <td>143015.000000</td>\n",
       "      <td>243540.000000</td>\n",
       "    </tr>\n",
       "    <tr>\n",
       "      <th>max</th>\n",
       "      <td>274515.000000</td>\n",
       "      <td>878429.000000</td>\n",
       "    </tr>\n",
       "  </tbody>\n",
       "</table>\n",
       "</div>"
      ],
      "text/plain": [
       "             Revenue      Employees\n",
       "count      17.000000      17.000000\n",
       "mean   112523.235294  204125.470588\n",
       "std     63236.957691  198345.912495\n",
       "min     53625.000000   53000.000000\n",
       "25%     69864.000000   85858.000000\n",
       "50%     84893.000000  147000.000000\n",
       "75%    143015.000000  243540.000000\n",
       "max    274515.000000  878429.000000"
      ]
     },
     "execution_count": 33,
     "metadata": {},
     "output_type": "execute_result"
    }
   ],
   "source": [
    "df.describe()"
   ]
  },
  {
   "cell_type": "code",
   "execution_count": 34,
   "metadata": {
    "colab": {
     "base_uri": "https://localhost:8080/"
    },
    "executionInfo": {
     "elapsed": 203,
     "status": "ok",
     "timestamp": 1712244894194,
     "user": {
      "displayName": "Jairo Jaenz",
      "userId": "11145695540543017889"
     },
     "user_tz": 360
    },
    "id": "s77pwDuev1Im",
    "outputId": "a07f8e56-136c-4195-f311-0fc1e9ad6d3b"
   },
   "outputs": [
    {
     "data": {
      "text/plain": [
       "(17, 4)"
      ]
     },
     "execution_count": 34,
     "metadata": {},
     "output_type": "execute_result"
    }
   ],
   "source": [
    "df.shape #numero de columnas"
   ]
  },
  {
   "cell_type": "code",
   "execution_count": 35,
   "metadata": {
    "colab": {
     "base_uri": "https://localhost:8080/"
    },
    "executionInfo": {
     "elapsed": 248,
     "status": "ok",
     "timestamp": 1712244908611,
     "user": {
      "displayName": "Jairo Jaenz",
      "userId": "11145695540543017889"
     },
     "user_tz": 360
    },
    "id": "gU74GyYVv7TM",
    "outputId": "f9b91ecd-4d0a-45e4-8c46-a52846ca4c1b"
   },
   "outputs": [
    {
     "data": {
      "text/plain": [
       "68"
      ]
     },
     "execution_count": 35,
     "metadata": {},
     "output_type": "execute_result"
    }
   ],
   "source": [
    "df.size # numero total de datos"
   ]
  },
  {
   "cell_type": "code",
   "execution_count": 36,
   "metadata": {
    "colab": {
     "base_uri": "https://localhost:8080/"
    },
    "executionInfo": {
     "elapsed": 218,
     "status": "ok",
     "timestamp": 1712244925689,
     "user": {
      "displayName": "Jairo Jaenz",
      "userId": "11145695540543017889"
     },
     "user_tz": 360
    },
    "id": "LChBBfTzv-uv",
    "outputId": "8b9d8ca0-22e8-4972-d54c-4fc5e31b60a4"
   },
   "outputs": [
    {
     "data": {
      "text/plain": [
       "2"
      ]
     },
     "execution_count": 36,
     "metadata": {},
     "output_type": "execute_result"
    }
   ],
   "source": [
    "df.ndim # numero de dimensiones"
   ]
  },
  {
   "cell_type": "code",
   "execution_count": 37,
   "metadata": {
    "colab": {
     "base_uri": "https://localhost:8080/"
    },
    "executionInfo": {
     "elapsed": 244,
     "status": "ok",
     "timestamp": 1712245092985,
     "user": {
      "displayName": "Jairo Jaenz",
      "userId": "11145695540543017889"
     },
     "user_tz": 360
    },
    "id": "3bs6UFW4wDVM",
    "outputId": "4d66b716-80f4-46ec-e39d-38dfe98ac7b7"
   },
   "outputs": [
    {
     "data": {
      "text/plain": [
       "Index(['Apple', 'Samsung Electronics', 'Alphabet', 'Foxconn', 'Microsoft',\n",
       "       'Huawei', 'Dell Technologies', 'Facebook', 'Sony', 'Hitachi', 'Intel',\n",
       "       'IBM', 'Tencent', 'Panasonic', 'Lenovo', 'HP Inc.', 'LG Electronics'],\n",
       "      dtype='object', name='Company')"
      ]
     },
     "execution_count": 37,
     "metadata": {},
     "output_type": "execute_result"
    }
   ],
   "source": [
    "df.index #indice"
   ]
  },
  {
   "cell_type": "code",
   "execution_count": 38,
   "metadata": {
    "colab": {
     "base_uri": "https://localhost:8080/"
    },
    "executionInfo": {
     "elapsed": 7,
     "status": "ok",
     "timestamp": 1712245191723,
     "user": {
      "displayName": "Jairo Jaenz",
      "userId": "11145695540543017889"
     },
     "user_tz": 360
    },
    "id": "-l79SCl_w_XX",
    "outputId": "f9e07cbe-9f4d-4532-d7e8-68ada25b2ef3"
   },
   "outputs": [
    {
     "data": {
      "text/plain": [
       "Index(['Revenue', 'Employees', 'City', 'Country'], dtype='object')"
      ]
     },
     "execution_count": 38,
     "metadata": {},
     "output_type": "execute_result"
    }
   ],
   "source": [
    "df.columns #Columnas"
   ]
  },
  {
   "cell_type": "code",
   "execution_count": 39,
   "metadata": {
    "colab": {
     "base_uri": "https://localhost:8080/"
    },
    "executionInfo": {
     "elapsed": 242,
     "status": "ok",
     "timestamp": 1712245213765,
     "user": {
      "displayName": "Jairo Jaenz",
      "userId": "11145695540543017889"
     },
     "user_tz": 360
    },
    "id": "R-t8qOFWxFED",
    "outputId": "454c4318-4536-442b-ef24-fc16790b5d4e"
   },
   "outputs": [
    {
     "data": {
      "text/plain": [
       "array([[274515, 147000, 'California', 'United States'],\n",
       "       [200734, 267937, 'Suwon', 'South Korea'],\n",
       "       [182527, 135301, 'California', 'United States'],\n",
       "       [181945, 878429, 'New Taipei City', 'Taiwan'],\n",
       "       [143015, 163000, 'Washington', 'United States'],\n",
       "       [129184, 197000, 'Shenzhen', 'China'],\n",
       "       [92224, 158000, 'Texas', 'United States'],\n",
       "       [85965, 58604, 'California', 'United States'],\n",
       "       [84893, 109700, 'Tokyo', 'Japan'],\n",
       "       [82345, 350864, 'Tokyo', 'Japan'],\n",
       "       [77867, 110600, 'California', 'United States'],\n",
       "       [73620, 364800, 'New York', 'United States'],\n",
       "       [69864, 85858, 'Shenzhen', 'China'],\n",
       "       [63191, 243540, 'Osaka', 'Japan'],\n",
       "       [60742, 71500, 'Hong Kong', 'China'],\n",
       "       [56639, 53000, 'California', 'United States'],\n",
       "       [53625, 75000, 'Seoul', 'South Korea']], dtype=object)"
      ]
     },
     "execution_count": 39,
     "metadata": {},
     "output_type": "execute_result"
    }
   ],
   "source": [
    "df.values #Valores"
   ]
  },
  {
   "cell_type": "code",
   "execution_count": 40,
   "metadata": {
    "colab": {
     "base_uri": "https://localhost:8080/"
    },
    "executionInfo": {
     "elapsed": 223,
     "status": "ok",
     "timestamp": 1712245334694,
     "user": {
      "displayName": "Jairo Jaenz",
      "userId": "11145695540543017889"
     },
     "user_tz": 360
    },
    "id": "YPFRjF-kxLDq",
    "outputId": "8efa8a32-7c05-4d55-c707-3cf4ff6f152f"
   },
   "outputs": [
    {
     "data": {
      "text/plain": [
       "Revenue             274515\n",
       "Employees           147000\n",
       "City            California\n",
       "Country      United States\n",
       "Name: Apple, dtype: object"
      ]
     },
     "execution_count": 40,
     "metadata": {},
     "output_type": "execute_result"
    }
   ],
   "source": [
    "df.iloc[0] #Indice numerico mediante la posicion"
   ]
  },
  {
   "cell_type": "code",
   "execution_count": 41,
   "metadata": {
    "colab": {
     "base_uri": "https://localhost:8080/"
    },
    "executionInfo": {
     "elapsed": 217,
     "status": "ok",
     "timestamp": 1712245392401,
     "user": {
      "displayName": "Jairo Jaenz",
      "userId": "11145695540543017889"
     },
     "user_tz": 360
    },
    "id": "UDVdUErWxvB3",
    "outputId": "739a4e79-ddf2-470b-e546-1175f309be29"
   },
   "outputs": [
    {
     "data": {
      "text/plain": [
       "Revenue            53625\n",
       "Employees          75000\n",
       "City               Seoul\n",
       "Country      South Korea\n",
       "Name: LG Electronics, dtype: object"
      ]
     },
     "execution_count": 41,
     "metadata": {},
     "output_type": "execute_result"
    }
   ],
   "source": [
    "df.iloc[-1]"
   ]
  },
  {
   "cell_type": "code",
   "execution_count": 42,
   "metadata": {
    "colab": {
     "base_uri": "https://localhost:8080/",
     "height": 142
    },
    "executionInfo": {
     "elapsed": 282,
     "status": "ok",
     "timestamp": 1712245416676,
     "user": {
      "displayName": "Jairo Jaenz",
      "userId": "11145695540543017889"
     },
     "user_tz": 360
    },
    "id": "HO5E8pdQx3fl",
    "outputId": "980b1cd3-bf92-4e10-d7e4-46a03cc56951"
   },
   "outputs": [
    {
     "data": {
      "text/html": [
       "<div>\n",
       "<style scoped>\n",
       "    .dataframe tbody tr th:only-of-type {\n",
       "        vertical-align: middle;\n",
       "    }\n",
       "\n",
       "    .dataframe tbody tr th {\n",
       "        vertical-align: top;\n",
       "    }\n",
       "\n",
       "    .dataframe thead th {\n",
       "        text-align: right;\n",
       "    }\n",
       "</style>\n",
       "<table border=\"1\" class=\"dataframe\">\n",
       "  <thead>\n",
       "    <tr style=\"text-align: right;\">\n",
       "      <th></th>\n",
       "      <th>Revenue</th>\n",
       "      <th>Employees</th>\n",
       "      <th>City</th>\n",
       "      <th>Country</th>\n",
       "    </tr>\n",
       "    <tr>\n",
       "      <th>Company</th>\n",
       "      <th></th>\n",
       "      <th></th>\n",
       "      <th></th>\n",
       "      <th></th>\n",
       "    </tr>\n",
       "  </thead>\n",
       "  <tbody>\n",
       "    <tr>\n",
       "      <th>Foxconn</th>\n",
       "      <td>181945</td>\n",
       "      <td>878429</td>\n",
       "      <td>New Taipei City</td>\n",
       "      <td>Taiwan</td>\n",
       "    </tr>\n",
       "    <tr>\n",
       "      <th>Microsoft</th>\n",
       "      <td>143015</td>\n",
       "      <td>163000</td>\n",
       "      <td>Washington</td>\n",
       "      <td>United States</td>\n",
       "    </tr>\n",
       "  </tbody>\n",
       "</table>\n",
       "</div>"
      ],
      "text/plain": [
       "           Revenue  Employees             City        Country\n",
       "Company                                                      \n",
       "Foxconn     181945     878429  New Taipei City         Taiwan\n",
       "Microsoft   143015     163000       Washington  United States"
      ]
     },
     "execution_count": 42,
     "metadata": {},
     "output_type": "execute_result"
    }
   ],
   "source": [
    "df.iloc[3:5]"
   ]
  },
  {
   "cell_type": "code",
   "execution_count": 43,
   "metadata": {
    "colab": {
     "base_uri": "https://localhost:8080/",
     "height": 204
    },
    "executionInfo": {
     "elapsed": 229,
     "status": "ok",
     "timestamp": 1712245532020,
     "user": {
      "displayName": "Jairo Jaenz",
      "userId": "11145695540543017889"
     },
     "user_tz": 360
    },
    "id": "KM4NzU6syEiu",
    "outputId": "8e3d8733-b454-42ca-ef96-26d0a908299c"
   },
   "outputs": [
    {
     "data": {
      "text/html": [
       "<div>\n",
       "<style scoped>\n",
       "    .dataframe tbody tr th:only-of-type {\n",
       "        vertical-align: middle;\n",
       "    }\n",
       "\n",
       "    .dataframe tbody tr th {\n",
       "        vertical-align: top;\n",
       "    }\n",
       "\n",
       "    .dataframe thead th {\n",
       "        text-align: right;\n",
       "    }\n",
       "</style>\n",
       "<table border=\"1\" class=\"dataframe\">\n",
       "  <thead>\n",
       "    <tr style=\"text-align: right;\">\n",
       "      <th></th>\n",
       "      <th>Revenue</th>\n",
       "      <th>Employees</th>\n",
       "      <th>City</th>\n",
       "      <th>Country</th>\n",
       "    </tr>\n",
       "    <tr>\n",
       "      <th>Company</th>\n",
       "      <th></th>\n",
       "      <th></th>\n",
       "      <th></th>\n",
       "      <th></th>\n",
       "    </tr>\n",
       "  </thead>\n",
       "  <tbody>\n",
       "    <tr>\n",
       "      <th>Apple</th>\n",
       "      <td>274515</td>\n",
       "      <td>147000</td>\n",
       "      <td>California</td>\n",
       "      <td>United States</td>\n",
       "    </tr>\n",
       "    <tr>\n",
       "      <th>Huawei</th>\n",
       "      <td>129184</td>\n",
       "      <td>197000</td>\n",
       "      <td>Shenzhen</td>\n",
       "      <td>China</td>\n",
       "    </tr>\n",
       "    <tr>\n",
       "      <th>Intel</th>\n",
       "      <td>77867</td>\n",
       "      <td>110600</td>\n",
       "      <td>California</td>\n",
       "      <td>United States</td>\n",
       "    </tr>\n",
       "    <tr>\n",
       "      <th>HP Inc.</th>\n",
       "      <td>56639</td>\n",
       "      <td>53000</td>\n",
       "      <td>California</td>\n",
       "      <td>United States</td>\n",
       "    </tr>\n",
       "  </tbody>\n",
       "</table>\n",
       "</div>"
      ],
      "text/plain": [
       "         Revenue  Employees        City        Country\n",
       "Company                                               \n",
       "Apple     274515     147000  California  United States\n",
       "Huawei    129184     197000    Shenzhen          China\n",
       "Intel      77867     110600  California  United States\n",
       "HP Inc.    56639      53000  California  United States"
      ]
     },
     "execution_count": 43,
     "metadata": {},
     "output_type": "execute_result"
    }
   ],
   "source": [
    "df.iloc[::5] #salto de 5 en 5 filas"
   ]
  },
  {
   "cell_type": "code",
   "execution_count": 44,
   "metadata": {
    "colab": {
     "base_uri": "https://localhost:8080/"
    },
    "executionInfo": {
     "elapsed": 236,
     "status": "ok",
     "timestamp": 1712245559092,
     "user": {
      "displayName": "Jairo Jaenz",
      "userId": "11145695540543017889"
     },
     "user_tz": 360
    },
    "id": "9xKd5m6NyW57",
    "outputId": "c2430566-60e3-41c8-e44c-4c4e0ec9cc42"
   },
   "outputs": [
    {
     "data": {
      "text/plain": [
       "Revenue             274515\n",
       "Employees           147000\n",
       "City            California\n",
       "Country      United States\n",
       "Name: Apple, dtype: object"
      ]
     },
     "execution_count": 44,
     "metadata": {},
     "output_type": "execute_result"
    }
   ],
   "source": [
    "df.loc['Apple']"
   ]
  },
  {
   "cell_type": "code",
   "execution_count": 45,
   "metadata": {
    "colab": {
     "base_uri": "https://localhost:8080/"
    },
    "executionInfo": {
     "elapsed": 232,
     "status": "ok",
     "timestamp": 1712245575451,
     "user": {
      "displayName": "Jairo Jaenz",
      "userId": "11145695540543017889"
     },
     "user_tz": 360
    },
    "id": "g8RDL5BYydf0",
    "outputId": "8e4c5e62-4df1-4352-cc47-d8c40e79bc60"
   },
   "outputs": [
    {
     "data": {
      "text/plain": [
       "Revenue              73620\n",
       "Employees           364800\n",
       "City              New York\n",
       "Country      United States\n",
       "Name: IBM, dtype: object"
      ]
     },
     "execution_count": 45,
     "metadata": {},
     "output_type": "execute_result"
    }
   ],
   "source": [
    "df.loc['IBM']"
   ]
  },
  {
   "cell_type": "code",
   "execution_count": 46,
   "metadata": {
    "colab": {
     "base_uri": "https://localhost:8080/",
     "height": 173
    },
    "executionInfo": {
     "elapsed": 219,
     "status": "ok",
     "timestamp": 1712245607793,
     "user": {
      "displayName": "Jairo Jaenz",
      "userId": "11145695540543017889"
     },
     "user_tz": 360
    },
    "id": "yTCZ6F95yhn2",
    "outputId": "818812e0-89ea-4832-b8fc-ab0bc0a8a805"
   },
   "outputs": [
    {
     "data": {
      "text/html": [
       "<div>\n",
       "<style scoped>\n",
       "    .dataframe tbody tr th:only-of-type {\n",
       "        vertical-align: middle;\n",
       "    }\n",
       "\n",
       "    .dataframe tbody tr th {\n",
       "        vertical-align: top;\n",
       "    }\n",
       "\n",
       "    .dataframe thead th {\n",
       "        text-align: right;\n",
       "    }\n",
       "</style>\n",
       "<table border=\"1\" class=\"dataframe\">\n",
       "  <thead>\n",
       "    <tr style=\"text-align: right;\">\n",
       "      <th></th>\n",
       "      <th>Revenue</th>\n",
       "      <th>Employees</th>\n",
       "      <th>City</th>\n",
       "      <th>Country</th>\n",
       "    </tr>\n",
       "    <tr>\n",
       "      <th>Company</th>\n",
       "      <th></th>\n",
       "      <th></th>\n",
       "      <th></th>\n",
       "      <th></th>\n",
       "    </tr>\n",
       "  </thead>\n",
       "  <tbody>\n",
       "    <tr>\n",
       "      <th>Sony</th>\n",
       "      <td>84893</td>\n",
       "      <td>109700</td>\n",
       "      <td>Tokyo</td>\n",
       "      <td>Japan</td>\n",
       "    </tr>\n",
       "    <tr>\n",
       "      <th>Hitachi</th>\n",
       "      <td>82345</td>\n",
       "      <td>350864</td>\n",
       "      <td>Tokyo</td>\n",
       "      <td>Japan</td>\n",
       "    </tr>\n",
       "    <tr>\n",
       "      <th>Intel</th>\n",
       "      <td>77867</td>\n",
       "      <td>110600</td>\n",
       "      <td>California</td>\n",
       "      <td>United States</td>\n",
       "    </tr>\n",
       "  </tbody>\n",
       "</table>\n",
       "</div>"
      ],
      "text/plain": [
       "         Revenue  Employees        City        Country\n",
       "Company                                               \n",
       "Sony       84893     109700       Tokyo          Japan\n",
       "Hitachi    82345     350864       Tokyo          Japan\n",
       "Intel      77867     110600  California  United States"
      ]
     },
     "execution_count": 46,
     "metadata": {},
     "output_type": "execute_result"
    }
   ],
   "source": [
    "df.loc['Sony':'Intel']"
   ]
  },
  {
   "cell_type": "code",
   "execution_count": 47,
   "metadata": {
    "colab": {
     "base_uri": "https://localhost:8080/"
    },
    "executionInfo": {
     "elapsed": 294,
     "status": "ok",
     "timestamp": 1712245729772,
     "user": {
      "displayName": "Jairo Jaenz",
      "userId": "11145695540543017889"
     },
     "user_tz": 360
    },
    "id": "KzIOt0zbyp_X",
    "outputId": "59cfc11d-5368-4fd5-c5e3-bfa8dd168950"
   },
   "outputs": [
    {
     "data": {
      "text/plain": [
       "Company\n",
       "Apple                  274515\n",
       "Samsung Electronics    200734\n",
       "Alphabet               182527\n",
       "Foxconn                181945\n",
       "Microsoft              143015\n",
       "Huawei                 129184\n",
       "Dell Technologies       92224\n",
       "Facebook                85965\n",
       "Sony                    84893\n",
       "Hitachi                 82345\n",
       "Intel                   77867\n",
       "IBM                     73620\n",
       "Tencent                 69864\n",
       "Panasonic               63191\n",
       "Lenovo                  60742\n",
       "HP Inc.                 56639\n",
       "LG Electronics          53625\n",
       "Name: Revenue, dtype: int64"
      ]
     },
     "execution_count": 47,
     "metadata": {},
     "output_type": "execute_result"
    }
   ],
   "source": [
    "df['Revenue'] #Equivalente a df.renueve"
   ]
  },
  {
   "cell_type": "code",
   "execution_count": 48,
   "metadata": {
    "colab": {
     "base_uri": "https://localhost:8080/",
     "height": 235
    },
    "executionInfo": {
     "elapsed": 245,
     "status": "ok",
     "timestamp": 1712245931558,
     "user": {
      "displayName": "Jairo Jaenz",
      "userId": "11145695540543017889"
     },
     "user_tz": 360
    },
    "id": "f_U2akpizsu6",
    "outputId": "00d91cc7-4d93-4566-8d06-ebcb0ef185f4"
   },
   "outputs": [
    {
     "data": {
      "text/html": [
       "<div>\n",
       "<style scoped>\n",
       "    .dataframe tbody tr th:only-of-type {\n",
       "        vertical-align: middle;\n",
       "    }\n",
       "\n",
       "    .dataframe tbody tr th {\n",
       "        vertical-align: top;\n",
       "    }\n",
       "\n",
       "    .dataframe thead th {\n",
       "        text-align: right;\n",
       "    }\n",
       "</style>\n",
       "<table border=\"1\" class=\"dataframe\">\n",
       "  <thead>\n",
       "    <tr style=\"text-align: right;\">\n",
       "      <th></th>\n",
       "      <th>Employees</th>\n",
       "      <th>City</th>\n",
       "    </tr>\n",
       "    <tr>\n",
       "      <th>Company</th>\n",
       "      <th></th>\n",
       "      <th></th>\n",
       "    </tr>\n",
       "  </thead>\n",
       "  <tbody>\n",
       "    <tr>\n",
       "      <th>Apple</th>\n",
       "      <td>147000</td>\n",
       "      <td>California</td>\n",
       "    </tr>\n",
       "    <tr>\n",
       "      <th>Samsung Electronics</th>\n",
       "      <td>267937</td>\n",
       "      <td>Suwon</td>\n",
       "    </tr>\n",
       "    <tr>\n",
       "      <th>Alphabet</th>\n",
       "      <td>135301</td>\n",
       "      <td>California</td>\n",
       "    </tr>\n",
       "    <tr>\n",
       "      <th>Foxconn</th>\n",
       "      <td>878429</td>\n",
       "      <td>New Taipei City</td>\n",
       "    </tr>\n",
       "    <tr>\n",
       "      <th>Microsoft</th>\n",
       "      <td>163000</td>\n",
       "      <td>Washington</td>\n",
       "    </tr>\n",
       "  </tbody>\n",
       "</table>\n",
       "</div>"
      ],
      "text/plain": [
       "                     Employees             City\n",
       "Company                                        \n",
       "Apple                   147000       California\n",
       "Samsung Electronics     267937            Suwon\n",
       "Alphabet                135301       California\n",
       "Foxconn                 878429  New Taipei City\n",
       "Microsoft               163000       Washington"
      ]
     },
     "execution_count": 48,
     "metadata": {},
     "output_type": "execute_result"
    }
   ],
   "source": [
    "\n",
    "#se pueden seleccionar varias columnas a la vez pasando por una lista\n",
    "\n",
    "df[['Employees','City']].head()"
   ]
  },
  {
   "cell_type": "code",
   "execution_count": 49,
   "metadata": {
    "colab": {
     "base_uri": "https://localhost:8080/",
     "height": 235
    },
    "executionInfo": {
     "elapsed": 224,
     "status": "ok",
     "timestamp": 1712246115623,
     "user": {
      "displayName": "Jairo Jaenz",
      "userId": "11145695540543017889"
     },
     "user_tz": 360
    },
    "id": "kUgqjQmoz4jj",
    "outputId": "6e31e7da-f8ec-4d28-e9f2-08c0b0f97021"
   },
   "outputs": [
    {
     "data": {
      "text/html": [
       "<div>\n",
       "<style scoped>\n",
       "    .dataframe tbody tr th:only-of-type {\n",
       "        vertical-align: middle;\n",
       "    }\n",
       "\n",
       "    .dataframe tbody tr th {\n",
       "        vertical-align: top;\n",
       "    }\n",
       "\n",
       "    .dataframe thead th {\n",
       "        text-align: right;\n",
       "    }\n",
       "</style>\n",
       "<table border=\"1\" class=\"dataframe\">\n",
       "  <thead>\n",
       "    <tr style=\"text-align: right;\">\n",
       "      <th></th>\n",
       "      <th>City</th>\n",
       "      <th>Country</th>\n",
       "      <th>Revenue</th>\n",
       "      <th>Employees</th>\n",
       "    </tr>\n",
       "    <tr>\n",
       "      <th>Company</th>\n",
       "      <th></th>\n",
       "      <th></th>\n",
       "      <th></th>\n",
       "      <th></th>\n",
       "    </tr>\n",
       "  </thead>\n",
       "  <tbody>\n",
       "    <tr>\n",
       "      <th>Apple</th>\n",
       "      <td>California</td>\n",
       "      <td>United States</td>\n",
       "      <td>274515</td>\n",
       "      <td>147000</td>\n",
       "    </tr>\n",
       "    <tr>\n",
       "      <th>Samsung Electronics</th>\n",
       "      <td>Suwon</td>\n",
       "      <td>South Korea</td>\n",
       "      <td>200734</td>\n",
       "      <td>267937</td>\n",
       "    </tr>\n",
       "    <tr>\n",
       "      <th>Alphabet</th>\n",
       "      <td>California</td>\n",
       "      <td>United States</td>\n",
       "      <td>182527</td>\n",
       "      <td>135301</td>\n",
       "    </tr>\n",
       "    <tr>\n",
       "      <th>Foxconn</th>\n",
       "      <td>New Taipei City</td>\n",
       "      <td>Taiwan</td>\n",
       "      <td>181945</td>\n",
       "      <td>878429</td>\n",
       "    </tr>\n",
       "    <tr>\n",
       "      <th>Microsoft</th>\n",
       "      <td>Washington</td>\n",
       "      <td>United States</td>\n",
       "      <td>143015</td>\n",
       "      <td>163000</td>\n",
       "    </tr>\n",
       "  </tbody>\n",
       "</table>\n",
       "</div>"
      ],
      "text/plain": [
       "                                City        Country  Revenue  Employees\n",
       "Company                                                                \n",
       "Apple                     California  United States   274515     147000\n",
       "Samsung Electronics            Suwon    South Korea   200734     267937\n",
       "Alphabet                  California  United States   182527     135301\n",
       "Foxconn              New Taipei City         Taiwan   181945     878429\n",
       "Microsoft                 Washington  United States   143015     163000"
      ]
     },
     "execution_count": 49,
     "metadata": {},
     "output_type": "execute_result"
    }
   ],
   "source": [
    "# Reordenacion de columnas de un dataframe\n",
    "df_reordered = df[['City','Country','Revenue','Employees']]\n",
    "df_reordered.head()"
   ]
  },
  {
   "cell_type": "code",
   "execution_count": 50,
   "metadata": {
    "colab": {
     "base_uri": "https://localhost:8080/",
     "height": 235
    },
    "executionInfo": {
     "elapsed": 252,
     "status": "ok",
     "timestamp": 1712246168445,
     "user": {
      "displayName": "Jairo Jaenz",
      "userId": "11145695540543017889"
     },
     "user_tz": 360
    },
    "id": "4gognjbb0rBo",
    "outputId": "db8595d3-e937-4cb8-90bc-32cb13fd4f52"
   },
   "outputs": [
    {
     "data": {
      "text/html": [
       "<div>\n",
       "<style scoped>\n",
       "    .dataframe tbody tr th:only-of-type {\n",
       "        vertical-align: middle;\n",
       "    }\n",
       "\n",
       "    .dataframe tbody tr th {\n",
       "        vertical-align: top;\n",
       "    }\n",
       "\n",
       "    .dataframe thead th {\n",
       "        text-align: right;\n",
       "    }\n",
       "</style>\n",
       "<table border=\"1\" class=\"dataframe\">\n",
       "  <thead>\n",
       "    <tr style=\"text-align: right;\">\n",
       "      <th></th>\n",
       "      <th>Revenue</th>\n",
       "      <th>Employees</th>\n",
       "      <th>City</th>\n",
       "      <th>Country</th>\n",
       "    </tr>\n",
       "    <tr>\n",
       "      <th>Company</th>\n",
       "      <th></th>\n",
       "      <th></th>\n",
       "      <th></th>\n",
       "      <th></th>\n",
       "    </tr>\n",
       "  </thead>\n",
       "  <tbody>\n",
       "    <tr>\n",
       "      <th>Apple</th>\n",
       "      <td>274515</td>\n",
       "      <td>147000</td>\n",
       "      <td>California</td>\n",
       "      <td>United States</td>\n",
       "    </tr>\n",
       "    <tr>\n",
       "      <th>Samsung Electronics</th>\n",
       "      <td>200734</td>\n",
       "      <td>267937</td>\n",
       "      <td>Suwon</td>\n",
       "      <td>South Korea</td>\n",
       "    </tr>\n",
       "    <tr>\n",
       "      <th>Alphabet</th>\n",
       "      <td>182527</td>\n",
       "      <td>135301</td>\n",
       "      <td>California</td>\n",
       "      <td>United States</td>\n",
       "    </tr>\n",
       "    <tr>\n",
       "      <th>Foxconn</th>\n",
       "      <td>181945</td>\n",
       "      <td>878429</td>\n",
       "      <td>New Taipei City</td>\n",
       "      <td>Taiwan</td>\n",
       "    </tr>\n",
       "    <tr>\n",
       "      <th>Microsoft</th>\n",
       "      <td>143015</td>\n",
       "      <td>163000</td>\n",
       "      <td>Washington</td>\n",
       "      <td>United States</td>\n",
       "    </tr>\n",
       "  </tbody>\n",
       "</table>\n",
       "</div>"
      ],
      "text/plain": [
       "                     Revenue  Employees             City        Country\n",
       "Company                                                                \n",
       "Apple                 274515     147000       California  United States\n",
       "Samsung Electronics   200734     267937            Suwon    South Korea\n",
       "Alphabet              182527     135301       California  United States\n",
       "Foxconn               181945     878429  New Taipei City         Taiwan\n",
       "Microsoft             143015     163000       Washington  United States"
      ]
     },
     "execution_count": 50,
     "metadata": {},
     "output_type": "execute_result"
    }
   ],
   "source": [
    "# acceso a filas y colummnas\n",
    "df.head()"
   ]
  },
  {
   "cell_type": "code",
   "execution_count": 51,
   "metadata": {
    "colab": {
     "base_uri": "https://localhost:8080/"
    },
    "executionInfo": {
     "elapsed": 227,
     "status": "ok",
     "timestamp": 1712246228034,
     "user": {
      "displayName": "Jairo Jaenz",
      "userId": "11145695540543017889"
     },
     "user_tz": 360
    },
    "id": "xBsJry8_0z-h",
    "outputId": "42f2a646-2f79-454d-b485-f1995a4a11ca"
   },
   "outputs": [
    {
     "data": {
      "text/plain": [
       "274515"
      ]
     },
     "execution_count": 51,
     "metadata": {},
     "output_type": "execute_result"
    }
   ],
   "source": [
    "# acceso al primer valor de numero de empleados\n",
    "df.iloc[0,0]"
   ]
  },
  {
   "cell_type": "code",
   "execution_count": 52,
   "metadata": {
    "colab": {
     "base_uri": "https://localhost:8080/",
     "height": 173
    },
    "executionInfo": {
     "elapsed": 217,
     "status": "ok",
     "timestamp": 1712246415652,
     "user": {
      "displayName": "Jairo Jaenz",
      "userId": "11145695540543017889"
     },
     "user_tz": 360
    },
    "id": "vZ8vHFKa1Rn6",
    "outputId": "d327ee00-c2e9-49f3-fb6e-f5baf6bcce04"
   },
   "outputs": [
    {
     "data": {
      "text/html": [
       "<div>\n",
       "<style scoped>\n",
       "    .dataframe tbody tr th:only-of-type {\n",
       "        vertical-align: middle;\n",
       "    }\n",
       "\n",
       "    .dataframe tbody tr th {\n",
       "        vertical-align: top;\n",
       "    }\n",
       "\n",
       "    .dataframe thead th {\n",
       "        text-align: right;\n",
       "    }\n",
       "</style>\n",
       "<table border=\"1\" class=\"dataframe\">\n",
       "  <thead>\n",
       "    <tr style=\"text-align: right;\">\n",
       "      <th></th>\n",
       "      <th>City</th>\n",
       "      <th>Country</th>\n",
       "    </tr>\n",
       "    <tr>\n",
       "      <th>Company</th>\n",
       "      <th></th>\n",
       "      <th></th>\n",
       "    </tr>\n",
       "  </thead>\n",
       "  <tbody>\n",
       "    <tr>\n",
       "      <th>Sony</th>\n",
       "      <td>Tokyo</td>\n",
       "      <td>Japan</td>\n",
       "    </tr>\n",
       "    <tr>\n",
       "      <th>Panasonic</th>\n",
       "      <td>Osaka</td>\n",
       "      <td>Japan</td>\n",
       "    </tr>\n",
       "    <tr>\n",
       "      <th>Lenovo</th>\n",
       "      <td>Hong Kong</td>\n",
       "      <td>China</td>\n",
       "    </tr>\n",
       "  </tbody>\n",
       "</table>\n",
       "</div>"
      ],
      "text/plain": [
       "                City Country\n",
       "Company                     \n",
       "Sony           Tokyo   Japan\n",
       "Panasonic      Osaka   Japan\n",
       "Lenovo     Hong Kong   China"
      ]
     },
     "execution_count": 52,
     "metadata": {},
     "output_type": "execute_result"
    }
   ],
   "source": [
    "# Acceso a ciudad y pais de las emmpresas sony, panasonic y lenovo\n",
    "df.loc[['Sony','Panasonic','Lenovo'],['City','Country']]"
   ]
  },
  {
   "cell_type": "code",
   "execution_count": 53,
   "metadata": {
    "colab": {
     "base_uri": "https://localhost:8080/"
    },
    "executionInfo": {
     "elapsed": 216,
     "status": "ok",
     "timestamp": 1712246579098,
     "user": {
      "displayName": "Jairo Jaenz",
      "userId": "11145695540543017889"
     },
     "user_tz": 360
    },
    "id": "0EBk1iKC2JWp",
    "outputId": "00eb3bb4-e22d-45cf-bb33-3d83f3317bbc"
   },
   "outputs": [
    {
     "data": {
      "text/plain": [
       "Company\n",
       "Apple                  United States\n",
       "Samsung Electronics      South Korea\n",
       "Alphabet               United States\n",
       "Foxconn                       Taiwan\n",
       "Microsoft              United States\n",
       "Huawei                         China\n",
       "Dell Technologies      United States\n",
       "Facebook               United States\n",
       "Sony                           Japan\n",
       "Hitachi                        Japan\n",
       "Intel                  United States\n",
       "IBM                    United States\n",
       "Tencent                        China\n",
       "Panasonic                      Japan\n",
       "Lenovo                         China\n",
       "HP Inc.                United States\n",
       "LG Electronics           South Korea\n",
       "Name: Country, dtype: object"
      ]
     },
     "execution_count": 53,
     "metadata": {},
     "output_type": "execute_result"
    }
   ],
   "source": [
    "# Acceso a la ultima fila del dataframe\n",
    "df.iloc[:,-1]"
   ]
  },
  {
   "cell_type": "code",
   "execution_count": 54,
   "metadata": {
    "colab": {
     "base_uri": "https://localhost:8080/",
     "height": 173
    },
    "executionInfo": {
     "elapsed": 231,
     "status": "ok",
     "timestamp": 1712246718250,
     "user": {
      "displayName": "Jairo Jaenz",
      "userId": "11145695540543017889"
     },
     "user_tz": 360
    },
    "id": "Ex0s4KVr2xbs",
    "outputId": "32589e8d-90c6-462e-f77b-06070cb3fb39"
   },
   "outputs": [
    {
     "data": {
      "text/html": [
       "<div>\n",
       "<style scoped>\n",
       "    .dataframe tbody tr th:only-of-type {\n",
       "        vertical-align: middle;\n",
       "    }\n",
       "\n",
       "    .dataframe tbody tr th {\n",
       "        vertical-align: top;\n",
       "    }\n",
       "\n",
       "    .dataframe thead th {\n",
       "        text-align: right;\n",
       "    }\n",
       "</style>\n",
       "<table border=\"1\" class=\"dataframe\">\n",
       "  <thead>\n",
       "    <tr style=\"text-align: right;\">\n",
       "      <th></th>\n",
       "      <th>Revenue</th>\n",
       "      <th>Employees</th>\n",
       "    </tr>\n",
       "    <tr>\n",
       "      <th>Company</th>\n",
       "      <th></th>\n",
       "      <th></th>\n",
       "    </tr>\n",
       "  </thead>\n",
       "  <tbody>\n",
       "    <tr>\n",
       "      <th>Lenovo</th>\n",
       "      <td>60742</td>\n",
       "      <td>71500</td>\n",
       "    </tr>\n",
       "    <tr>\n",
       "      <th>HP Inc.</th>\n",
       "      <td>56639</td>\n",
       "      <td>53000</td>\n",
       "    </tr>\n",
       "    <tr>\n",
       "      <th>LG Electronics</th>\n",
       "      <td>53625</td>\n",
       "      <td>75000</td>\n",
       "    </tr>\n",
       "  </tbody>\n",
       "</table>\n",
       "</div>"
      ],
      "text/plain": [
       "                Revenue  Employees\n",
       "Company                           \n",
       "Lenovo            60742      71500\n",
       "HP Inc.           56639      53000\n",
       "LG Electronics    53625      75000"
      ]
     },
     "execution_count": 54,
     "metadata": {},
     "output_type": "execute_result"
    }
   ],
   "source": [
    "#Acceso a las tres ultimas columnas y a dos primeras columnas\n",
    "\n",
    "df.iloc[-3:,:2]"
   ]
  },
  {
   "cell_type": "code",
   "execution_count": 55,
   "metadata": {
    "colab": {
     "base_uri": "https://localhost:8080/",
     "height": 266
    },
    "executionInfo": {
     "elapsed": 892,
     "status": "ok",
     "timestamp": 1712247026706,
     "user": {
      "displayName": "Jairo Jaenz",
      "userId": "11145695540543017889"
     },
     "user_tz": 360
    },
    "id": "nztTydcI25cA",
    "outputId": "52a22b33-cd97-4b1d-8a39-fed7f181724d"
   },
   "outputs": [
    {
     "data": {
      "text/html": [
       "<div>\n",
       "<style scoped>\n",
       "    .dataframe tbody tr th:only-of-type {\n",
       "        vertical-align: middle;\n",
       "    }\n",
       "\n",
       "    .dataframe tbody tr th {\n",
       "        vertical-align: top;\n",
       "    }\n",
       "\n",
       "    .dataframe thead th {\n",
       "        text-align: right;\n",
       "    }\n",
       "</style>\n",
       "<table border=\"1\" class=\"dataframe\">\n",
       "  <thead>\n",
       "    <tr style=\"text-align: right;\">\n",
       "      <th></th>\n",
       "      <th>Revenue</th>\n",
       "      <th>Employees</th>\n",
       "      <th>City</th>\n",
       "    </tr>\n",
       "    <tr>\n",
       "      <th>Company</th>\n",
       "      <th></th>\n",
       "      <th></th>\n",
       "      <th></th>\n",
       "    </tr>\n",
       "  </thead>\n",
       "  <tbody>\n",
       "    <tr>\n",
       "      <th>Apple</th>\n",
       "      <td>274515</td>\n",
       "      <td>147000</td>\n",
       "      <td>California</td>\n",
       "    </tr>\n",
       "    <tr>\n",
       "      <th>Samsung Electronics</th>\n",
       "      <td>200734</td>\n",
       "      <td>267937</td>\n",
       "      <td>Suwon</td>\n",
       "    </tr>\n",
       "    <tr>\n",
       "      <th>Alphabet</th>\n",
       "      <td>182527</td>\n",
       "      <td>135301</td>\n",
       "      <td>California</td>\n",
       "    </tr>\n",
       "    <tr>\n",
       "      <th>Foxconn</th>\n",
       "      <td>181945</td>\n",
       "      <td>878429</td>\n",
       "      <td>New Taipei City</td>\n",
       "    </tr>\n",
       "    <tr>\n",
       "      <th>Microsoft</th>\n",
       "      <td>143015</td>\n",
       "      <td>163000</td>\n",
       "      <td>Washington</td>\n",
       "    </tr>\n",
       "    <tr>\n",
       "      <th>Huawei</th>\n",
       "      <td>129184</td>\n",
       "      <td>197000</td>\n",
       "      <td>Shenzhen</td>\n",
       "    </tr>\n",
       "  </tbody>\n",
       "</table>\n",
       "</div>"
      ],
      "text/plain": [
       "                     Revenue  Employees             City\n",
       "Company                                                 \n",
       "Apple                 274515     147000       California\n",
       "Samsung Electronics   200734     267937            Suwon\n",
       "Alphabet              182527     135301       California\n",
       "Foxconn               181945     878429  New Taipei City\n",
       "Microsoft             143015     163000       Washington\n",
       "Huawei                129184     197000         Shenzhen"
      ]
     },
     "execution_count": 55,
     "metadata": {},
     "output_type": "execute_result"
    }
   ],
   "source": [
    "# acceso desde las filas que van desde <Apple> a <Huawei>  y a columnas que van desde\n",
    "# <Revenue> a <City>\n",
    "df.loc['Apple':'Huawei','Revenue':'City']"
   ]
  },
  {
   "cell_type": "code",
   "execution_count": 56,
   "metadata": {
    "colab": {
     "base_uri": "https://localhost:8080/"
    },
    "executionInfo": {
     "elapsed": 244,
     "status": "ok",
     "timestamp": 1712247464069,
     "user": {
      "displayName": "Jairo Jaenz",
      "userId": "11145695540543017889"
     },
     "user_tz": 360
    },
    "id": "tCYI5Mr8479g",
    "outputId": "a8b6bfd2-5f01-471f-c9db-3ac8a4d5e1fa"
   },
   "outputs": [
    {
     "data": {
      "text/plain": [
       "Company\n",
       "Apple                   True\n",
       "Samsung Electronics    False\n",
       "Alphabet                True\n",
       "Foxconn                False\n",
       "Microsoft               True\n",
       "Huawei                 False\n",
       "Dell Technologies       True\n",
       "Facebook                True\n",
       "Sony                   False\n",
       "Hitachi                False\n",
       "Intel                   True\n",
       "IBM                     True\n",
       "Tencent                False\n",
       "Panasonic              False\n",
       "Lenovo                 False\n",
       "HP Inc.                 True\n",
       "LG Electronics         False\n",
       "Name: Country, dtype: bool"
      ]
     },
     "execution_count": 56,
     "metadata": {},
     "output_type": "execute_result"
    }
   ],
   "source": [
    "# Seleccion condicional\n",
    "df['Country']=='United States'"
   ]
  },
  {
   "cell_type": "code",
   "execution_count": 57,
   "metadata": {
    "colab": {
     "base_uri": "https://localhost:8080/",
     "height": 328
    },
    "executionInfo": {
     "elapsed": 282,
     "status": "ok",
     "timestamp": 1712247592700,
     "user": {
      "displayName": "Jairo Jaenz",
      "userId": "11145695540543017889"
     },
     "user_tz": 360
    },
    "id": "7ghHk9S_50tP",
    "outputId": "7b9153ae-4249-4285-f7fe-51a333d56f93"
   },
   "outputs": [
    {
     "data": {
      "text/html": [
       "<div>\n",
       "<style scoped>\n",
       "    .dataframe tbody tr th:only-of-type {\n",
       "        vertical-align: middle;\n",
       "    }\n",
       "\n",
       "    .dataframe tbody tr th {\n",
       "        vertical-align: top;\n",
       "    }\n",
       "\n",
       "    .dataframe thead th {\n",
       "        text-align: right;\n",
       "    }\n",
       "</style>\n",
       "<table border=\"1\" class=\"dataframe\">\n",
       "  <thead>\n",
       "    <tr style=\"text-align: right;\">\n",
       "      <th></th>\n",
       "      <th>Revenue</th>\n",
       "      <th>Employees</th>\n",
       "      <th>City</th>\n",
       "      <th>Country</th>\n",
       "    </tr>\n",
       "    <tr>\n",
       "      <th>Company</th>\n",
       "      <th></th>\n",
       "      <th></th>\n",
       "      <th></th>\n",
       "      <th></th>\n",
       "    </tr>\n",
       "  </thead>\n",
       "  <tbody>\n",
       "    <tr>\n",
       "      <th>Apple</th>\n",
       "      <td>274515</td>\n",
       "      <td>147000</td>\n",
       "      <td>California</td>\n",
       "      <td>United States</td>\n",
       "    </tr>\n",
       "    <tr>\n",
       "      <th>Alphabet</th>\n",
       "      <td>182527</td>\n",
       "      <td>135301</td>\n",
       "      <td>California</td>\n",
       "      <td>United States</td>\n",
       "    </tr>\n",
       "    <tr>\n",
       "      <th>Microsoft</th>\n",
       "      <td>143015</td>\n",
       "      <td>163000</td>\n",
       "      <td>Washington</td>\n",
       "      <td>United States</td>\n",
       "    </tr>\n",
       "    <tr>\n",
       "      <th>Dell Technologies</th>\n",
       "      <td>92224</td>\n",
       "      <td>158000</td>\n",
       "      <td>Texas</td>\n",
       "      <td>United States</td>\n",
       "    </tr>\n",
       "    <tr>\n",
       "      <th>Facebook</th>\n",
       "      <td>85965</td>\n",
       "      <td>58604</td>\n",
       "      <td>California</td>\n",
       "      <td>United States</td>\n",
       "    </tr>\n",
       "    <tr>\n",
       "      <th>Intel</th>\n",
       "      <td>77867</td>\n",
       "      <td>110600</td>\n",
       "      <td>California</td>\n",
       "      <td>United States</td>\n",
       "    </tr>\n",
       "    <tr>\n",
       "      <th>IBM</th>\n",
       "      <td>73620</td>\n",
       "      <td>364800</td>\n",
       "      <td>New York</td>\n",
       "      <td>United States</td>\n",
       "    </tr>\n",
       "    <tr>\n",
       "      <th>HP Inc.</th>\n",
       "      <td>56639</td>\n",
       "      <td>53000</td>\n",
       "      <td>California</td>\n",
       "      <td>United States</td>\n",
       "    </tr>\n",
       "  </tbody>\n",
       "</table>\n",
       "</div>"
      ],
      "text/plain": [
       "                   Revenue  Employees        City        Country\n",
       "Company                                                         \n",
       "Apple               274515     147000  California  United States\n",
       "Alphabet            182527     135301  California  United States\n",
       "Microsoft           143015     163000  Washington  United States\n",
       "Dell Technologies    92224     158000       Texas  United States\n",
       "Facebook             85965      58604  California  United States\n",
       "Intel                77867     110600  California  United States\n",
       "IBM                  73620     364800    New York  United States\n",
       "HP Inc.              56639      53000  California  United States"
      ]
     },
     "execution_count": 57,
     "metadata": {},
     "output_type": "execute_result"
    }
   ],
   "source": [
    "# Aplicando mascara al conjunto original de datos 📊  para obtener las empresas\n",
    "# que estamos buscando\n",
    "df[df['Country']=='United States']"
   ]
  },
  {
   "cell_type": "code",
   "execution_count": 58,
   "metadata": {
    "colab": {
     "base_uri": "https://localhost:8080/",
     "height": 266
    },
    "executionInfo": {
     "elapsed": 280,
     "status": "ok",
     "timestamp": 1712247892071,
     "user": {
      "displayName": "Jairo Jaenz",
      "userId": "11145695540543017889"
     },
     "user_tz": 360
    },
    "id": "3pAqpKC-6Y8R",
    "outputId": "aab03643-4354-4053-add6-574024b6bde0"
   },
   "outputs": [
    {
     "data": {
      "text/html": [
       "<div>\n",
       "<style scoped>\n",
       "    .dataframe tbody tr th:only-of-type {\n",
       "        vertical-align: middle;\n",
       "    }\n",
       "\n",
       "    .dataframe tbody tr th {\n",
       "        vertical-align: top;\n",
       "    }\n",
       "\n",
       "    .dataframe thead th {\n",
       "        text-align: right;\n",
       "    }\n",
       "</style>\n",
       "<table border=\"1\" class=\"dataframe\">\n",
       "  <thead>\n",
       "    <tr style=\"text-align: right;\">\n",
       "      <th></th>\n",
       "      <th>Revenue</th>\n",
       "      <th>Employees</th>\n",
       "      <th>City</th>\n",
       "      <th>Country</th>\n",
       "    </tr>\n",
       "    <tr>\n",
       "      <th>Company</th>\n",
       "      <th></th>\n",
       "      <th></th>\n",
       "      <th></th>\n",
       "      <th></th>\n",
       "    </tr>\n",
       "  </thead>\n",
       "  <tbody>\n",
       "    <tr>\n",
       "      <th>Apple</th>\n",
       "      <td>274515</td>\n",
       "      <td>147000</td>\n",
       "      <td>California</td>\n",
       "      <td>United States</td>\n",
       "    </tr>\n",
       "    <tr>\n",
       "      <th>Samsung Electronics</th>\n",
       "      <td>200734</td>\n",
       "      <td>267937</td>\n",
       "      <td>Suwon</td>\n",
       "      <td>South Korea</td>\n",
       "    </tr>\n",
       "    <tr>\n",
       "      <th>Alphabet</th>\n",
       "      <td>182527</td>\n",
       "      <td>135301</td>\n",
       "      <td>California</td>\n",
       "      <td>United States</td>\n",
       "    </tr>\n",
       "    <tr>\n",
       "      <th>Foxconn</th>\n",
       "      <td>181945</td>\n",
       "      <td>878429</td>\n",
       "      <td>New Taipei City</td>\n",
       "      <td>Taiwan</td>\n",
       "    </tr>\n",
       "    <tr>\n",
       "      <th>Microsoft</th>\n",
       "      <td>143015</td>\n",
       "      <td>163000</td>\n",
       "      <td>Washington</td>\n",
       "      <td>United States</td>\n",
       "    </tr>\n",
       "    <tr>\n",
       "      <th>Huawei</th>\n",
       "      <td>129184</td>\n",
       "      <td>197000</td>\n",
       "      <td>Shenzhen</td>\n",
       "      <td>China</td>\n",
       "    </tr>\n",
       "  </tbody>\n",
       "</table>\n",
       "</div>"
      ],
      "text/plain": [
       "                     Revenue  Employees             City        Country\n",
       "Company                                                                \n",
       "Apple                 274515     147000       California  United States\n",
       "Samsung Electronics   200734     267937            Suwon    South Korea\n",
       "Alphabet              182527     135301       California  United States\n",
       "Foxconn               181945     878429  New Taipei City         Taiwan\n",
       "Microsoft             143015     163000       Washington  United States\n",
       "Huawei                129184     197000         Shenzhen          China"
      ]
     },
     "execution_count": 58,
     "metadata": {},
     "output_type": "execute_result"
    }
   ],
   "source": [
    "# condiciones compuestas\n",
    "revenue_condition = df['Revenue'] > 100_000 # Seleccionar emmpresas con mas de 100 millones de ingresos\n",
    "employees_condition = df['Employees']> 100000 # Seleccionar emmpresas con mas de 100 millones de empleados\n",
    "df[revenue_condition & employees_condition] # Operador logico para combinar condiciones de seleccion"
   ]
  },
  {
   "cell_type": "code",
   "execution_count": 59,
   "metadata": {
    "colab": {
     "base_uri": "https://localhost:8080/",
     "height": 235
    },
    "executionInfo": {
     "elapsed": 241,
     "status": "ok",
     "timestamp": 1712248520001,
     "user": {
      "displayName": "Jairo Jaenz",
      "userId": "11145695540543017889"
     },
     "user_tz": 360
    },
    "id": "xzfOXrAh9kkg",
    "outputId": "ccb8c1cb-9abb-44d8-ce07-b8e8cce4f1a6"
   },
   "outputs": [
    {
     "data": {
      "text/html": [
       "<div>\n",
       "<style scoped>\n",
       "    .dataframe tbody tr th:only-of-type {\n",
       "        vertical-align: middle;\n",
       "    }\n",
       "\n",
       "    .dataframe tbody tr th {\n",
       "        vertical-align: top;\n",
       "    }\n",
       "\n",
       "    .dataframe thead th {\n",
       "        text-align: right;\n",
       "    }\n",
       "</style>\n",
       "<table border=\"1\" class=\"dataframe\">\n",
       "  <thead>\n",
       "    <tr style=\"text-align: right;\">\n",
       "      <th></th>\n",
       "      <th>Revenue</th>\n",
       "      <th>Employees</th>\n",
       "      <th>City</th>\n",
       "      <th>Country</th>\n",
       "    </tr>\n",
       "    <tr>\n",
       "      <th>Company</th>\n",
       "      <th></th>\n",
       "      <th></th>\n",
       "      <th></th>\n",
       "      <th></th>\n",
       "    </tr>\n",
       "  </thead>\n",
       "  <tbody>\n",
       "    <tr>\n",
       "      <th>Apple</th>\n",
       "      <td>274515</td>\n",
       "      <td>147000</td>\n",
       "      <td>California</td>\n",
       "      <td>United States</td>\n",
       "    </tr>\n",
       "    <tr>\n",
       "      <th>Alphabet</th>\n",
       "      <td>182527</td>\n",
       "      <td>135301</td>\n",
       "      <td>California</td>\n",
       "      <td>United States</td>\n",
       "    </tr>\n",
       "    <tr>\n",
       "      <th>Facebook</th>\n",
       "      <td>85965</td>\n",
       "      <td>58604</td>\n",
       "      <td>California</td>\n",
       "      <td>United States</td>\n",
       "    </tr>\n",
       "    <tr>\n",
       "      <th>Intel</th>\n",
       "      <td>77867</td>\n",
       "      <td>110600</td>\n",
       "      <td>California</td>\n",
       "      <td>United States</td>\n",
       "    </tr>\n",
       "    <tr>\n",
       "      <th>HP Inc.</th>\n",
       "      <td>56639</td>\n",
       "      <td>53000</td>\n",
       "      <td>California</td>\n",
       "      <td>United States</td>\n",
       "    </tr>\n",
       "  </tbody>\n",
       "</table>\n",
       "</div>"
      ],
      "text/plain": [
       "          Revenue  Employees        City        Country\n",
       "Company                                                \n",
       "Apple      274515     147000  California  United States\n",
       "Alphabet   182527     135301  California  United States\n",
       "Facebook    85965      58604  California  United States\n",
       "Intel       77867     110600  California  United States\n",
       "HP Inc.     56639      53000  California  United States"
      ]
     },
     "execution_count": 59,
     "metadata": {},
     "output_type": "execute_result"
    }
   ],
   "source": [
    "# Comprobar sin un valor está dentro de una lista de  opciones\n",
    "mask = df['City'].isin(['California','Tokio'])\n",
    "df[mask]"
   ]
  },
  {
   "cell_type": "markdown",
   "metadata": {
    "id": "gYq5lYfe-cXS"
   },
   "source": [
    "## Ejercicios"
   ]
  },
  {
   "cell_type": "markdown",
   "metadata": {
    "id": "cB7XtYsf-aOw"
   },
   "source": []
  },
  {
   "cell_type": "code",
   "execution_count": 60,
   "metadata": {
    "colab": {
     "base_uri": "https://localhost:8080/",
     "height": 316
    },
    "executionInfo": {
     "elapsed": 256,
     "status": "error",
     "timestamp": 1712250932653,
     "user": {
      "displayName": "Jairo Jaenz",
      "userId": "11145695540543017889"
     },
     "user_tz": 360
    },
    "id": "4BKXrKwiAvFd",
    "outputId": "576d2597-703d-4b6b-af3c-04659d51b019"
   },
   "outputs": [
    {
     "data": {
      "text/html": [
       "<div>\n",
       "<style scoped>\n",
       "    .dataframe tbody tr th:only-of-type {\n",
       "        vertical-align: middle;\n",
       "    }\n",
       "\n",
       "    .dataframe tbody tr th {\n",
       "        vertical-align: top;\n",
       "    }\n",
       "\n",
       "    .dataframe thead th {\n",
       "        text-align: right;\n",
       "    }\n",
       "</style>\n",
       "<table border=\"1\" class=\"dataframe\">\n",
       "  <thead>\n",
       "    <tr style=\"text-align: right;\">\n",
       "      <th></th>\n",
       "      <th>Population</th>\n",
       "      <th>Area</th>\n",
       "      <th>Province</th>\n",
       "    </tr>\n",
       "    <tr>\n",
       "      <th>Island</th>\n",
       "      <th></th>\n",
       "      <th></th>\n",
       "      <th></th>\n",
       "    </tr>\n",
       "  </thead>\n",
       "  <tbody>\n",
       "    <tr>\n",
       "      <th>Gran Canaria</th>\n",
       "      <td>855521</td>\n",
       "      <td>1560.10</td>\n",
       "      <td>LPGC</td>\n",
       "    </tr>\n",
       "    <tr>\n",
       "      <th>Tenerife</th>\n",
       "      <td>928604</td>\n",
       "      <td>2034.38</td>\n",
       "      <td>SCTF</td>\n",
       "    </tr>\n",
       "    <tr>\n",
       "      <th>La Palma</th>\n",
       "      <td>83458</td>\n",
       "      <td>708.32</td>\n",
       "      <td>SCTF</td>\n",
       "    </tr>\n",
       "    <tr>\n",
       "      <th>Lanzarote</th>\n",
       "      <td>155812</td>\n",
       "      <td>845.94</td>\n",
       "      <td>LPGC</td>\n",
       "    </tr>\n",
       "    <tr>\n",
       "      <th>La Gomera</th>\n",
       "      <td>21678</td>\n",
       "      <td>369.76</td>\n",
       "      <td>SCTF</td>\n",
       "    </tr>\n",
       "    <tr>\n",
       "      <th>El Hierro</th>\n",
       "      <td>11147</td>\n",
       "      <td>278.71</td>\n",
       "      <td>SCTF</td>\n",
       "    </tr>\n",
       "    <tr>\n",
       "      <th>Fuerteventura</th>\n",
       "      <td>119732</td>\n",
       "      <td>1659.00</td>\n",
       "      <td>LPGC</td>\n",
       "    </tr>\n",
       "  </tbody>\n",
       "</table>\n",
       "</div>"
      ],
      "text/plain": [
       "               Population     Area Province\n",
       "Island                                     \n",
       "Gran Canaria       855521  1560.10     LPGC\n",
       "Tenerife           928604  2034.38     SCTF\n",
       "La Palma            83458   708.32     SCTF\n",
       "Lanzarote          155812   845.94     LPGC\n",
       "La Gomera           21678   369.76     SCTF\n",
       "El Hierro           11147   278.71     SCTF\n",
       "Fuerteventura      119732  1659.00     LPGC"
      ]
     },
     "execution_count": 60,
     "metadata": {},
     "output_type": "execute_result"
    }
   ],
   "source": [
    "# Ejercicio  1 ->\n",
    "dmc2 = pd.read_csv(\"democan.csv\",index_col=\"Island\")\n",
    "dmc2"
   ]
  },
  {
   "cell_type": "code",
   "execution_count": 61,
   "metadata": {},
   "outputs": [
    {
     "data": {
      "text/html": [
       "<div>\n",
       "<style scoped>\n",
       "    .dataframe tbody tr th:only-of-type {\n",
       "        vertical-align: middle;\n",
       "    }\n",
       "\n",
       "    .dataframe tbody tr th {\n",
       "        vertical-align: top;\n",
       "    }\n",
       "\n",
       "    .dataframe thead th {\n",
       "        text-align: right;\n",
       "    }\n",
       "</style>\n",
       "<table border=\"1\" class=\"dataframe\">\n",
       "  <thead>\n",
       "    <tr style=\"text-align: right;\">\n",
       "      <th></th>\n",
       "      <th>Population</th>\n",
       "      <th>Area</th>\n",
       "      <th>Province</th>\n",
       "    </tr>\n",
       "    <tr>\n",
       "      <th>Island</th>\n",
       "      <th></th>\n",
       "      <th></th>\n",
       "      <th></th>\n",
       "    </tr>\n",
       "  </thead>\n",
       "  <tbody>\n",
       "    <tr>\n",
       "      <th>Gran Canaria</th>\n",
       "      <td>855521</td>\n",
       "      <td>1560.10</td>\n",
       "      <td>LPGC</td>\n",
       "    </tr>\n",
       "    <tr>\n",
       "      <th>Tenerife</th>\n",
       "      <td>928604</td>\n",
       "      <td>2034.38</td>\n",
       "      <td>SCTF</td>\n",
       "    </tr>\n",
       "    <tr>\n",
       "      <th>La Palma</th>\n",
       "      <td>83458</td>\n",
       "      <td>708.32</td>\n",
       "      <td>SCTF</td>\n",
       "    </tr>\n",
       "    <tr>\n",
       "      <th>Lanzarote</th>\n",
       "      <td>155812</td>\n",
       "      <td>845.94</td>\n",
       "      <td>LPGC</td>\n",
       "    </tr>\n",
       "    <tr>\n",
       "      <th>La Gomera</th>\n",
       "      <td>21678</td>\n",
       "      <td>369.76</td>\n",
       "      <td>SCTF</td>\n",
       "    </tr>\n",
       "    <tr>\n",
       "      <th>El Hierro</th>\n",
       "      <td>11147</td>\n",
       "      <td>278.71</td>\n",
       "      <td>SCTF</td>\n",
       "    </tr>\n",
       "    <tr>\n",
       "      <th>Fuerteventura</th>\n",
       "      <td>119732</td>\n",
       "      <td>1659.00</td>\n",
       "      <td>LPGC</td>\n",
       "    </tr>\n",
       "  </tbody>\n",
       "</table>\n",
       "</div>"
      ],
      "text/plain": [
       "               Population     Area Province\n",
       "Island                                     \n",
       "Gran Canaria       855521  1560.10     LPGC\n",
       "Tenerife           928604  2034.38     SCTF\n",
       "La Palma            83458   708.32     SCTF\n",
       "Lanzarote          155812   845.94     LPGC\n",
       "La Gomera           21678   369.76     SCTF\n",
       "El Hierro           11147   278.71     SCTF\n",
       "Fuerteventura      119732  1659.00     LPGC"
      ]
     },
     "execution_count": 61,
     "metadata": {},
     "output_type": "execute_result"
    }
   ],
   "source": [
    "dmc2.loc[::]"
   ]
  },
  {
   "cell_type": "code",
   "execution_count": 62,
   "metadata": {},
   "outputs": [
    {
     "ename": "TypeError",
     "evalue": "cannot do slice indexing on Index with these indexers [4] of type int",
     "output_type": "error",
     "traceback": [
      "\u001b[0;31m---------------------------------------------------------------------------\u001b[0m",
      "\u001b[0;31mTypeError\u001b[0m                                 Traceback (most recent call last)",
      "Cell \u001b[0;32mIn[62], line 1\u001b[0m\n\u001b[0;32m----> 1\u001b[0m \u001b[43mdmc2\u001b[49m\u001b[38;5;241;43m.\u001b[39;49m\u001b[43mloc\u001b[49m\u001b[43m[\u001b[49m\u001b[38;5;241;43m4\u001b[39;49m\u001b[43m:\u001b[49m\u001b[38;5;241;43m5\u001b[39;49m\u001b[43m]\u001b[49m\n",
      "File \u001b[0;32m/Library/Frameworks/Python.framework/Versions/3.12/lib/python3.12/site-packages/pandas/core/indexing.py:1191\u001b[0m, in \u001b[0;36m_LocationIndexer.__getitem__\u001b[0;34m(self, key)\u001b[0m\n\u001b[1;32m   1189\u001b[0m maybe_callable \u001b[38;5;241m=\u001b[39m com\u001b[38;5;241m.\u001b[39mapply_if_callable(key, \u001b[38;5;28mself\u001b[39m\u001b[38;5;241m.\u001b[39mobj)\n\u001b[1;32m   1190\u001b[0m maybe_callable \u001b[38;5;241m=\u001b[39m \u001b[38;5;28mself\u001b[39m\u001b[38;5;241m.\u001b[39m_check_deprecated_callable_usage(key, maybe_callable)\n\u001b[0;32m-> 1191\u001b[0m \u001b[38;5;28;01mreturn\u001b[39;00m \u001b[38;5;28;43mself\u001b[39;49m\u001b[38;5;241;43m.\u001b[39;49m\u001b[43m_getitem_axis\u001b[49m\u001b[43m(\u001b[49m\u001b[43mmaybe_callable\u001b[49m\u001b[43m,\u001b[49m\u001b[43m \u001b[49m\u001b[43maxis\u001b[49m\u001b[38;5;241;43m=\u001b[39;49m\u001b[43maxis\u001b[49m\u001b[43m)\u001b[49m\n",
      "File \u001b[0;32m/Library/Frameworks/Python.framework/Versions/3.12/lib/python3.12/site-packages/pandas/core/indexing.py:1411\u001b[0m, in \u001b[0;36m_LocIndexer._getitem_axis\u001b[0;34m(self, key, axis)\u001b[0m\n\u001b[1;32m   1409\u001b[0m \u001b[38;5;28;01mif\u001b[39;00m \u001b[38;5;28misinstance\u001b[39m(key, \u001b[38;5;28mslice\u001b[39m):\n\u001b[1;32m   1410\u001b[0m     \u001b[38;5;28mself\u001b[39m\u001b[38;5;241m.\u001b[39m_validate_key(key, axis)\n\u001b[0;32m-> 1411\u001b[0m     \u001b[38;5;28;01mreturn\u001b[39;00m \u001b[38;5;28;43mself\u001b[39;49m\u001b[38;5;241;43m.\u001b[39;49m\u001b[43m_get_slice_axis\u001b[49m\u001b[43m(\u001b[49m\u001b[43mkey\u001b[49m\u001b[43m,\u001b[49m\u001b[43m \u001b[49m\u001b[43maxis\u001b[49m\u001b[38;5;241;43m=\u001b[39;49m\u001b[43maxis\u001b[49m\u001b[43m)\u001b[49m\n\u001b[1;32m   1412\u001b[0m \u001b[38;5;28;01melif\u001b[39;00m com\u001b[38;5;241m.\u001b[39mis_bool_indexer(key):\n\u001b[1;32m   1413\u001b[0m     \u001b[38;5;28;01mreturn\u001b[39;00m \u001b[38;5;28mself\u001b[39m\u001b[38;5;241m.\u001b[39m_getbool_axis(key, axis\u001b[38;5;241m=\u001b[39maxis)\n",
      "File \u001b[0;32m/Library/Frameworks/Python.framework/Versions/3.12/lib/python3.12/site-packages/pandas/core/indexing.py:1443\u001b[0m, in \u001b[0;36m_LocIndexer._get_slice_axis\u001b[0;34m(self, slice_obj, axis)\u001b[0m\n\u001b[1;32m   1440\u001b[0m     \u001b[38;5;28;01mreturn\u001b[39;00m obj\u001b[38;5;241m.\u001b[39mcopy(deep\u001b[38;5;241m=\u001b[39m\u001b[38;5;28;01mFalse\u001b[39;00m)\n\u001b[1;32m   1442\u001b[0m labels \u001b[38;5;241m=\u001b[39m obj\u001b[38;5;241m.\u001b[39m_get_axis(axis)\n\u001b[0;32m-> 1443\u001b[0m indexer \u001b[38;5;241m=\u001b[39m \u001b[43mlabels\u001b[49m\u001b[38;5;241;43m.\u001b[39;49m\u001b[43mslice_indexer\u001b[49m\u001b[43m(\u001b[49m\u001b[43mslice_obj\u001b[49m\u001b[38;5;241;43m.\u001b[39;49m\u001b[43mstart\u001b[49m\u001b[43m,\u001b[49m\u001b[43m \u001b[49m\u001b[43mslice_obj\u001b[49m\u001b[38;5;241;43m.\u001b[39;49m\u001b[43mstop\u001b[49m\u001b[43m,\u001b[49m\u001b[43m \u001b[49m\u001b[43mslice_obj\u001b[49m\u001b[38;5;241;43m.\u001b[39;49m\u001b[43mstep\u001b[49m\u001b[43m)\u001b[49m\n\u001b[1;32m   1445\u001b[0m \u001b[38;5;28;01mif\u001b[39;00m \u001b[38;5;28misinstance\u001b[39m(indexer, \u001b[38;5;28mslice\u001b[39m):\n\u001b[1;32m   1446\u001b[0m     \u001b[38;5;28;01mreturn\u001b[39;00m \u001b[38;5;28mself\u001b[39m\u001b[38;5;241m.\u001b[39mobj\u001b[38;5;241m.\u001b[39m_slice(indexer, axis\u001b[38;5;241m=\u001b[39maxis)\n",
      "File \u001b[0;32m/Library/Frameworks/Python.framework/Versions/3.12/lib/python3.12/site-packages/pandas/core/indexes/base.py:6662\u001b[0m, in \u001b[0;36mIndex.slice_indexer\u001b[0;34m(self, start, end, step)\u001b[0m\n\u001b[1;32m   6618\u001b[0m \u001b[38;5;28;01mdef\u001b[39;00m \u001b[38;5;21mslice_indexer\u001b[39m(\n\u001b[1;32m   6619\u001b[0m     \u001b[38;5;28mself\u001b[39m,\n\u001b[1;32m   6620\u001b[0m     start: Hashable \u001b[38;5;241m|\u001b[39m \u001b[38;5;28;01mNone\u001b[39;00m \u001b[38;5;241m=\u001b[39m \u001b[38;5;28;01mNone\u001b[39;00m,\n\u001b[1;32m   6621\u001b[0m     end: Hashable \u001b[38;5;241m|\u001b[39m \u001b[38;5;28;01mNone\u001b[39;00m \u001b[38;5;241m=\u001b[39m \u001b[38;5;28;01mNone\u001b[39;00m,\n\u001b[1;32m   6622\u001b[0m     step: \u001b[38;5;28mint\u001b[39m \u001b[38;5;241m|\u001b[39m \u001b[38;5;28;01mNone\u001b[39;00m \u001b[38;5;241m=\u001b[39m \u001b[38;5;28;01mNone\u001b[39;00m,\n\u001b[1;32m   6623\u001b[0m ) \u001b[38;5;241m-\u001b[39m\u001b[38;5;241m>\u001b[39m \u001b[38;5;28mslice\u001b[39m:\n\u001b[1;32m   6624\u001b[0m \u001b[38;5;250m    \u001b[39m\u001b[38;5;124;03m\"\"\"\u001b[39;00m\n\u001b[1;32m   6625\u001b[0m \u001b[38;5;124;03m    Compute the slice indexer for input labels and step.\u001b[39;00m\n\u001b[1;32m   6626\u001b[0m \n\u001b[0;32m   (...)\u001b[0m\n\u001b[1;32m   6660\u001b[0m \u001b[38;5;124;03m    slice(1, 3, None)\u001b[39;00m\n\u001b[1;32m   6661\u001b[0m \u001b[38;5;124;03m    \"\"\"\u001b[39;00m\n\u001b[0;32m-> 6662\u001b[0m     start_slice, end_slice \u001b[38;5;241m=\u001b[39m \u001b[38;5;28;43mself\u001b[39;49m\u001b[38;5;241;43m.\u001b[39;49m\u001b[43mslice_locs\u001b[49m\u001b[43m(\u001b[49m\u001b[43mstart\u001b[49m\u001b[43m,\u001b[49m\u001b[43m \u001b[49m\u001b[43mend\u001b[49m\u001b[43m,\u001b[49m\u001b[43m \u001b[49m\u001b[43mstep\u001b[49m\u001b[38;5;241;43m=\u001b[39;49m\u001b[43mstep\u001b[49m\u001b[43m)\u001b[49m\n\u001b[1;32m   6664\u001b[0m     \u001b[38;5;66;03m# return a slice\u001b[39;00m\n\u001b[1;32m   6665\u001b[0m     \u001b[38;5;28;01mif\u001b[39;00m \u001b[38;5;129;01mnot\u001b[39;00m is_scalar(start_slice):\n",
      "File \u001b[0;32m/Library/Frameworks/Python.framework/Versions/3.12/lib/python3.12/site-packages/pandas/core/indexes/base.py:6879\u001b[0m, in \u001b[0;36mIndex.slice_locs\u001b[0;34m(self, start, end, step)\u001b[0m\n\u001b[1;32m   6877\u001b[0m start_slice \u001b[38;5;241m=\u001b[39m \u001b[38;5;28;01mNone\u001b[39;00m\n\u001b[1;32m   6878\u001b[0m \u001b[38;5;28;01mif\u001b[39;00m start \u001b[38;5;129;01mis\u001b[39;00m \u001b[38;5;129;01mnot\u001b[39;00m \u001b[38;5;28;01mNone\u001b[39;00m:\n\u001b[0;32m-> 6879\u001b[0m     start_slice \u001b[38;5;241m=\u001b[39m \u001b[38;5;28;43mself\u001b[39;49m\u001b[38;5;241;43m.\u001b[39;49m\u001b[43mget_slice_bound\u001b[49m\u001b[43m(\u001b[49m\u001b[43mstart\u001b[49m\u001b[43m,\u001b[49m\u001b[43m \u001b[49m\u001b[38;5;124;43m\"\u001b[39;49m\u001b[38;5;124;43mleft\u001b[39;49m\u001b[38;5;124;43m\"\u001b[39;49m\u001b[43m)\u001b[49m\n\u001b[1;32m   6880\u001b[0m \u001b[38;5;28;01mif\u001b[39;00m start_slice \u001b[38;5;129;01mis\u001b[39;00m \u001b[38;5;28;01mNone\u001b[39;00m:\n\u001b[1;32m   6881\u001b[0m     start_slice \u001b[38;5;241m=\u001b[39m \u001b[38;5;241m0\u001b[39m\n",
      "File \u001b[0;32m/Library/Frameworks/Python.framework/Versions/3.12/lib/python3.12/site-packages/pandas/core/indexes/base.py:6794\u001b[0m, in \u001b[0;36mIndex.get_slice_bound\u001b[0;34m(self, label, side)\u001b[0m\n\u001b[1;32m   6790\u001b[0m original_label \u001b[38;5;241m=\u001b[39m label\n\u001b[1;32m   6792\u001b[0m \u001b[38;5;66;03m# For datetime indices label may be a string that has to be converted\u001b[39;00m\n\u001b[1;32m   6793\u001b[0m \u001b[38;5;66;03m# to datetime boundary according to its resolution.\u001b[39;00m\n\u001b[0;32m-> 6794\u001b[0m label \u001b[38;5;241m=\u001b[39m \u001b[38;5;28;43mself\u001b[39;49m\u001b[38;5;241;43m.\u001b[39;49m\u001b[43m_maybe_cast_slice_bound\u001b[49m\u001b[43m(\u001b[49m\u001b[43mlabel\u001b[49m\u001b[43m,\u001b[49m\u001b[43m \u001b[49m\u001b[43mside\u001b[49m\u001b[43m)\u001b[49m\n\u001b[1;32m   6796\u001b[0m \u001b[38;5;66;03m# we need to look up the label\u001b[39;00m\n\u001b[1;32m   6797\u001b[0m \u001b[38;5;28;01mtry\u001b[39;00m:\n",
      "File \u001b[0;32m/Library/Frameworks/Python.framework/Versions/3.12/lib/python3.12/site-packages/pandas/core/indexes/base.py:6727\u001b[0m, in \u001b[0;36mIndex._maybe_cast_slice_bound\u001b[0;34m(self, label, side)\u001b[0m\n\u001b[1;32m   6725\u001b[0m \u001b[38;5;66;03m# reject them, if index does not contain label\u001b[39;00m\n\u001b[1;32m   6726\u001b[0m \u001b[38;5;28;01mif\u001b[39;00m (is_float(label) \u001b[38;5;129;01mor\u001b[39;00m is_integer(label)) \u001b[38;5;129;01mand\u001b[39;00m label \u001b[38;5;129;01mnot\u001b[39;00m \u001b[38;5;129;01min\u001b[39;00m \u001b[38;5;28mself\u001b[39m:\n\u001b[0;32m-> 6727\u001b[0m     \u001b[38;5;28;43mself\u001b[39;49m\u001b[38;5;241;43m.\u001b[39;49m\u001b[43m_raise_invalid_indexer\u001b[49m\u001b[43m(\u001b[49m\u001b[38;5;124;43m\"\u001b[39;49m\u001b[38;5;124;43mslice\u001b[39;49m\u001b[38;5;124;43m\"\u001b[39;49m\u001b[43m,\u001b[49m\u001b[43m \u001b[49m\u001b[43mlabel\u001b[49m\u001b[43m)\u001b[49m\n\u001b[1;32m   6729\u001b[0m \u001b[38;5;28;01mreturn\u001b[39;00m label\n",
      "File \u001b[0;32m/Library/Frameworks/Python.framework/Versions/3.12/lib/python3.12/site-packages/pandas/core/indexes/base.py:4301\u001b[0m, in \u001b[0;36mIndex._raise_invalid_indexer\u001b[0;34m(self, form, key, reraise)\u001b[0m\n\u001b[1;32m   4299\u001b[0m \u001b[38;5;28;01mif\u001b[39;00m reraise \u001b[38;5;129;01mis\u001b[39;00m \u001b[38;5;129;01mnot\u001b[39;00m lib\u001b[38;5;241m.\u001b[39mno_default:\n\u001b[1;32m   4300\u001b[0m     \u001b[38;5;28;01mraise\u001b[39;00m \u001b[38;5;167;01mTypeError\u001b[39;00m(msg) \u001b[38;5;28;01mfrom\u001b[39;00m \u001b[38;5;21;01mreraise\u001b[39;00m\n\u001b[0;32m-> 4301\u001b[0m \u001b[38;5;28;01mraise\u001b[39;00m \u001b[38;5;167;01mTypeError\u001b[39;00m(msg)\n",
      "\u001b[0;31mTypeError\u001b[0m: cannot do slice indexing on Index with these indexers [4] of type int"
     ]
    }
   ],
   "source": [
    "dmc2.loc[4:5]"
   ]
  },
  {
   "cell_type": "code",
   "execution_count": 63,
   "metadata": {},
   "outputs": [
    {
     "data": {
      "text/plain": [
       "Island\n",
       "Gran Canaria     1560.10\n",
       "La Palma          708.32\n",
       "La Gomera         369.76\n",
       "Fuerteventura    1659.00\n",
       "Name: Area, dtype: float64"
      ]
     },
     "execution_count": 63,
     "metadata": {},
     "output_type": "execute_result"
    }
   ],
   "source": [
    "dmc2.iloc[::2,1]"
   ]
  },
  {
   "cell_type": "code",
   "execution_count": 64,
   "metadata": {},
   "outputs": [
    {
     "data": {
      "text/html": [
       "<div>\n",
       "<style scoped>\n",
       "    .dataframe tbody tr th:only-of-type {\n",
       "        vertical-align: middle;\n",
       "    }\n",
       "\n",
       "    .dataframe tbody tr th {\n",
       "        vertical-align: top;\n",
       "    }\n",
       "\n",
       "    .dataframe thead th {\n",
       "        text-align: right;\n",
       "    }\n",
       "</style>\n",
       "<table border=\"1\" class=\"dataframe\">\n",
       "  <thead>\n",
       "    <tr style=\"text-align: right;\">\n",
       "      <th></th>\n",
       "      <th>Population</th>\n",
       "      <th>Area</th>\n",
       "      <th>Province</th>\n",
       "    </tr>\n",
       "    <tr>\n",
       "      <th>Island</th>\n",
       "      <th></th>\n",
       "      <th></th>\n",
       "      <th></th>\n",
       "    </tr>\n",
       "  </thead>\n",
       "  <tbody>\n",
       "    <tr>\n",
       "      <th>Gran Canaria</th>\n",
       "      <td>855521</td>\n",
       "      <td>1560.10</td>\n",
       "      <td>LPGC</td>\n",
       "    </tr>\n",
       "    <tr>\n",
       "      <th>Tenerife</th>\n",
       "      <td>928604</td>\n",
       "      <td>2034.38</td>\n",
       "      <td>SCTF</td>\n",
       "    </tr>\n",
       "    <tr>\n",
       "      <th>Fuerteventura</th>\n",
       "      <td>119732</td>\n",
       "      <td>1659.00</td>\n",
       "      <td>LPGC</td>\n",
       "    </tr>\n",
       "  </tbody>\n",
       "</table>\n",
       "</div>"
      ],
      "text/plain": [
       "               Population     Area Province\n",
       "Island                                     \n",
       "Gran Canaria       855521  1560.10     LPGC\n",
       "Tenerife           928604  2034.38     SCTF\n",
       "Fuerteventura      119732  1659.00     LPGC"
      ]
     },
     "execution_count": 64,
     "metadata": {},
     "output_type": "execute_result"
    }
   ],
   "source": [
    "dmcArea=dmc2['Area'] > 1000\n",
    "dmc2[dmcArea]"
   ]
  },
  {
   "cell_type": "code",
   "execution_count": 65,
   "metadata": {},
   "outputs": [
    {
     "data": {
      "text/html": [
       "<div>\n",
       "<style scoped>\n",
       "    .dataframe tbody tr th:only-of-type {\n",
       "        vertical-align: middle;\n",
       "    }\n",
       "\n",
       "    .dataframe tbody tr th {\n",
       "        vertical-align: top;\n",
       "    }\n",
       "\n",
       "    .dataframe thead th {\n",
       "        text-align: right;\n",
       "    }\n",
       "</style>\n",
       "<table border=\"1\" class=\"dataframe\">\n",
       "  <thead>\n",
       "    <tr style=\"text-align: right;\">\n",
       "      <th></th>\n",
       "      <th>Revenue</th>\n",
       "      <th>Employees</th>\n",
       "      <th>City</th>\n",
       "      <th>Country</th>\n",
       "    </tr>\n",
       "    <tr>\n",
       "      <th>Company</th>\n",
       "      <th></th>\n",
       "      <th></th>\n",
       "      <th></th>\n",
       "      <th></th>\n",
       "    </tr>\n",
       "  </thead>\n",
       "  <tbody>\n",
       "    <tr>\n",
       "      <th>Apple</th>\n",
       "      <td>274515</td>\n",
       "      <td>147000</td>\n",
       "      <td>California</td>\n",
       "      <td>United States</td>\n",
       "    </tr>\n",
       "    <tr>\n",
       "      <th>Alphabet</th>\n",
       "      <td>182527</td>\n",
       "      <td>135301</td>\n",
       "      <td>California</td>\n",
       "      <td>United States</td>\n",
       "    </tr>\n",
       "    <tr>\n",
       "      <th>Microsoft</th>\n",
       "      <td>143015</td>\n",
       "      <td>163000</td>\n",
       "      <td>Washington</td>\n",
       "      <td>United States</td>\n",
       "    </tr>\n",
       "    <tr>\n",
       "      <th>Dell Technologies</th>\n",
       "      <td>92224</td>\n",
       "      <td>158000</td>\n",
       "      <td>Texas</td>\n",
       "      <td>United States</td>\n",
       "    </tr>\n",
       "    <tr>\n",
       "      <th>Facebook</th>\n",
       "      <td>85965</td>\n",
       "      <td>58604</td>\n",
       "      <td>California</td>\n",
       "      <td>United States</td>\n",
       "    </tr>\n",
       "    <tr>\n",
       "      <th>Intel</th>\n",
       "      <td>77867</td>\n",
       "      <td>110600</td>\n",
       "      <td>California</td>\n",
       "      <td>United States</td>\n",
       "    </tr>\n",
       "    <tr>\n",
       "      <th>IBM</th>\n",
       "      <td>73620</td>\n",
       "      <td>364800</td>\n",
       "      <td>New York</td>\n",
       "      <td>United States</td>\n",
       "    </tr>\n",
       "    <tr>\n",
       "      <th>HP Inc.</th>\n",
       "      <td>56639</td>\n",
       "      <td>53000</td>\n",
       "      <td>California</td>\n",
       "      <td>United States</td>\n",
       "    </tr>\n",
       "  </tbody>\n",
       "</table>\n",
       "</div>"
      ],
      "text/plain": [
       "                   Revenue  Employees        City        Country\n",
       "Company                                                         \n",
       "Apple               274515     147000  California  United States\n",
       "Alphabet            182527     135301  California  United States\n",
       "Microsoft           143015     163000  Washington  United States\n",
       "Dell Technologies    92224     158000       Texas  United States\n",
       "Facebook             85965      58604  California  United States\n",
       "Intel                77867     110600  California  United States\n",
       "IBM                  73620     364800    New York  United States\n",
       "HP Inc.              56639      53000  California  United States"
      ]
     },
     "execution_count": 65,
     "metadata": {},
     "output_type": "execute_result"
    }
   ],
   "source": [
    "df.query('Country == \"United States\"')"
   ]
  },
  {
   "cell_type": "code",
   "execution_count": 66,
   "metadata": {},
   "outputs": [
    {
     "data": {
      "text/html": [
       "<div>\n",
       "<style scoped>\n",
       "    .dataframe tbody tr th:only-of-type {\n",
       "        vertical-align: middle;\n",
       "    }\n",
       "\n",
       "    .dataframe tbody tr th {\n",
       "        vertical-align: top;\n",
       "    }\n",
       "\n",
       "    .dataframe thead th {\n",
       "        text-align: right;\n",
       "    }\n",
       "</style>\n",
       "<table border=\"1\" class=\"dataframe\">\n",
       "  <thead>\n",
       "    <tr style=\"text-align: right;\">\n",
       "      <th></th>\n",
       "      <th>Revenue</th>\n",
       "      <th>Employees</th>\n",
       "      <th>City</th>\n",
       "      <th>Country</th>\n",
       "    </tr>\n",
       "    <tr>\n",
       "      <th>Company</th>\n",
       "      <th></th>\n",
       "      <th></th>\n",
       "      <th></th>\n",
       "      <th></th>\n",
       "    </tr>\n",
       "  </thead>\n",
       "  <tbody>\n",
       "    <tr>\n",
       "      <th>Apple</th>\n",
       "      <td>274515</td>\n",
       "      <td>147000</td>\n",
       "      <td>California</td>\n",
       "      <td>United States</td>\n",
       "    </tr>\n",
       "    <tr>\n",
       "      <th>Samsung Electronics</th>\n",
       "      <td>200734</td>\n",
       "      <td>267937</td>\n",
       "      <td>Suwon</td>\n",
       "      <td>South Korea</td>\n",
       "    </tr>\n",
       "    <tr>\n",
       "      <th>Alphabet</th>\n",
       "      <td>182527</td>\n",
       "      <td>135301</td>\n",
       "      <td>California</td>\n",
       "      <td>United States</td>\n",
       "    </tr>\n",
       "    <tr>\n",
       "      <th>Foxconn</th>\n",
       "      <td>181945</td>\n",
       "      <td>878429</td>\n",
       "      <td>New Taipei City</td>\n",
       "      <td>Taiwan</td>\n",
       "    </tr>\n",
       "    <tr>\n",
       "      <th>Microsoft</th>\n",
       "      <td>143015</td>\n",
       "      <td>163000</td>\n",
       "      <td>Washington</td>\n",
       "      <td>United States</td>\n",
       "    </tr>\n",
       "    <tr>\n",
       "      <th>Huawei</th>\n",
       "      <td>129184</td>\n",
       "      <td>197000</td>\n",
       "      <td>Shenzhen</td>\n",
       "      <td>China</td>\n",
       "    </tr>\n",
       "  </tbody>\n",
       "</table>\n",
       "</div>"
      ],
      "text/plain": [
       "                     Revenue  Employees             City        Country\n",
       "Company                                                                \n",
       "Apple                 274515     147000       California  United States\n",
       "Samsung Electronics   200734     267937            Suwon    South Korea\n",
       "Alphabet              182527     135301       California  United States\n",
       "Foxconn               181945     878429  New Taipei City         Taiwan\n",
       "Microsoft             143015     163000       Washington  United States\n",
       "Huawei                129184     197000         Shenzhen          China"
      ]
     },
     "execution_count": 66,
     "metadata": {},
     "output_type": "execute_result"
    }
   ],
   "source": [
    "df.query('Revenue > 100_000 & Employees > 100_000')"
   ]
  },
  {
   "cell_type": "code",
   "execution_count": 67,
   "metadata": {},
   "outputs": [
    {
     "data": {
      "text/html": [
       "<div>\n",
       "<style scoped>\n",
       "    .dataframe tbody tr th:only-of-type {\n",
       "        vertical-align: middle;\n",
       "    }\n",
       "\n",
       "    .dataframe tbody tr th {\n",
       "        vertical-align: top;\n",
       "    }\n",
       "\n",
       "    .dataframe thead th {\n",
       "        text-align: right;\n",
       "    }\n",
       "</style>\n",
       "<table border=\"1\" class=\"dataframe\">\n",
       "  <thead>\n",
       "    <tr style=\"text-align: right;\">\n",
       "      <th></th>\n",
       "      <th>Revenue</th>\n",
       "      <th>Employees</th>\n",
       "      <th>City</th>\n",
       "      <th>Country</th>\n",
       "    </tr>\n",
       "    <tr>\n",
       "      <th>Company</th>\n",
       "      <th></th>\n",
       "      <th></th>\n",
       "      <th></th>\n",
       "      <th></th>\n",
       "    </tr>\n",
       "  </thead>\n",
       "  <tbody>\n",
       "    <tr>\n",
       "      <th>Apple</th>\n",
       "      <td>274515</td>\n",
       "      <td>147000</td>\n",
       "      <td>California</td>\n",
       "      <td>United States</td>\n",
       "    </tr>\n",
       "    <tr>\n",
       "      <th>Alphabet</th>\n",
       "      <td>182527</td>\n",
       "      <td>135301</td>\n",
       "      <td>California</td>\n",
       "      <td>United States</td>\n",
       "    </tr>\n",
       "    <tr>\n",
       "      <th>Facebook</th>\n",
       "      <td>85965</td>\n",
       "      <td>58604</td>\n",
       "      <td>California</td>\n",
       "      <td>United States</td>\n",
       "    </tr>\n",
       "    <tr>\n",
       "      <th>Intel</th>\n",
       "      <td>77867</td>\n",
       "      <td>110600</td>\n",
       "      <td>California</td>\n",
       "      <td>United States</td>\n",
       "    </tr>\n",
       "    <tr>\n",
       "      <th>HP Inc.</th>\n",
       "      <td>56639</td>\n",
       "      <td>53000</td>\n",
       "      <td>California</td>\n",
       "      <td>United States</td>\n",
       "    </tr>\n",
       "  </tbody>\n",
       "</table>\n",
       "</div>"
      ],
      "text/plain": [
       "          Revenue  Employees        City        Country\n",
       "Company                                                \n",
       "Apple      274515     147000  California  United States\n",
       "Alphabet   182527     135301  California  United States\n",
       "Facebook    85965      58604  California  United States\n",
       "Intel       77867     110600  California  United States\n",
       "HP Inc.     56639      53000  California  United States"
      ]
     },
     "execution_count": 67,
     "metadata": {},
     "output_type": "execute_result"
    }
   ],
   "source": [
    "df.query('City in [\"California\",\"Tokio\"]')"
   ]
  },
  {
   "cell_type": "code",
   "execution_count": 68,
   "metadata": {},
   "outputs": [
    {
     "data": {
      "text/plain": [
       "(1000000, 4)"
      ]
     },
     "execution_count": 68,
     "metadata": {},
     "output_type": "execute_result"
    }
   ],
   "source": [
    "size = 1_000_000\n",
    "\n",
    "data = {\n",
    "    'A':np.random.randint(1,100,size),\n",
    "    'B':np.random.randint(1,100,size),\n",
    "    'C':np.random.randint(1,100,size),\n",
    "    'D':np.random.randint(1,100,size),\n",
    "}\n",
    "df= pd.DataFrame(data)\n",
    "df.shape"
   ]
  },
  {
   "cell_type": "code",
   "execution_count": 69,
   "metadata": {},
   "outputs": [
    {
     "name": "stdout",
     "output_type": "stream",
     "text": [
      "7.87 ms ± 306 µs per loop (mean ± std. dev. of 7 runs, 100 loops each)\n"
     ]
    }
   ],
   "source": [
    "%timeit df[(df['A']>50) & (df['B']<50)]"
   ]
  },
  {
   "cell_type": "code",
   "execution_count": 70,
   "metadata": {},
   "outputs": [
    {
     "name": "stdout",
     "output_type": "stream",
     "text": [
      "15 ms ± 1.8 ms per loop (mean ± std. dev. of 7 runs, 10 loops each)\n"
     ]
    }
   ],
   "source": [
    "%timeit df.query('A > 50 & B <50')"
   ]
  },
  {
   "cell_type": "code",
   "execution_count": 71,
   "metadata": {},
   "outputs": [],
   "source": [
    "df_mod = df.copy()"
   ]
  },
  {
   "cell_type": "code",
   "execution_count": 72,
   "metadata": {},
   "outputs": [
    {
     "data": {
      "text/plain": [
       "True"
      ]
     },
     "execution_count": 72,
     "metadata": {},
     "output_type": "execute_result"
    }
   ],
   "source": [
    "df_mod.equals(df)"
   ]
  },
  {
   "cell_type": "code",
   "execution_count": 73,
   "metadata": {},
   "outputs": [
    {
     "data": {
      "text/html": [
       "<div>\n",
       "<style scoped>\n",
       "    .dataframe tbody tr th:only-of-type {\n",
       "        vertical-align: middle;\n",
       "    }\n",
       "\n",
       "    .dataframe tbody tr th {\n",
       "        vertical-align: top;\n",
       "    }\n",
       "\n",
       "    .dataframe thead th {\n",
       "        text-align: right;\n",
       "    }\n",
       "</style>\n",
       "<table border=\"1\" class=\"dataframe\">\n",
       "  <thead>\n",
       "    <tr style=\"text-align: right;\">\n",
       "      <th></th>\n",
       "      <th>A</th>\n",
       "      <th>B</th>\n",
       "      <th>C</th>\n",
       "      <th>D</th>\n",
       "    </tr>\n",
       "  </thead>\n",
       "  <tbody>\n",
       "    <tr>\n",
       "      <th>0</th>\n",
       "      <td>47</td>\n",
       "      <td>93</td>\n",
       "      <td>31</td>\n",
       "      <td>33</td>\n",
       "    </tr>\n",
       "  </tbody>\n",
       "</table>\n",
       "</div>"
      ],
      "text/plain": [
       "    A   B   C   D\n",
       "0  47  93  31  33"
      ]
     },
     "execution_count": 73,
     "metadata": {},
     "output_type": "execute_result"
    }
   ],
   "source": [
    "df_mod.head(1)"
   ]
  },
  {
   "cell_type": "code",
   "execution_count": 74,
   "metadata": {},
   "outputs": [],
   "source": [
    "df_mod.loc['Apple','Employees'] = 13700"
   ]
  },
  {
   "cell_type": "code",
   "execution_count": 75,
   "metadata": {},
   "outputs": [
    {
     "data": {
      "text/html": [
       "<div>\n",
       "<style scoped>\n",
       "    .dataframe tbody tr th:only-of-type {\n",
       "        vertical-align: middle;\n",
       "    }\n",
       "\n",
       "    .dataframe tbody tr th {\n",
       "        vertical-align: top;\n",
       "    }\n",
       "\n",
       "    .dataframe thead th {\n",
       "        text-align: right;\n",
       "    }\n",
       "</style>\n",
       "<table border=\"1\" class=\"dataframe\">\n",
       "  <thead>\n",
       "    <tr style=\"text-align: right;\">\n",
       "      <th></th>\n",
       "      <th>A</th>\n",
       "      <th>B</th>\n",
       "      <th>C</th>\n",
       "      <th>D</th>\n",
       "      <th>Employees</th>\n",
       "    </tr>\n",
       "  </thead>\n",
       "  <tbody>\n",
       "    <tr>\n",
       "      <th>0</th>\n",
       "      <td>47.0</td>\n",
       "      <td>93.0</td>\n",
       "      <td>31.0</td>\n",
       "      <td>33.0</td>\n",
       "      <td>NaN</td>\n",
       "    </tr>\n",
       "  </tbody>\n",
       "</table>\n",
       "</div>"
      ],
      "text/plain": [
       "      A     B     C     D  Employees\n",
       "0  47.0  93.0  31.0  33.0        NaN"
      ]
     },
     "execution_count": 75,
     "metadata": {},
     "output_type": "execute_result"
    }
   ],
   "source": [
    "df_mod.head(1)"
   ]
  },
  {
   "cell_type": "code",
   "execution_count": 78,
   "metadata": {},
   "outputs": [
    {
     "ename": "KeyError",
     "evalue": "'Revenue'",
     "output_type": "error",
     "traceback": [
      "\u001b[0;31m---------------------------------------------------------------------------\u001b[0m",
      "\u001b[0;31mKeyError\u001b[0m                                  Traceback (most recent call last)",
      "File \u001b[0;32m/Library/Frameworks/Python.framework/Versions/3.12/lib/python3.12/site-packages/pandas/core/indexes/base.py:3805\u001b[0m, in \u001b[0;36mIndex.get_loc\u001b[0;34m(self, key)\u001b[0m\n\u001b[1;32m   3804\u001b[0m \u001b[38;5;28;01mtry\u001b[39;00m:\n\u001b[0;32m-> 3805\u001b[0m     \u001b[38;5;28;01mreturn\u001b[39;00m \u001b[38;5;28;43mself\u001b[39;49m\u001b[38;5;241;43m.\u001b[39;49m\u001b[43m_engine\u001b[49m\u001b[38;5;241;43m.\u001b[39;49m\u001b[43mget_loc\u001b[49m\u001b[43m(\u001b[49m\u001b[43mcasted_key\u001b[49m\u001b[43m)\u001b[49m\n\u001b[1;32m   3806\u001b[0m \u001b[38;5;28;01mexcept\u001b[39;00m \u001b[38;5;167;01mKeyError\u001b[39;00m \u001b[38;5;28;01mas\u001b[39;00m err:\n",
      "File \u001b[0;32mindex.pyx:167\u001b[0m, in \u001b[0;36mpandas._libs.index.IndexEngine.get_loc\u001b[0;34m()\u001b[0m\n",
      "File \u001b[0;32mindex.pyx:196\u001b[0m, in \u001b[0;36mpandas._libs.index.IndexEngine.get_loc\u001b[0;34m()\u001b[0m\n",
      "File \u001b[0;32mpandas/_libs/hashtable_class_helper.pxi:7081\u001b[0m, in \u001b[0;36mpandas._libs.hashtable.PyObjectHashTable.get_item\u001b[0;34m()\u001b[0m\n",
      "File \u001b[0;32mpandas/_libs/hashtable_class_helper.pxi:7089\u001b[0m, in \u001b[0;36mpandas._libs.hashtable.PyObjectHashTable.get_item\u001b[0;34m()\u001b[0m\n",
      "\u001b[0;31mKeyError\u001b[0m: 'Revenue'",
      "\nThe above exception was the direct cause of the following exception:\n",
      "\u001b[0;31mKeyError\u001b[0m                                  Traceback (most recent call last)",
      "Cell \u001b[0;32mIn[78], line 2\u001b[0m\n\u001b[1;32m      1\u001b[0m \u001b[38;5;66;03m# Aumento ce ingreso\u001b[39;00m\n\u001b[0;32m----> 2\u001b[0m \u001b[43mdf_mod\u001b[49m\u001b[43m[\u001b[49m\u001b[38;5;124;43m'\u001b[39;49m\u001b[38;5;124;43mRevenue\u001b[39;49m\u001b[38;5;124;43m'\u001b[39;49m\u001b[43m]\u001b[49m\u001b[38;5;241m*\u001b[39m\u001b[38;5;241m=\u001b[39m\u001b[38;5;241m1.20\u001b[39m\n",
      "File \u001b[0;32m/Library/Frameworks/Python.framework/Versions/3.12/lib/python3.12/site-packages/pandas/core/frame.py:4090\u001b[0m, in \u001b[0;36mDataFrame.__getitem__\u001b[0;34m(self, key)\u001b[0m\n\u001b[1;32m   4088\u001b[0m \u001b[38;5;28;01mif\u001b[39;00m \u001b[38;5;28mself\u001b[39m\u001b[38;5;241m.\u001b[39mcolumns\u001b[38;5;241m.\u001b[39mnlevels \u001b[38;5;241m>\u001b[39m \u001b[38;5;241m1\u001b[39m:\n\u001b[1;32m   4089\u001b[0m     \u001b[38;5;28;01mreturn\u001b[39;00m \u001b[38;5;28mself\u001b[39m\u001b[38;5;241m.\u001b[39m_getitem_multilevel(key)\n\u001b[0;32m-> 4090\u001b[0m indexer \u001b[38;5;241m=\u001b[39m \u001b[38;5;28;43mself\u001b[39;49m\u001b[38;5;241;43m.\u001b[39;49m\u001b[43mcolumns\u001b[49m\u001b[38;5;241;43m.\u001b[39;49m\u001b[43mget_loc\u001b[49m\u001b[43m(\u001b[49m\u001b[43mkey\u001b[49m\u001b[43m)\u001b[49m\n\u001b[1;32m   4091\u001b[0m \u001b[38;5;28;01mif\u001b[39;00m is_integer(indexer):\n\u001b[1;32m   4092\u001b[0m     indexer \u001b[38;5;241m=\u001b[39m [indexer]\n",
      "File \u001b[0;32m/Library/Frameworks/Python.framework/Versions/3.12/lib/python3.12/site-packages/pandas/core/indexes/base.py:3812\u001b[0m, in \u001b[0;36mIndex.get_loc\u001b[0;34m(self, key)\u001b[0m\n\u001b[1;32m   3807\u001b[0m     \u001b[38;5;28;01mif\u001b[39;00m \u001b[38;5;28misinstance\u001b[39m(casted_key, \u001b[38;5;28mslice\u001b[39m) \u001b[38;5;129;01mor\u001b[39;00m (\n\u001b[1;32m   3808\u001b[0m         \u001b[38;5;28misinstance\u001b[39m(casted_key, abc\u001b[38;5;241m.\u001b[39mIterable)\n\u001b[1;32m   3809\u001b[0m         \u001b[38;5;129;01mand\u001b[39;00m \u001b[38;5;28many\u001b[39m(\u001b[38;5;28misinstance\u001b[39m(x, \u001b[38;5;28mslice\u001b[39m) \u001b[38;5;28;01mfor\u001b[39;00m x \u001b[38;5;129;01min\u001b[39;00m casted_key)\n\u001b[1;32m   3810\u001b[0m     ):\n\u001b[1;32m   3811\u001b[0m         \u001b[38;5;28;01mraise\u001b[39;00m InvalidIndexError(key)\n\u001b[0;32m-> 3812\u001b[0m     \u001b[38;5;28;01mraise\u001b[39;00m \u001b[38;5;167;01mKeyError\u001b[39;00m(key) \u001b[38;5;28;01mfrom\u001b[39;00m \u001b[38;5;21;01merr\u001b[39;00m\n\u001b[1;32m   3813\u001b[0m \u001b[38;5;28;01mexcept\u001b[39;00m \u001b[38;5;167;01mTypeError\u001b[39;00m:\n\u001b[1;32m   3814\u001b[0m     \u001b[38;5;66;03m# If we have a listlike key, _check_indexing_error will raise\u001b[39;00m\n\u001b[1;32m   3815\u001b[0m     \u001b[38;5;66;03m#  InvalidIndexError. Otherwise we fall through and re-raise\u001b[39;00m\n\u001b[1;32m   3816\u001b[0m     \u001b[38;5;66;03m#  the TypeError.\u001b[39;00m\n\u001b[1;32m   3817\u001b[0m     \u001b[38;5;28mself\u001b[39m\u001b[38;5;241m.\u001b[39m_check_indexing_error(key)\n",
      "\u001b[0;31mKeyError\u001b[0m: 'Revenue'"
     ]
    }
   ],
   "source": [
    "# Aumento ce ingreso\n",
    "df_mod['Revenue']*=1.20"
   ]
  },
  {
   "cell_type": "code",
   "execution_count": 77,
   "metadata": {},
   "outputs": [
    {
     "ename": "KeyError",
     "evalue": "'Revenue'",
     "output_type": "error",
     "traceback": [
      "\u001b[0;31m---------------------------------------------------------------------------\u001b[0m",
      "\u001b[0;31mKeyError\u001b[0m                                  Traceback (most recent call last)",
      "File \u001b[0;32m/Library/Frameworks/Python.framework/Versions/3.12/lib/python3.12/site-packages/pandas/core/indexes/base.py:3805\u001b[0m, in \u001b[0;36mIndex.get_loc\u001b[0;34m(self, key)\u001b[0m\n\u001b[1;32m   3804\u001b[0m \u001b[38;5;28;01mtry\u001b[39;00m:\n\u001b[0;32m-> 3805\u001b[0m     \u001b[38;5;28;01mreturn\u001b[39;00m \u001b[38;5;28;43mself\u001b[39;49m\u001b[38;5;241;43m.\u001b[39;49m\u001b[43m_engine\u001b[49m\u001b[38;5;241;43m.\u001b[39;49m\u001b[43mget_loc\u001b[49m\u001b[43m(\u001b[49m\u001b[43mcasted_key\u001b[49m\u001b[43m)\u001b[49m\n\u001b[1;32m   3806\u001b[0m \u001b[38;5;28;01mexcept\u001b[39;00m \u001b[38;5;167;01mKeyError\u001b[39;00m \u001b[38;5;28;01mas\u001b[39;00m err:\n",
      "File \u001b[0;32mindex.pyx:167\u001b[0m, in \u001b[0;36mpandas._libs.index.IndexEngine.get_loc\u001b[0;34m()\u001b[0m\n",
      "File \u001b[0;32mindex.pyx:196\u001b[0m, in \u001b[0;36mpandas._libs.index.IndexEngine.get_loc\u001b[0;34m()\u001b[0m\n",
      "File \u001b[0;32mpandas/_libs/hashtable_class_helper.pxi:7081\u001b[0m, in \u001b[0;36mpandas._libs.hashtable.PyObjectHashTable.get_item\u001b[0;34m()\u001b[0m\n",
      "File \u001b[0;32mpandas/_libs/hashtable_class_helper.pxi:7089\u001b[0m, in \u001b[0;36mpandas._libs.hashtable.PyObjectHashTable.get_item\u001b[0;34m()\u001b[0m\n",
      "\u001b[0;31mKeyError\u001b[0m: 'Revenue'",
      "\nThe above exception was the direct cause of the following exception:\n",
      "\u001b[0;31mKeyError\u001b[0m                                  Traceback (most recent call last)",
      "Cell \u001b[0;32mIn[77], line 1\u001b[0m\n\u001b[0;32m----> 1\u001b[0m \u001b[43mdf_mod\u001b[49m\u001b[43m[\u001b[49m\u001b[38;5;124;43m'\u001b[39;49m\u001b[38;5;124;43mRevenue\u001b[39;49m\u001b[38;5;124;43m'\u001b[39;49m\u001b[43m]\u001b[49m\u001b[38;5;241m.\u001b[39mhead()\n",
      "File \u001b[0;32m/Library/Frameworks/Python.framework/Versions/3.12/lib/python3.12/site-packages/pandas/core/frame.py:4090\u001b[0m, in \u001b[0;36mDataFrame.__getitem__\u001b[0;34m(self, key)\u001b[0m\n\u001b[1;32m   4088\u001b[0m \u001b[38;5;28;01mif\u001b[39;00m \u001b[38;5;28mself\u001b[39m\u001b[38;5;241m.\u001b[39mcolumns\u001b[38;5;241m.\u001b[39mnlevels \u001b[38;5;241m>\u001b[39m \u001b[38;5;241m1\u001b[39m:\n\u001b[1;32m   4089\u001b[0m     \u001b[38;5;28;01mreturn\u001b[39;00m \u001b[38;5;28mself\u001b[39m\u001b[38;5;241m.\u001b[39m_getitem_multilevel(key)\n\u001b[0;32m-> 4090\u001b[0m indexer \u001b[38;5;241m=\u001b[39m \u001b[38;5;28;43mself\u001b[39;49m\u001b[38;5;241;43m.\u001b[39;49m\u001b[43mcolumns\u001b[49m\u001b[38;5;241;43m.\u001b[39;49m\u001b[43mget_loc\u001b[49m\u001b[43m(\u001b[49m\u001b[43mkey\u001b[49m\u001b[43m)\u001b[49m\n\u001b[1;32m   4091\u001b[0m \u001b[38;5;28;01mif\u001b[39;00m is_integer(indexer):\n\u001b[1;32m   4092\u001b[0m     indexer \u001b[38;5;241m=\u001b[39m [indexer]\n",
      "File \u001b[0;32m/Library/Frameworks/Python.framework/Versions/3.12/lib/python3.12/site-packages/pandas/core/indexes/base.py:3812\u001b[0m, in \u001b[0;36mIndex.get_loc\u001b[0;34m(self, key)\u001b[0m\n\u001b[1;32m   3807\u001b[0m     \u001b[38;5;28;01mif\u001b[39;00m \u001b[38;5;28misinstance\u001b[39m(casted_key, \u001b[38;5;28mslice\u001b[39m) \u001b[38;5;129;01mor\u001b[39;00m (\n\u001b[1;32m   3808\u001b[0m         \u001b[38;5;28misinstance\u001b[39m(casted_key, abc\u001b[38;5;241m.\u001b[39mIterable)\n\u001b[1;32m   3809\u001b[0m         \u001b[38;5;129;01mand\u001b[39;00m \u001b[38;5;28many\u001b[39m(\u001b[38;5;28misinstance\u001b[39m(x, \u001b[38;5;28mslice\u001b[39m) \u001b[38;5;28;01mfor\u001b[39;00m x \u001b[38;5;129;01min\u001b[39;00m casted_key)\n\u001b[1;32m   3810\u001b[0m     ):\n\u001b[1;32m   3811\u001b[0m         \u001b[38;5;28;01mraise\u001b[39;00m InvalidIndexError(key)\n\u001b[0;32m-> 3812\u001b[0m     \u001b[38;5;28;01mraise\u001b[39;00m \u001b[38;5;167;01mKeyError\u001b[39;00m(key) \u001b[38;5;28;01mfrom\u001b[39;00m \u001b[38;5;21;01merr\u001b[39;00m\n\u001b[1;32m   3813\u001b[0m \u001b[38;5;28;01mexcept\u001b[39;00m \u001b[38;5;167;01mTypeError\u001b[39;00m:\n\u001b[1;32m   3814\u001b[0m     \u001b[38;5;66;03m# If we have a listlike key, _check_indexing_error will raise\u001b[39;00m\n\u001b[1;32m   3815\u001b[0m     \u001b[38;5;66;03m#  InvalidIndexError. Otherwise we fall through and re-raise\u001b[39;00m\n\u001b[1;32m   3816\u001b[0m     \u001b[38;5;66;03m#  the TypeError.\u001b[39;00m\n\u001b[1;32m   3817\u001b[0m     \u001b[38;5;28mself\u001b[39m\u001b[38;5;241m.\u001b[39m_check_indexing_error(key)\n",
      "\u001b[0;31mKeyError\u001b[0m: 'Revenue'"
     ]
    }
   ],
   "source": [
    "df_mod['Revenue'].head()"
   ]
  },
  {
   "cell_type": "code",
   "execution_count": 79,
   "metadata": {},
   "outputs": [
    {
     "data": {
      "text/html": [
       "<div>\n",
       "<style scoped>\n",
       "    .dataframe tbody tr th:only-of-type {\n",
       "        vertical-align: middle;\n",
       "    }\n",
       "\n",
       "    .dataframe tbody tr th {\n",
       "        vertical-align: top;\n",
       "    }\n",
       "\n",
       "    .dataframe thead th {\n",
       "        text-align: right;\n",
       "    }\n",
       "</style>\n",
       "<table border=\"1\" class=\"dataframe\">\n",
       "  <thead>\n",
       "    <tr style=\"text-align: right;\">\n",
       "      <th></th>\n",
       "      <th>A</th>\n",
       "      <th>B</th>\n",
       "      <th>C</th>\n",
       "      <th>D</th>\n",
       "      <th>Employees</th>\n",
       "      <th>City</th>\n",
       "      <th>Countr</th>\n",
       "    </tr>\n",
       "  </thead>\n",
       "  <tbody>\n",
       "    <tr>\n",
       "      <th>0</th>\n",
       "      <td>47.0</td>\n",
       "      <td>93.0</td>\n",
       "      <td>31.0</td>\n",
       "      <td>33.0</td>\n",
       "      <td>NaN</td>\n",
       "      <td>Vigo</td>\n",
       "      <td>Spain</td>\n",
       "    </tr>\n",
       "    <tr>\n",
       "      <th>1</th>\n",
       "      <td>44.0</td>\n",
       "      <td>1.0</td>\n",
       "      <td>14.0</td>\n",
       "      <td>63.0</td>\n",
       "      <td>NaN</td>\n",
       "      <td>Vigo</td>\n",
       "      <td>Spain</td>\n",
       "    </tr>\n",
       "    <tr>\n",
       "      <th>2</th>\n",
       "      <td>56.0</td>\n",
       "      <td>85.0</td>\n",
       "      <td>16.0</td>\n",
       "      <td>28.0</td>\n",
       "      <td>NaN</td>\n",
       "      <td>Vigo</td>\n",
       "      <td>Spain</td>\n",
       "    </tr>\n",
       "    <tr>\n",
       "      <th>3</th>\n",
       "      <td>4.0</td>\n",
       "      <td>76.0</td>\n",
       "      <td>28.0</td>\n",
       "      <td>45.0</td>\n",
       "      <td>NaN</td>\n",
       "      <td>Vigo</td>\n",
       "      <td>Spain</td>\n",
       "    </tr>\n",
       "    <tr>\n",
       "      <th>4</th>\n",
       "      <td>89.0</td>\n",
       "      <td>77.0</td>\n",
       "      <td>69.0</td>\n",
       "      <td>15.0</td>\n",
       "      <td>NaN</td>\n",
       "      <td>Vigo</td>\n",
       "      <td>Spain</td>\n",
       "    </tr>\n",
       "  </tbody>\n",
       "</table>\n",
       "</div>"
      ],
      "text/plain": [
       "      A     B     C     D  Employees  City Countr\n",
       "0  47.0  93.0  31.0  33.0        NaN  Vigo  Spain\n",
       "1  44.0   1.0  14.0  63.0        NaN  Vigo  Spain\n",
       "2  56.0  85.0  16.0  28.0        NaN  Vigo  Spain\n",
       "3   4.0  76.0  28.0  45.0        NaN  Vigo  Spain\n",
       "4  89.0  77.0  69.0  15.0        NaN  Vigo  Spain"
      ]
     },
     "execution_count": 79,
     "metadata": {},
     "output_type": "execute_result"
    }
   ],
   "source": [
    "# modificacion de datos existentes\n",
    "df_mod['City'] = 'Vigo'\n",
    "df_mod['Countr'] = 'Spain'\n",
    "\n",
    "df_mod.head()"
   ]
  },
  {
   "cell_type": "code",
   "execution_count": 80,
   "metadata": {},
   "outputs": [
    {
     "ename": "KeyError",
     "evalue": "'Country'",
     "output_type": "error",
     "traceback": [
      "\u001b[0;31m---------------------------------------------------------------------------\u001b[0m",
      "\u001b[0;31mKeyError\u001b[0m                                  Traceback (most recent call last)",
      "File \u001b[0;32m/Library/Frameworks/Python.framework/Versions/3.12/lib/python3.12/site-packages/pandas/core/indexes/base.py:3805\u001b[0m, in \u001b[0;36mIndex.get_loc\u001b[0;34m(self, key)\u001b[0m\n\u001b[1;32m   3804\u001b[0m \u001b[38;5;28;01mtry\u001b[39;00m:\n\u001b[0;32m-> 3805\u001b[0m     \u001b[38;5;28;01mreturn\u001b[39;00m \u001b[38;5;28;43mself\u001b[39;49m\u001b[38;5;241;43m.\u001b[39;49m\u001b[43m_engine\u001b[49m\u001b[38;5;241;43m.\u001b[39;49m\u001b[43mget_loc\u001b[49m\u001b[43m(\u001b[49m\u001b[43mcasted_key\u001b[49m\u001b[43m)\u001b[49m\n\u001b[1;32m   3806\u001b[0m \u001b[38;5;28;01mexcept\u001b[39;00m \u001b[38;5;167;01mKeyError\u001b[39;00m \u001b[38;5;28;01mas\u001b[39;00m err:\n",
      "File \u001b[0;32mindex.pyx:167\u001b[0m, in \u001b[0;36mpandas._libs.index.IndexEngine.get_loc\u001b[0;34m()\u001b[0m\n",
      "File \u001b[0;32mindex.pyx:196\u001b[0m, in \u001b[0;36mpandas._libs.index.IndexEngine.get_loc\u001b[0;34m()\u001b[0m\n",
      "File \u001b[0;32mpandas/_libs/hashtable_class_helper.pxi:7081\u001b[0m, in \u001b[0;36mpandas._libs.hashtable.PyObjectHashTable.get_item\u001b[0;34m()\u001b[0m\n",
      "File \u001b[0;32mpandas/_libs/hashtable_class_helper.pxi:7089\u001b[0m, in \u001b[0;36mpandas._libs.hashtable.PyObjectHashTable.get_item\u001b[0;34m()\u001b[0m\n",
      "\u001b[0;31mKeyError\u001b[0m: 'Country'",
      "\nThe above exception was the direct cause of the following exception:\n",
      "\u001b[0;31mKeyError\u001b[0m                                  Traceback (most recent call last)",
      "Cell \u001b[0;32mIn[80], line 8\u001b[0m\n\u001b[1;32m      1\u001b[0m iso3166 \u001b[38;5;241m=\u001b[39m {\n\u001b[1;32m      2\u001b[0m     \u001b[38;5;124m'\u001b[39m\u001b[38;5;124mUnited States\u001b[39m\u001b[38;5;124m'\u001b[39m: \u001b[38;5;124m'\u001b[39m\u001b[38;5;124mUSA\u001b[39m\u001b[38;5;124m'\u001b[39m ,\n\u001b[1;32m      3\u001b[0m     \u001b[38;5;124m'\u001b[39m\u001b[38;5;124mSouth Korea\u001b[39m\u001b[38;5;124m'\u001b[39m: \u001b[38;5;124m'\u001b[39m\u001b[38;5;124mKOR\u001b[39m\u001b[38;5;124m'\u001b[39m,\n\u001b[0;32m   (...)\u001b[0m\n\u001b[1;32m      6\u001b[0m     \u001b[38;5;124m'\u001b[39m\u001b[38;5;124mJapan\u001b[39m\u001b[38;5;124m'\u001b[39m: \u001b[38;5;124m'\u001b[39m\u001b[38;5;124mJPN\u001b[39m\u001b[38;5;124m'\u001b[39m\n\u001b[1;32m      7\u001b[0m }\n\u001b[0;32m----> 8\u001b[0m \u001b[43mdf\u001b[49m\u001b[43m[\u001b[49m\u001b[38;5;124;43m'\u001b[39;49m\u001b[38;5;124;43mCountry\u001b[39;49m\u001b[38;5;124;43m'\u001b[39;49m\u001b[43m]\u001b[49m\u001b[38;5;241m.\u001b[39mreplace(iso3166)\n",
      "File \u001b[0;32m/Library/Frameworks/Python.framework/Versions/3.12/lib/python3.12/site-packages/pandas/core/frame.py:4090\u001b[0m, in \u001b[0;36mDataFrame.__getitem__\u001b[0;34m(self, key)\u001b[0m\n\u001b[1;32m   4088\u001b[0m \u001b[38;5;28;01mif\u001b[39;00m \u001b[38;5;28mself\u001b[39m\u001b[38;5;241m.\u001b[39mcolumns\u001b[38;5;241m.\u001b[39mnlevels \u001b[38;5;241m>\u001b[39m \u001b[38;5;241m1\u001b[39m:\n\u001b[1;32m   4089\u001b[0m     \u001b[38;5;28;01mreturn\u001b[39;00m \u001b[38;5;28mself\u001b[39m\u001b[38;5;241m.\u001b[39m_getitem_multilevel(key)\n\u001b[0;32m-> 4090\u001b[0m indexer \u001b[38;5;241m=\u001b[39m \u001b[38;5;28;43mself\u001b[39;49m\u001b[38;5;241;43m.\u001b[39;49m\u001b[43mcolumns\u001b[49m\u001b[38;5;241;43m.\u001b[39;49m\u001b[43mget_loc\u001b[49m\u001b[43m(\u001b[49m\u001b[43mkey\u001b[49m\u001b[43m)\u001b[49m\n\u001b[1;32m   4091\u001b[0m \u001b[38;5;28;01mif\u001b[39;00m is_integer(indexer):\n\u001b[1;32m   4092\u001b[0m     indexer \u001b[38;5;241m=\u001b[39m [indexer]\n",
      "File \u001b[0;32m/Library/Frameworks/Python.framework/Versions/3.12/lib/python3.12/site-packages/pandas/core/indexes/base.py:3812\u001b[0m, in \u001b[0;36mIndex.get_loc\u001b[0;34m(self, key)\u001b[0m\n\u001b[1;32m   3807\u001b[0m     \u001b[38;5;28;01mif\u001b[39;00m \u001b[38;5;28misinstance\u001b[39m(casted_key, \u001b[38;5;28mslice\u001b[39m) \u001b[38;5;129;01mor\u001b[39;00m (\n\u001b[1;32m   3808\u001b[0m         \u001b[38;5;28misinstance\u001b[39m(casted_key, abc\u001b[38;5;241m.\u001b[39mIterable)\n\u001b[1;32m   3809\u001b[0m         \u001b[38;5;129;01mand\u001b[39;00m \u001b[38;5;28many\u001b[39m(\u001b[38;5;28misinstance\u001b[39m(x, \u001b[38;5;28mslice\u001b[39m) \u001b[38;5;28;01mfor\u001b[39;00m x \u001b[38;5;129;01min\u001b[39;00m casted_key)\n\u001b[1;32m   3810\u001b[0m     ):\n\u001b[1;32m   3811\u001b[0m         \u001b[38;5;28;01mraise\u001b[39;00m InvalidIndexError(key)\n\u001b[0;32m-> 3812\u001b[0m     \u001b[38;5;28;01mraise\u001b[39;00m \u001b[38;5;167;01mKeyError\u001b[39;00m(key) \u001b[38;5;28;01mfrom\u001b[39;00m \u001b[38;5;21;01merr\u001b[39;00m\n\u001b[1;32m   3813\u001b[0m \u001b[38;5;28;01mexcept\u001b[39;00m \u001b[38;5;167;01mTypeError\u001b[39;00m:\n\u001b[1;32m   3814\u001b[0m     \u001b[38;5;66;03m# If we have a listlike key, _check_indexing_error will raise\u001b[39;00m\n\u001b[1;32m   3815\u001b[0m     \u001b[38;5;66;03m#  InvalidIndexError. Otherwise we fall through and re-raise\u001b[39;00m\n\u001b[1;32m   3816\u001b[0m     \u001b[38;5;66;03m#  the TypeError.\u001b[39;00m\n\u001b[1;32m   3817\u001b[0m     \u001b[38;5;28mself\u001b[39m\u001b[38;5;241m.\u001b[39m_check_indexing_error(key)\n",
      "\u001b[0;31mKeyError\u001b[0m: 'Country'"
     ]
    }
   ],
   "source": [
    "iso3166 = {\n",
    "    'United States': 'USA' ,\n",
    "    'South Korea': 'KOR',\n",
    "    'Taiwan': 'TWN',\n",
    "    'China': 'CHN',\n",
    "    'Japan': 'JPN'\n",
    "}\n",
    "df['Country'].replace(iso3166)"
   ]
  },
  {
   "cell_type": "code",
   "execution_count": null,
   "metadata": {},
   "outputs": [
    {
     "data": {
      "text/plain": [
       "Island\n",
       "Gran Canaria     Las Palmas de Gran Canaria\n",
       "Tenerife             Santa Cruz de Tenerife\n",
       "La Palma             Santa Cruz de Tenerife\n",
       "Lanzarote        Las Palmas de Gran Canaria\n",
       "La Gomera            Santa Cruz de Tenerife\n",
       "El Hierro            Santa Cruz de Tenerife\n",
       "Fuerteventura    Las Palmas de Gran Canaria\n",
       "Name: Province, dtype: object"
      ]
     },
     "execution_count": 29,
     "metadata": {},
     "output_type": "execute_result"
    }
   ],
   "source": [
    "# Ejercicio: Recodifique la columna Province del «dataset» democan de tal manera que aparezcan las\n",
    "# provincias con el texto completo: Santa Cruz de Tenerife y Las Palmas de Gran Canaria.\n",
    "\n",
    "dmc2 = pd.read_csv(\"democan.csv\",index_col=\"Island\")\n",
    "dmc2\n",
    "\n",
    "iso3166 = {\n",
    "    'SCTF': 'Santa Cruz de Tenerife',\n",
    "    'LPGC': 'Las Palmas de Gran Canaria'\n",
    "}\n",
    "dmc2['Province'].replace(iso3166)"
   ]
  },
  {
   "cell_type": "code",
   "execution_count": 81,
   "metadata": {},
   "outputs": [
    {
     "ename": "ValueError",
     "evalue": "Length of values (4) does not match length of index (7)",
     "output_type": "error",
     "traceback": [
      "\u001b[0;31m---------------------------------------------------------------------------\u001b[0m",
      "\u001b[0;31mValueError\u001b[0m                                Traceback (most recent call last)",
      "Cell \u001b[0;32mIn[81], line 2\u001b[0m\n\u001b[1;32m      1\u001b[0m \u001b[38;5;66;03m# Insertando y borrando filas\u001b[39;00m\n\u001b[0;32m----> 2\u001b[0m cisco \u001b[38;5;241m=\u001b[39m \u001b[43mpd\u001b[49m\u001b[38;5;241;43m.\u001b[39;49m\u001b[43mSeries\u001b[49m\u001b[43m(\u001b[49m\u001b[43mdata\u001b[49m\u001b[38;5;241;43m=\u001b[39;49m\u001b[43m[\u001b[49m\u001b[38;5;241;43m51_904\u001b[39;49m\u001b[43m,\u001b[49m\u001b[43m \u001b[49m\u001b[38;5;241;43m75_900\u001b[39;49m\u001b[43m,\u001b[49m\u001b[43m \u001b[49m\u001b[38;5;124;43m'\u001b[39;49m\u001b[38;5;124;43mCalifornia\u001b[39;49m\u001b[38;5;124;43m'\u001b[39;49m\u001b[43m,\u001b[49m\u001b[43m \u001b[49m\u001b[38;5;124;43m'\u001b[39;49m\u001b[38;5;124;43mUnited States\u001b[39;49m\u001b[38;5;124;43m'\u001b[39;49m\u001b[43m]\u001b[49m\u001b[43m,\u001b[49m\u001b[43mindex\u001b[49m\u001b[38;5;241;43m=\u001b[39;49m\u001b[43m \u001b[49m\u001b[43mdf_mod\u001b[49m\u001b[38;5;241;43m.\u001b[39;49m\u001b[43mcolumns\u001b[49m\u001b[43m,\u001b[49m\u001b[43m \u001b[49m\u001b[43mname\u001b[49m\u001b[38;5;241;43m=\u001b[39;49m\u001b[43m \u001b[49m\u001b[38;5;124;43m'\u001b[39;49m\u001b[38;5;124;43mCisco\u001b[39;49m\u001b[38;5;124;43m'\u001b[39;49m\u001b[43m)\u001b[49m\n\u001b[1;32m      3\u001b[0m cisco\n",
      "File \u001b[0;32m/Library/Frameworks/Python.framework/Versions/3.12/lib/python3.12/site-packages/pandas/core/series.py:575\u001b[0m, in \u001b[0;36mSeries.__init__\u001b[0;34m(self, data, index, dtype, name, copy, fastpath)\u001b[0m\n\u001b[1;32m    573\u001b[0m     index \u001b[38;5;241m=\u001b[39m default_index(\u001b[38;5;28mlen\u001b[39m(data))\n\u001b[1;32m    574\u001b[0m \u001b[38;5;28;01melif\u001b[39;00m is_list_like(data):\n\u001b[0;32m--> 575\u001b[0m     \u001b[43mcom\u001b[49m\u001b[38;5;241;43m.\u001b[39;49m\u001b[43mrequire_length_match\u001b[49m\u001b[43m(\u001b[49m\u001b[43mdata\u001b[49m\u001b[43m,\u001b[49m\u001b[43m \u001b[49m\u001b[43mindex\u001b[49m\u001b[43m)\u001b[49m\n\u001b[1;32m    577\u001b[0m \u001b[38;5;66;03m# create/copy the manager\u001b[39;00m\n\u001b[1;32m    578\u001b[0m \u001b[38;5;28;01mif\u001b[39;00m \u001b[38;5;28misinstance\u001b[39m(data, (SingleBlockManager, SingleArrayManager)):\n",
      "File \u001b[0;32m/Library/Frameworks/Python.framework/Versions/3.12/lib/python3.12/site-packages/pandas/core/common.py:573\u001b[0m, in \u001b[0;36mrequire_length_match\u001b[0;34m(data, index)\u001b[0m\n\u001b[1;32m    569\u001b[0m \u001b[38;5;250m\u001b[39m\u001b[38;5;124;03m\"\"\"\u001b[39;00m\n\u001b[1;32m    570\u001b[0m \u001b[38;5;124;03mCheck the length of data matches the length of the index.\u001b[39;00m\n\u001b[1;32m    571\u001b[0m \u001b[38;5;124;03m\"\"\"\u001b[39;00m\n\u001b[1;32m    572\u001b[0m \u001b[38;5;28;01mif\u001b[39;00m \u001b[38;5;28mlen\u001b[39m(data) \u001b[38;5;241m!=\u001b[39m \u001b[38;5;28mlen\u001b[39m(index):\n\u001b[0;32m--> 573\u001b[0m     \u001b[38;5;28;01mraise\u001b[39;00m \u001b[38;5;167;01mValueError\u001b[39;00m(\n\u001b[1;32m    574\u001b[0m         \u001b[38;5;124m\"\u001b[39m\u001b[38;5;124mLength of values \u001b[39m\u001b[38;5;124m\"\u001b[39m\n\u001b[1;32m    575\u001b[0m         \u001b[38;5;124mf\u001b[39m\u001b[38;5;124m\"\u001b[39m\u001b[38;5;124m(\u001b[39m\u001b[38;5;132;01m{\u001b[39;00m\u001b[38;5;28mlen\u001b[39m(data)\u001b[38;5;132;01m}\u001b[39;00m\u001b[38;5;124m) \u001b[39m\u001b[38;5;124m\"\u001b[39m\n\u001b[1;32m    576\u001b[0m         \u001b[38;5;124m\"\u001b[39m\u001b[38;5;124mdoes not match length of index \u001b[39m\u001b[38;5;124m\"\u001b[39m\n\u001b[1;32m    577\u001b[0m         \u001b[38;5;124mf\u001b[39m\u001b[38;5;124m\"\u001b[39m\u001b[38;5;124m(\u001b[39m\u001b[38;5;132;01m{\u001b[39;00m\u001b[38;5;28mlen\u001b[39m(index)\u001b[38;5;132;01m}\u001b[39;00m\u001b[38;5;124m)\u001b[39m\u001b[38;5;124m\"\u001b[39m\n\u001b[1;32m    578\u001b[0m     )\n",
      "\u001b[0;31mValueError\u001b[0m: Length of values (4) does not match length of index (7)"
     ]
    }
   ],
   "source": [
    "# Insertando y borrando filas\n",
    "cisco = pd.Series(data=[51_904, 75_900, 'California', 'United States'],index= df_mod.columns, name= 'Cisco')\n",
    "cisco"
   ]
  },
  {
   "cell_type": "code",
   "execution_count": null,
   "metadata": {},
   "outputs": [
    {
     "data": {
      "text/html": [
       "<div>\n",
       "<style scoped>\n",
       "    .dataframe tbody tr th:only-of-type {\n",
       "        vertical-align: middle;\n",
       "    }\n",
       "\n",
       "    .dataframe tbody tr th {\n",
       "        vertical-align: top;\n",
       "    }\n",
       "\n",
       "    .dataframe thead th {\n",
       "        text-align: right;\n",
       "    }\n",
       "</style>\n",
       "<table border=\"1\" class=\"dataframe\">\n",
       "  <thead>\n",
       "    <tr style=\"text-align: right;\">\n",
       "      <th></th>\n",
       "      <th>Revenue</th>\n",
       "      <th>Employees</th>\n",
       "      <th>City</th>\n",
       "      <th>Country</th>\n",
       "    </tr>\n",
       "    <tr>\n",
       "      <th>Company</th>\n",
       "      <th></th>\n",
       "      <th></th>\n",
       "      <th></th>\n",
       "      <th></th>\n",
       "    </tr>\n",
       "  </thead>\n",
       "  <tbody>\n",
       "    <tr>\n",
       "      <th>HP Inc.</th>\n",
       "      <td>56639</td>\n",
       "      <td>53000</td>\n",
       "      <td>California</td>\n",
       "      <td>United States</td>\n",
       "    </tr>\n",
       "    <tr>\n",
       "      <th>LG Electronics</th>\n",
       "      <td>53625</td>\n",
       "      <td>75000</td>\n",
       "      <td>Seoul</td>\n",
       "      <td>South Korea</td>\n",
       "    </tr>\n",
       "    <tr>\n",
       "      <th>Cisco</th>\n",
       "      <td>51904</td>\n",
       "      <td>75900</td>\n",
       "      <td>California</td>\n",
       "      <td>United States</td>\n",
       "    </tr>\n",
       "  </tbody>\n",
       "</table>\n",
       "</div>"
      ],
      "text/plain": [
       "                Revenue  Employees        City        Country\n",
       "Company                                                      \n",
       "HP Inc.           56639      53000  California  United States\n",
       "LG Electronics    53625      75000       Seoul    South Korea\n",
       "Cisco             51904      75900  California  United States"
      ]
     },
     "execution_count": 45,
     "metadata": {},
     "output_type": "execute_result"
    }
   ],
   "source": [
    "# Agregar la serie al dataframe\n",
    "df_mod = df_mod._append(cisco)\n",
    "df_mod.tail(3)"
   ]
  },
  {
   "cell_type": "code",
   "execution_count": null,
   "metadata": {},
   "outputs": [
    {
     "data": {
      "text/plain": [
       "Index(['Apple', 'Samsung Electronics', 'Alphabet', 'Foxconn', 'Microsoft',\n",
       "       'Huawei', 'Dell Technologies', 'Sony', 'Intel', 'IBM', 'Panasonic',\n",
       "       'Lenovo', 'HP Inc.', 'LG Electronics'],\n",
       "      dtype='object', name='Company')"
      ]
     },
     "execution_count": 48,
     "metadata": {},
     "output_type": "execute_result"
    }
   ],
   "source": [
    "# Eliminar filas\n",
    "df_mod = df_mod.drop(labels=['Facebook','Tencent','Hitachi'])\n",
    "df_mod.index"
   ]
  },
  {
   "cell_type": "code",
   "execution_count": null,
   "metadata": {},
   "outputs": [
    {
     "data": {
      "text/plain": [
       "array([268539,  82493, 262765, 116614, 117839, 263149, 168225, 129309,\n",
       "       276291, 191248, 130859, 245620, 204279,  58170,  59132, 203670,\n",
       "       283357])"
      ]
     },
     "execution_count": 61,
     "metadata": {},
     "output_type": "execute_result"
    }
   ],
   "source": [
    "#insertando y eliminando columnas\n",
    "expenses = np.random.randint(50_000,300_000,size=17)\n",
    "expenses"
   ]
  },
  {
   "cell_type": "code",
   "execution_count": null,
   "metadata": {},
   "outputs": [
    {
     "data": {
      "text/html": [
       "<div>\n",
       "<style scoped>\n",
       "    .dataframe tbody tr th:only-of-type {\n",
       "        vertical-align: middle;\n",
       "    }\n",
       "\n",
       "    .dataframe tbody tr th {\n",
       "        vertical-align: top;\n",
       "    }\n",
       "\n",
       "    .dataframe thead th {\n",
       "        text-align: right;\n",
       "    }\n",
       "</style>\n",
       "<table border=\"1\" class=\"dataframe\">\n",
       "  <thead>\n",
       "    <tr style=\"text-align: right;\">\n",
       "      <th></th>\n",
       "      <th>Revenue</th>\n",
       "      <th>Employees</th>\n",
       "      <th>City</th>\n",
       "      <th>Country</th>\n",
       "      <th>Expenses</th>\n",
       "    </tr>\n",
       "    <tr>\n",
       "      <th>Company</th>\n",
       "      <th></th>\n",
       "      <th></th>\n",
       "      <th></th>\n",
       "      <th></th>\n",
       "      <th></th>\n",
       "    </tr>\n",
       "  </thead>\n",
       "  <tbody>\n",
       "    <tr>\n",
       "      <th>Apple</th>\n",
       "      <td>274515</td>\n",
       "      <td>147000</td>\n",
       "      <td>California</td>\n",
       "      <td>United States</td>\n",
       "      <td>268539</td>\n",
       "    </tr>\n",
       "    <tr>\n",
       "      <th>Samsung Electronics</th>\n",
       "      <td>200734</td>\n",
       "      <td>267937</td>\n",
       "      <td>Suwon</td>\n",
       "      <td>South Korea</td>\n",
       "      <td>82493</td>\n",
       "    </tr>\n",
       "    <tr>\n",
       "      <th>Alphabet</th>\n",
       "      <td>182527</td>\n",
       "      <td>135301</td>\n",
       "      <td>California</td>\n",
       "      <td>United States</td>\n",
       "      <td>262765</td>\n",
       "    </tr>\n",
       "    <tr>\n",
       "      <th>Foxconn</th>\n",
       "      <td>181945</td>\n",
       "      <td>878429</td>\n",
       "      <td>New Taipei City</td>\n",
       "      <td>Taiwan</td>\n",
       "      <td>116614</td>\n",
       "    </tr>\n",
       "    <tr>\n",
       "      <th>Microsoft</th>\n",
       "      <td>143015</td>\n",
       "      <td>163000</td>\n",
       "      <td>Washington</td>\n",
       "      <td>United States</td>\n",
       "      <td>117839</td>\n",
       "    </tr>\n",
       "  </tbody>\n",
       "</table>\n",
       "</div>"
      ],
      "text/plain": [
       "                     Revenue  Employees             City        Country  \\\n",
       "Company                                                                   \n",
       "Apple                 274515     147000       California  United States   \n",
       "Samsung Electronics   200734     267937            Suwon    South Korea   \n",
       "Alphabet              182527     135301       California  United States   \n",
       "Foxconn               181945     878429  New Taipei City         Taiwan   \n",
       "Microsoft             143015     163000       Washington  United States   \n",
       "\n",
       "                     Expenses  \n",
       "Company                        \n",
       "Apple                  268539  \n",
       "Samsung Electronics     82493  \n",
       "Alphabet               262765  \n",
       "Foxconn                116614  \n",
       "Microsoft              117839  "
      ]
     },
     "execution_count": 62,
     "metadata": {},
     "output_type": "execute_result"
    }
   ],
   "source": [
    "df_mod['Expenses']= expenses\n",
    "df_mod.head()"
   ]
  },
  {
   "cell_type": "code",
   "execution_count": null,
   "metadata": {},
   "outputs": [
    {
     "data": {
      "text/plain": [
       "Index(['Revenue', 'Employees', 'City', 'Country', 'Expenses'], dtype='object')"
      ]
     },
     "execution_count": 63,
     "metadata": {},
     "output_type": "execute_result"
    }
   ],
   "source": [
    "df_mod.columns"
   ]
  },
  {
   "cell_type": "code",
   "execution_count": null,
   "metadata": {},
   "outputs": [
    {
     "data": {
      "text/plain": [
       "Index(['Revenue', 'Employees', 'City', 'Country'], dtype='object')"
      ]
     },
     "execution_count": 64,
     "metadata": {},
     "output_type": "execute_result"
    }
   ],
   "source": [
    "# Eliminar la columna\n",
    "df_mod = df_mod.drop(labels='Expenses', axis =1)\n",
    "df_mod.columns"
   ]
  },
  {
   "cell_type": "code",
   "execution_count": null,
   "metadata": {},
   "outputs": [
    {
     "data": {
      "text/html": [
       "<div>\n",
       "<style scoped>\n",
       "    .dataframe tbody tr th:only-of-type {\n",
       "        vertical-align: middle;\n",
       "    }\n",
       "\n",
       "    .dataframe tbody tr th {\n",
       "        vertical-align: top;\n",
       "    }\n",
       "\n",
       "    .dataframe thead th {\n",
       "        text-align: right;\n",
       "    }\n",
       "</style>\n",
       "<table border=\"1\" class=\"dataframe\">\n",
       "  <thead>\n",
       "    <tr style=\"text-align: right;\">\n",
       "      <th></th>\n",
       "      <th>Revenue</th>\n",
       "      <th>Employees</th>\n",
       "      <th>City</th>\n",
       "      <th>Country</th>\n",
       "    </tr>\n",
       "    <tr>\n",
       "      <th>Company</th>\n",
       "      <th></th>\n",
       "      <th></th>\n",
       "      <th></th>\n",
       "      <th></th>\n",
       "    </tr>\n",
       "  </thead>\n",
       "  <tbody>\n",
       "    <tr>\n",
       "      <th>Apple</th>\n",
       "      <td>274515</td>\n",
       "      <td>147000</td>\n",
       "      <td>California</td>\n",
       "      <td>United States</td>\n",
       "    </tr>\n",
       "    <tr>\n",
       "      <th>Samsung Electronics</th>\n",
       "      <td>200734</td>\n",
       "      <td>267937</td>\n",
       "      <td>Suwon</td>\n",
       "      <td>South Korea</td>\n",
       "    </tr>\n",
       "    <tr>\n",
       "      <th>Alphabet</th>\n",
       "      <td>182527</td>\n",
       "      <td>135301</td>\n",
       "      <td>California</td>\n",
       "      <td>United States</td>\n",
       "    </tr>\n",
       "    <tr>\n",
       "      <th>Foxconn</th>\n",
       "      <td>181945</td>\n",
       "      <td>878429</td>\n",
       "      <td>New Taipei City</td>\n",
       "      <td>Taiwan</td>\n",
       "    </tr>\n",
       "    <tr>\n",
       "      <th>Microsoft</th>\n",
       "      <td>143015</td>\n",
       "      <td>163000</td>\n",
       "      <td>Washington</td>\n",
       "      <td>United States</td>\n",
       "    </tr>\n",
       "  </tbody>\n",
       "</table>\n",
       "</div>"
      ],
      "text/plain": [
       "                     Revenue  Employees             City        Country\n",
       "Company                                                                \n",
       "Apple                 274515     147000       California  United States\n",
       "Samsung Electronics   200734     267937            Suwon    South Korea\n",
       "Alphabet              182527     135301       California  United States\n",
       "Foxconn               181945     878429  New Taipei City         Taiwan\n",
       "Microsoft             143015     163000       Washington  United States"
      ]
     },
     "execution_count": 65,
     "metadata": {},
     "output_type": "execute_result"
    }
   ],
   "source": [
    "# Paraametro inplace --- Borrado que devuelve copia con las modificaciones\n",
    "df_mod.head()\n"
   ]
  },
  {
   "cell_type": "code",
   "execution_count": null,
   "metadata": {},
   "outputs": [
    {
     "data": {
      "text/html": [
       "<div>\n",
       "<style scoped>\n",
       "    .dataframe tbody tr th:only-of-type {\n",
       "        vertical-align: middle;\n",
       "    }\n",
       "\n",
       "    .dataframe tbody tr th {\n",
       "        vertical-align: top;\n",
       "    }\n",
       "\n",
       "    .dataframe thead th {\n",
       "        text-align: right;\n",
       "    }\n",
       "</style>\n",
       "<table border=\"1\" class=\"dataframe\">\n",
       "  <thead>\n",
       "    <tr style=\"text-align: right;\">\n",
       "      <th></th>\n",
       "      <th>Revenue</th>\n",
       "      <th>Employees</th>\n",
       "    </tr>\n",
       "    <tr>\n",
       "      <th>Company</th>\n",
       "      <th></th>\n",
       "      <th></th>\n",
       "    </tr>\n",
       "  </thead>\n",
       "  <tbody>\n",
       "    <tr>\n",
       "      <th>Apple</th>\n",
       "      <td>274515</td>\n",
       "      <td>147000</td>\n",
       "    </tr>\n",
       "    <tr>\n",
       "      <th>Samsung Electronics</th>\n",
       "      <td>200734</td>\n",
       "      <td>267937</td>\n",
       "    </tr>\n",
       "    <tr>\n",
       "      <th>Alphabet</th>\n",
       "      <td>182527</td>\n",
       "      <td>135301</td>\n",
       "    </tr>\n",
       "    <tr>\n",
       "      <th>Foxconn</th>\n",
       "      <td>181945</td>\n",
       "      <td>878429</td>\n",
       "    </tr>\n",
       "    <tr>\n",
       "      <th>Microsoft</th>\n",
       "      <td>143015</td>\n",
       "      <td>163000</td>\n",
       "    </tr>\n",
       "  </tbody>\n",
       "</table>\n",
       "</div>"
      ],
      "text/plain": [
       "                     Revenue  Employees\n",
       "Company                                \n",
       "Apple                 274515     147000\n",
       "Samsung Electronics   200734     267937\n",
       "Alphabet              182527     135301\n",
       "Foxconn               181945     878429\n",
       "Microsoft             143015     163000"
      ]
     },
     "execution_count": 66,
     "metadata": {},
     "output_type": "execute_result"
    }
   ],
   "source": [
    "df_mod.drop(labels=['City','Country'],axis=1,inplace=True)\n",
    "df_mod.head()"
   ]
  },
  {
   "cell_type": "code",
   "execution_count": null,
   "metadata": {},
   "outputs": [
    {
     "data": {
      "text/html": [
       "<div>\n",
       "<style scoped>\n",
       "    .dataframe tbody tr th:only-of-type {\n",
       "        vertical-align: middle;\n",
       "    }\n",
       "\n",
       "    .dataframe tbody tr th {\n",
       "        vertical-align: top;\n",
       "    }\n",
       "\n",
       "    .dataframe thead th {\n",
       "        text-align: right;\n",
       "    }\n",
       "</style>\n",
       "<table border=\"1\" class=\"dataframe\">\n",
       "  <thead>\n",
       "    <tr style=\"text-align: right;\">\n",
       "      <th></th>\n",
       "      <th>rev</th>\n",
       "      <th>emp</th>\n",
       "      <th>cit</th>\n",
       "      <th>cou</th>\n",
       "    </tr>\n",
       "    <tr>\n",
       "      <th>Company</th>\n",
       "      <th></th>\n",
       "      <th></th>\n",
       "      <th></th>\n",
       "      <th></th>\n",
       "    </tr>\n",
       "  </thead>\n",
       "  <tbody>\n",
       "    <tr>\n",
       "      <th>Apple</th>\n",
       "      <td>274515</td>\n",
       "      <td>147000</td>\n",
       "      <td>California</td>\n",
       "      <td>United States</td>\n",
       "    </tr>\n",
       "    <tr>\n",
       "      <th>Samsung Electronics</th>\n",
       "      <td>200734</td>\n",
       "      <td>267937</td>\n",
       "      <td>Suwon</td>\n",
       "      <td>South Korea</td>\n",
       "    </tr>\n",
       "    <tr>\n",
       "      <th>Alphabet</th>\n",
       "      <td>182527</td>\n",
       "      <td>135301</td>\n",
       "      <td>California</td>\n",
       "      <td>United States</td>\n",
       "    </tr>\n",
       "  </tbody>\n",
       "</table>\n",
       "</div>"
      ],
      "text/plain": [
       "                        rev     emp         cit            cou\n",
       "Company                                                       \n",
       "Apple                274515  147000  California  United States\n",
       "Samsung Electronics  200734  267937       Suwon    South Korea\n",
       "Alphabet             182527  135301  California  United States"
      ]
     },
     "execution_count": 67,
     "metadata": {},
     "output_type": "execute_result"
    }
   ],
   "source": [
    "# Renombrando columnas rename()\n",
    "new_columns = {'Revenue':'rev','Employees':'emp','City':'cit','Country':'cou'}\n",
    "df.rename(columns=new_columns).head(3)"
   ]
  },
  {
   "cell_type": "code",
   "execution_count": null,
   "metadata": {},
   "outputs": [],
   "source": [
    "# Lambda"
   ]
  },
  {
   "cell_type": "code",
   "execution_count": null,
   "metadata": {},
   "outputs": [
    {
     "data": {
      "text/plain": [
       "Company\n",
       "Apple                       CALIFORNIA\n",
       "Samsung Electronics              SUWON\n",
       "Alphabet                    CALIFORNIA\n",
       "Foxconn                NEW TAIPEI CITY\n",
       "Microsoft                   WASHINGTON\n",
       "Huawei                        SHENZHEN\n",
       "Dell Technologies                TEXAS\n",
       "Facebook                    CALIFORNIA\n",
       "Sony                             TOKYO\n",
       "Hitachi                          TOKYO\n",
       "Intel                       CALIFORNIA\n",
       "IBM                           NEW YORK\n",
       "Tencent                       SHENZHEN\n",
       "Panasonic                        OSAKA\n",
       "Lenovo                       HONG KONG\n",
       "HP Inc.                     CALIFORNIA\n",
       "LG Electronics                   SEOUL\n",
       "Name: City, dtype: object"
      ]
     },
     "execution_count": 68,
     "metadata": {},
     "output_type": "execute_result"
    }
   ],
   "source": [
    "# Manejo de cadenas de texto\n",
    "df['City'].str.upper()"
   ]
  },
  {
   "cell_type": "code",
   "execution_count": null,
   "metadata": {},
   "outputs": [
    {
     "data": {
      "text/plain": [
       "Company\n",
       "Apple                  United_States\n",
       "Samsung Electronics      South_Korea\n",
       "Alphabet               United_States\n",
       "Foxconn                       Taiwan\n",
       "Microsoft              United_States\n",
       "Huawei                         China\n",
       "Dell Technologies      United_States\n",
       "Facebook               United_States\n",
       "Sony                           Japan\n",
       "Hitachi                        Japan\n",
       "Intel                  United_States\n",
       "IBM                    United_States\n",
       "Tencent                        China\n",
       "Panasonic                      Japan\n",
       "Lenovo                         China\n",
       "HP Inc.                United_States\n",
       "LG Electronics           South_Korea\n",
       "Name: Country, dtype: object"
      ]
     },
     "execution_count": 69,
     "metadata": {},
     "output_type": "execute_result"
    }
   ],
   "source": [
    "# Expresiones regulares\n",
    "df['Country'].str.replace(' ','_')"
   ]
  },
  {
   "cell_type": "code",
   "execution_count": null,
   "metadata": {},
   "outputs": [],
   "source": [
    "import re\n",
    "# filtrar por vocales\n",
    "mask = df.index.str.match(r'^[aeiou]',flags=re.IGNORECASE)"
   ]
  },
  {
   "cell_type": "code",
   "execution_count": null,
   "metadata": {},
   "outputs": [
    {
     "data": {
      "text/html": [
       "<div>\n",
       "<style scoped>\n",
       "    .dataframe tbody tr th:only-of-type {\n",
       "        vertical-align: middle;\n",
       "    }\n",
       "\n",
       "    .dataframe tbody tr th {\n",
       "        vertical-align: top;\n",
       "    }\n",
       "\n",
       "    .dataframe thead th {\n",
       "        text-align: right;\n",
       "    }\n",
       "</style>\n",
       "<table border=\"1\" class=\"dataframe\">\n",
       "  <thead>\n",
       "    <tr style=\"text-align: right;\">\n",
       "      <th></th>\n",
       "      <th>Revenue</th>\n",
       "      <th>Employees</th>\n",
       "      <th>City</th>\n",
       "      <th>Country</th>\n",
       "    </tr>\n",
       "    <tr>\n",
       "      <th>Company</th>\n",
       "      <th></th>\n",
       "      <th></th>\n",
       "      <th></th>\n",
       "      <th></th>\n",
       "    </tr>\n",
       "  </thead>\n",
       "  <tbody>\n",
       "    <tr>\n",
       "      <th>Apple</th>\n",
       "      <td>274515</td>\n",
       "      <td>147000</td>\n",
       "      <td>California</td>\n",
       "      <td>United States</td>\n",
       "    </tr>\n",
       "    <tr>\n",
       "      <th>Alphabet</th>\n",
       "      <td>182527</td>\n",
       "      <td>135301</td>\n",
       "      <td>California</td>\n",
       "      <td>United States</td>\n",
       "    </tr>\n",
       "    <tr>\n",
       "      <th>Intel</th>\n",
       "      <td>77867</td>\n",
       "      <td>110600</td>\n",
       "      <td>California</td>\n",
       "      <td>United States</td>\n",
       "    </tr>\n",
       "    <tr>\n",
       "      <th>IBM</th>\n",
       "      <td>73620</td>\n",
       "      <td>364800</td>\n",
       "      <td>New York</td>\n",
       "      <td>United States</td>\n",
       "    </tr>\n",
       "  </tbody>\n",
       "</table>\n",
       "</div>"
      ],
      "text/plain": [
       "          Revenue  Employees        City        Country\n",
       "Company                                                \n",
       "Apple      274515     147000  California  United States\n",
       "Alphabet   182527     135301  California  United States\n",
       "Intel       77867     110600  California  United States\n",
       "IBM         73620     364800    New York  United States"
      ]
     },
     "execution_count": 6,
     "metadata": {},
     "output_type": "execute_result"
    }
   ],
   "source": [
    "df[mask]"
   ]
  },
  {
   "cell_type": "code",
   "execution_count": null,
   "metadata": {},
   "outputs": [
    {
     "data": {
      "text/plain": [
       "Company\n",
       "Apple                       California\n",
       "Samsung Electronics            stanton\n",
       "Alphabet                    California\n",
       "Foxconn                New Taipei City\n",
       "Microsoft                   Washington\n",
       "Huawei                         stanton\n",
       "Dell Technologies              stanton\n",
       "Facebook                    California\n",
       "Sony                           stanton\n",
       "Hitachi                        stanton\n",
       "Intel                       California\n",
       "IBM                           New York\n",
       "Tencent                        stanton\n",
       "Panasonic                        Osaka\n",
       "Lenovo                       Hong Kong\n",
       "HP Inc.                     California\n",
       "LG Electronics                 stanton\n",
       "Name: City, dtype: object"
      ]
     },
     "execution_count": 7,
     "metadata": {},
     "output_type": "execute_result"
    }
   ],
   "source": [
    "# Sustituir valores que empiezan por ST\n",
    "df['City'].str.replace(r'^[ST].*','stanton',regex=True)"
   ]
  },
  {
   "cell_type": "code",
   "execution_count": null,
   "metadata": {},
   "outputs": [
    {
     "data": {
      "text/html": [
       "<div>\n",
       "<style scoped>\n",
       "    .dataframe tbody tr th:only-of-type {\n",
       "        vertical-align: middle;\n",
       "    }\n",
       "\n",
       "    .dataframe tbody tr th {\n",
       "        vertical-align: top;\n",
       "    }\n",
       "\n",
       "    .dataframe thead th {\n",
       "        text-align: right;\n",
       "    }\n",
       "</style>\n",
       "<table border=\"1\" class=\"dataframe\">\n",
       "  <thead>\n",
       "    <tr style=\"text-align: right;\">\n",
       "      <th></th>\n",
       "      <th>0</th>\n",
       "      <th>1</th>\n",
       "    </tr>\n",
       "    <tr>\n",
       "      <th>Company</th>\n",
       "      <th></th>\n",
       "      <th></th>\n",
       "    </tr>\n",
       "  </thead>\n",
       "  <tbody>\n",
       "    <tr>\n",
       "      <th>Apple</th>\n",
       "      <td>United</td>\n",
       "      <td>States</td>\n",
       "    </tr>\n",
       "    <tr>\n",
       "      <th>Samsung Electronics</th>\n",
       "      <td>South</td>\n",
       "      <td>Korea</td>\n",
       "    </tr>\n",
       "    <tr>\n",
       "      <th>Alphabet</th>\n",
       "      <td>United</td>\n",
       "      <td>States</td>\n",
       "    </tr>\n",
       "    <tr>\n",
       "      <th>Foxconn</th>\n",
       "      <td>Taiwan</td>\n",
       "      <td>None</td>\n",
       "    </tr>\n",
       "    <tr>\n",
       "      <th>Microsoft</th>\n",
       "      <td>United</td>\n",
       "      <td>States</td>\n",
       "    </tr>\n",
       "    <tr>\n",
       "      <th>Huawei</th>\n",
       "      <td>China</td>\n",
       "      <td>None</td>\n",
       "    </tr>\n",
       "    <tr>\n",
       "      <th>Dell Technologies</th>\n",
       "      <td>United</td>\n",
       "      <td>States</td>\n",
       "    </tr>\n",
       "    <tr>\n",
       "      <th>Facebook</th>\n",
       "      <td>United</td>\n",
       "      <td>States</td>\n",
       "    </tr>\n",
       "    <tr>\n",
       "      <th>Sony</th>\n",
       "      <td>Japan</td>\n",
       "      <td>None</td>\n",
       "    </tr>\n",
       "    <tr>\n",
       "      <th>Hitachi</th>\n",
       "      <td>Japan</td>\n",
       "      <td>None</td>\n",
       "    </tr>\n",
       "    <tr>\n",
       "      <th>Intel</th>\n",
       "      <td>United</td>\n",
       "      <td>States</td>\n",
       "    </tr>\n",
       "    <tr>\n",
       "      <th>IBM</th>\n",
       "      <td>United</td>\n",
       "      <td>States</td>\n",
       "    </tr>\n",
       "    <tr>\n",
       "      <th>Tencent</th>\n",
       "      <td>China</td>\n",
       "      <td>None</td>\n",
       "    </tr>\n",
       "    <tr>\n",
       "      <th>Panasonic</th>\n",
       "      <td>Japan</td>\n",
       "      <td>None</td>\n",
       "    </tr>\n",
       "    <tr>\n",
       "      <th>Lenovo</th>\n",
       "      <td>China</td>\n",
       "      <td>None</td>\n",
       "    </tr>\n",
       "    <tr>\n",
       "      <th>HP Inc.</th>\n",
       "      <td>United</td>\n",
       "      <td>States</td>\n",
       "    </tr>\n",
       "    <tr>\n",
       "      <th>LG Electronics</th>\n",
       "      <td>South</td>\n",
       "      <td>Korea</td>\n",
       "    </tr>\n",
       "  </tbody>\n",
       "</table>\n",
       "</div>"
      ],
      "text/plain": [
       "                          0       1\n",
       "Company                            \n",
       "Apple                United  States\n",
       "Samsung Electronics   South   Korea\n",
       "Alphabet             United  States\n",
       "Foxconn              Taiwan    None\n",
       "Microsoft            United  States\n",
       "Huawei                China    None\n",
       "Dell Technologies    United  States\n",
       "Facebook             United  States\n",
       "Sony                  Japan    None\n",
       "Hitachi               Japan    None\n",
       "Intel                United  States\n",
       "IBM                  United  States\n",
       "Tencent               China    None\n",
       "Panasonic             Japan    None\n",
       "Lenovo                China    None\n",
       "HP Inc.              United  States\n",
       "LG Electronics        South   Korea"
      ]
     },
     "execution_count": 8,
     "metadata": {},
     "output_type": "execute_result"
    }
   ],
   "source": [
    "# Dividir la columna Country en 2 usando el espacio como separador\n",
    "df['Country'].str.split(' ',expand=True)"
   ]
  },
  {
   "cell_type": "code",
   "execution_count": null,
   "metadata": {},
   "outputs": [
    {
     "data": {
      "text/html": [
       "<div>\n",
       "<style scoped>\n",
       "    .dataframe tbody tr th:only-of-type {\n",
       "        vertical-align: middle;\n",
       "    }\n",
       "\n",
       "    .dataframe tbody tr th {\n",
       "        vertical-align: top;\n",
       "    }\n",
       "\n",
       "    .dataframe thead th {\n",
       "        text-align: right;\n",
       "    }\n",
       "</style>\n",
       "<table border=\"1\" class=\"dataframe\">\n",
       "  <thead>\n",
       "    <tr style=\"text-align: right;\">\n",
       "      <th></th>\n",
       "      <th>Revenue</th>\n",
       "      <th>Employees</th>\n",
       "      <th>City</th>\n",
       "      <th>Country</th>\n",
       "      <th>Founded</th>\n",
       "    </tr>\n",
       "    <tr>\n",
       "      <th>Company</th>\n",
       "      <th></th>\n",
       "      <th></th>\n",
       "      <th></th>\n",
       "      <th></th>\n",
       "      <th></th>\n",
       "    </tr>\n",
       "  </thead>\n",
       "  <tbody>\n",
       "    <tr>\n",
       "      <th>Apple</th>\n",
       "      <td>274515</td>\n",
       "      <td>147000</td>\n",
       "      <td>California</td>\n",
       "      <td>United States</td>\n",
       "      <td>1/9/2015</td>\n",
       "    </tr>\n",
       "    <tr>\n",
       "      <th>Samsung Electronics</th>\n",
       "      <td>200734</td>\n",
       "      <td>267937</td>\n",
       "      <td>Suwon</td>\n",
       "      <td>South Korea</td>\n",
       "      <td>2/9/1997</td>\n",
       "    </tr>\n",
       "    <tr>\n",
       "      <th>Alphabet</th>\n",
       "      <td>182527</td>\n",
       "      <td>135301</td>\n",
       "      <td>California</td>\n",
       "      <td>United States</td>\n",
       "      <td>3/3/1997</td>\n",
       "    </tr>\n",
       "    <tr>\n",
       "      <th>Foxconn</th>\n",
       "      <td>181945</td>\n",
       "      <td>878429</td>\n",
       "      <td>New Taipei City</td>\n",
       "      <td>Taiwan</td>\n",
       "      <td>4/4/1997</td>\n",
       "    </tr>\n",
       "    <tr>\n",
       "      <th>Microsoft</th>\n",
       "      <td>143015</td>\n",
       "      <td>163000</td>\n",
       "      <td>Washington</td>\n",
       "      <td>United States</td>\n",
       "      <td>5/5/1997</td>\n",
       "    </tr>\n",
       "  </tbody>\n",
       "</table>\n",
       "</div>"
      ],
      "text/plain": [
       "                     Revenue  Employees             City        Country  \\\n",
       "Company                                                                   \n",
       "Apple                 274515     147000       California  United States   \n",
       "Samsung Electronics   200734     267937            Suwon    South Korea   \n",
       "Alphabet              182527     135301       California  United States   \n",
       "Foxconn               181945     878429  New Taipei City         Taiwan   \n",
       "Microsoft             143015     163000       Washington  United States   \n",
       "\n",
       "                      Founded  \n",
       "Company                        \n",
       "Apple                1/9/2015  \n",
       "Samsung Electronics  2/9/1997  \n",
       "Alphabet             3/3/1997  \n",
       "Foxconn              4/4/1997  \n",
       "Microsoft            5/5/1997  "
      ]
     },
     "execution_count": 18,
     "metadata": {},
     "output_type": "execute_result"
    }
   ],
   "source": [
    "# Manejo de fechas \n",
    "# añadir al «dataset» de empresas tecnológicas una nueva columna con las fechas\n",
    "# de fundación de las empresas (en formato «string»):\n",
    "\n",
    "df['Founded'] = ['1/9/2015', '2/9/1997', '3/3/1997', '4/4/1997', '5/5/1997', '6/6/1997', '7/7/1997'\n",
    "                 ,'8/7/1997', '8/8/1997', '9/9/1997','2/9/1997', '5/5/1997', '6/6/1997','5/6/1997', '7/7/1997'\n",
    "                 ,'8/8/1997', '9/9/1997'\n",
    "                 ]\n",
    "df.head()"
   ]
  },
  {
   "cell_type": "code",
   "execution_count": null,
   "metadata": {},
   "outputs": [
    {
     "data": {
      "text/html": [
       "<div>\n",
       "<style scoped>\n",
       "    .dataframe tbody tr th:only-of-type {\n",
       "        vertical-align: middle;\n",
       "    }\n",
       "\n",
       "    .dataframe tbody tr th {\n",
       "        vertical-align: top;\n",
       "    }\n",
       "\n",
       "    .dataframe thead th {\n",
       "        text-align: right;\n",
       "    }\n",
       "</style>\n",
       "<table border=\"1\" class=\"dataframe\">\n",
       "  <thead>\n",
       "    <tr style=\"text-align: right;\">\n",
       "      <th></th>\n",
       "      <th>Revenue</th>\n",
       "      <th>Employees</th>\n",
       "      <th>City</th>\n",
       "      <th>Country</th>\n",
       "      <th>Founded</th>\n",
       "    </tr>\n",
       "    <tr>\n",
       "      <th>Company</th>\n",
       "      <th></th>\n",
       "      <th></th>\n",
       "      <th></th>\n",
       "      <th></th>\n",
       "      <th></th>\n",
       "    </tr>\n",
       "  </thead>\n",
       "  <tbody>\n",
       "    <tr>\n",
       "      <th>Apple</th>\n",
       "      <td>274515</td>\n",
       "      <td>147000</td>\n",
       "      <td>California</td>\n",
       "      <td>United States</td>\n",
       "      <td>2015-01-09</td>\n",
       "    </tr>\n",
       "    <tr>\n",
       "      <th>Samsung Electronics</th>\n",
       "      <td>200734</td>\n",
       "      <td>267937</td>\n",
       "      <td>Suwon</td>\n",
       "      <td>South Korea</td>\n",
       "      <td>1997-02-09</td>\n",
       "    </tr>\n",
       "    <tr>\n",
       "      <th>Alphabet</th>\n",
       "      <td>182527</td>\n",
       "      <td>135301</td>\n",
       "      <td>California</td>\n",
       "      <td>United States</td>\n",
       "      <td>1997-03-03</td>\n",
       "    </tr>\n",
       "    <tr>\n",
       "      <th>Foxconn</th>\n",
       "      <td>181945</td>\n",
       "      <td>878429</td>\n",
       "      <td>New Taipei City</td>\n",
       "      <td>Taiwan</td>\n",
       "      <td>1997-04-04</td>\n",
       "    </tr>\n",
       "    <tr>\n",
       "      <th>Microsoft</th>\n",
       "      <td>143015</td>\n",
       "      <td>163000</td>\n",
       "      <td>Washington</td>\n",
       "      <td>United States</td>\n",
       "      <td>1997-05-05</td>\n",
       "    </tr>\n",
       "  </tbody>\n",
       "</table>\n",
       "</div>"
      ],
      "text/plain": [
       "                     Revenue  Employees             City        Country  \\\n",
       "Company                                                                   \n",
       "Apple                 274515     147000       California  United States   \n",
       "Samsung Electronics   200734     267937            Suwon    South Korea   \n",
       "Alphabet              182527     135301       California  United States   \n",
       "Foxconn               181945     878429  New Taipei City         Taiwan   \n",
       "Microsoft             143015     163000       Washington  United States   \n",
       "\n",
       "                       Founded  \n",
       "Company                         \n",
       "Apple               2015-01-09  \n",
       "Samsung Electronics 1997-02-09  \n",
       "Alphabet            1997-03-03  \n",
       "Foxconn             1997-04-04  \n",
       "Microsoft           1997-05-05  "
      ]
     },
     "execution_count": 19,
     "metadata": {},
     "output_type": "execute_result"
    }
   ],
   "source": [
    "# convertir la columna «Founded» al tipo «datetime» usando la función to_datetime():\n",
    "\n",
    "df['Founded'] = pd.to_datetime(df['Founded'])\n",
    "df.head()"
   ]
  },
  {
   "cell_type": "code",
   "execution_count": null,
   "metadata": {},
   "outputs": [
    {
     "data": {
      "text/html": [
       "<div>\n",
       "<style scoped>\n",
       "    .dataframe tbody tr th:only-of-type {\n",
       "        vertical-align: middle;\n",
       "    }\n",
       "\n",
       "    .dataframe tbody tr th {\n",
       "        vertical-align: top;\n",
       "    }\n",
       "\n",
       "    .dataframe thead th {\n",
       "        text-align: right;\n",
       "    }\n",
       "</style>\n",
       "<table border=\"1\" class=\"dataframe\">\n",
       "  <thead>\n",
       "    <tr style=\"text-align: right;\">\n",
       "      <th></th>\n",
       "      <th>Founded</th>\n",
       "      <th>fyear</th>\n",
       "      <th>fmonth</th>\n",
       "      <th>fday</th>\n",
       "    </tr>\n",
       "    <tr>\n",
       "      <th>Company</th>\n",
       "      <th></th>\n",
       "      <th></th>\n",
       "      <th></th>\n",
       "      <th></th>\n",
       "    </tr>\n",
       "  </thead>\n",
       "  <tbody>\n",
       "    <tr>\n",
       "      <th>Apple</th>\n",
       "      <td>2015-01-09</td>\n",
       "      <td>2015</td>\n",
       "      <td>1</td>\n",
       "      <td>9</td>\n",
       "    </tr>\n",
       "    <tr>\n",
       "      <th>Samsung Electronics</th>\n",
       "      <td>1997-02-09</td>\n",
       "      <td>1997</td>\n",
       "      <td>2</td>\n",
       "      <td>9</td>\n",
       "    </tr>\n",
       "    <tr>\n",
       "      <th>Alphabet</th>\n",
       "      <td>1997-03-03</td>\n",
       "      <td>1997</td>\n",
       "      <td>3</td>\n",
       "      <td>3</td>\n",
       "    </tr>\n",
       "    <tr>\n",
       "      <th>Foxconn</th>\n",
       "      <td>1997-04-04</td>\n",
       "      <td>1997</td>\n",
       "      <td>4</td>\n",
       "      <td>4</td>\n",
       "    </tr>\n",
       "    <tr>\n",
       "      <th>Microsoft</th>\n",
       "      <td>1997-05-05</td>\n",
       "      <td>1997</td>\n",
       "      <td>5</td>\n",
       "      <td>5</td>\n",
       "    </tr>\n",
       "  </tbody>\n",
       "</table>\n",
       "</div>"
      ],
      "text/plain": [
       "                       Founded  fyear  fmonth  fday\n",
       "Company                                            \n",
       "Apple               2015-01-09   2015       1     9\n",
       "Samsung Electronics 1997-02-09   1997       2     9\n",
       "Alphabet            1997-03-03   1997       3     3\n",
       "Foxconn             1997-04-04   1997       4     4\n",
       "Microsoft           1997-05-05   1997       5     5"
      ]
     },
     "execution_count": 21,
     "metadata": {},
     "output_type": "execute_result"
    }
   ],
   "source": [
    "# acceder a cada elemento de la fecha:\n",
    "\n",
    "df['fyear'] = df['Founded'].dt.year\n",
    "df['fmonth'] = df['Founded'].dt.month\n",
    "df['fday'] = df['Founded'].dt.day\n",
    "\n",
    "\n",
    "df.loc[:,'Founded':].head()"
   ]
  },
  {
   "cell_type": "code",
   "execution_count": null,
   "metadata": {},
   "outputs": [
    {
     "data": {
      "text/plain": [
       "Company\n",
       "Apple                   9\n",
       "Samsung Electronics    27\n",
       "Alphabet               27\n",
       "Foxconn                27\n",
       "Microsoft              27\n",
       "Huawei                 27\n",
       "Dell Technologies      27\n",
       "Facebook               27\n",
       "Sony                   27\n",
       "Hitachi                27\n",
       "Intel                  27\n",
       "IBM                    27\n",
       "Tencent                27\n",
       "Panasonic              27\n",
       "Lenovo                 27\n",
       "HP Inc.                27\n",
       "LG Electronics         27\n",
       "Name: Founded, dtype: int32"
      ]
     },
     "execution_count": 22,
     "metadata": {},
     "output_type": "execute_result"
    }
   ],
   "source": [
    "# calcular el número de años que llevan activas las empresas:\n",
    "pd.to_datetime('today').year - df['Founded'].dt.year"
   ]
  },
  {
   "cell_type": "code",
   "execution_count": null,
   "metadata": {},
   "outputs": [
    {
     "data": {
      "text/html": [
       "<div>\n",
       "<style scoped>\n",
       "    .dataframe tbody tr th:only-of-type {\n",
       "        vertical-align: middle;\n",
       "    }\n",
       "\n",
       "    .dataframe tbody tr th {\n",
       "        vertical-align: top;\n",
       "    }\n",
       "\n",
       "    .dataframe thead th {\n",
       "        text-align: right;\n",
       "    }\n",
       "</style>\n",
       "<table border=\"1\" class=\"dataframe\">\n",
       "  <thead>\n",
       "    <tr style=\"text-align: right;\">\n",
       "      <th></th>\n",
       "      <th>Revenue</th>\n",
       "      <th>Employees</th>\n",
       "      <th>City</th>\n",
       "      <th>Country</th>\n",
       "      <th>Founded</th>\n",
       "      <th>fyear</th>\n",
       "      <th>fmonth</th>\n",
       "      <th>fday</th>\n",
       "    </tr>\n",
       "    <tr>\n",
       "      <th>Company</th>\n",
       "      <th></th>\n",
       "      <th></th>\n",
       "      <th></th>\n",
       "      <th></th>\n",
       "      <th></th>\n",
       "      <th></th>\n",
       "      <th></th>\n",
       "      <th></th>\n",
       "    </tr>\n",
       "  </thead>\n",
       "  <tbody>\n",
       "    <tr>\n",
       "      <th>Samsung Electronics</th>\n",
       "      <td>200734</td>\n",
       "      <td>267937</td>\n",
       "      <td>Suwon</td>\n",
       "      <td>South Korea</td>\n",
       "      <td>1997-02-09</td>\n",
       "      <td>1997</td>\n",
       "      <td>2</td>\n",
       "      <td>9</td>\n",
       "    </tr>\n",
       "    <tr>\n",
       "      <th>Alphabet</th>\n",
       "      <td>182527</td>\n",
       "      <td>135301</td>\n",
       "      <td>California</td>\n",
       "      <td>United States</td>\n",
       "      <td>1997-03-03</td>\n",
       "      <td>1997</td>\n",
       "      <td>3</td>\n",
       "      <td>3</td>\n",
       "    </tr>\n",
       "    <tr>\n",
       "      <th>Foxconn</th>\n",
       "      <td>181945</td>\n",
       "      <td>878429</td>\n",
       "      <td>New Taipei City</td>\n",
       "      <td>Taiwan</td>\n",
       "      <td>1997-04-04</td>\n",
       "      <td>1997</td>\n",
       "      <td>4</td>\n",
       "      <td>4</td>\n",
       "    </tr>\n",
       "    <tr>\n",
       "      <th>Microsoft</th>\n",
       "      <td>143015</td>\n",
       "      <td>163000</td>\n",
       "      <td>Washington</td>\n",
       "      <td>United States</td>\n",
       "      <td>1997-05-05</td>\n",
       "      <td>1997</td>\n",
       "      <td>5</td>\n",
       "      <td>5</td>\n",
       "    </tr>\n",
       "    <tr>\n",
       "      <th>Huawei</th>\n",
       "      <td>129184</td>\n",
       "      <td>197000</td>\n",
       "      <td>Shenzhen</td>\n",
       "      <td>China</td>\n",
       "      <td>1997-06-06</td>\n",
       "      <td>1997</td>\n",
       "      <td>6</td>\n",
       "      <td>6</td>\n",
       "    </tr>\n",
       "    <tr>\n",
       "      <th>Dell Technologies</th>\n",
       "      <td>92224</td>\n",
       "      <td>158000</td>\n",
       "      <td>Texas</td>\n",
       "      <td>United States</td>\n",
       "      <td>1997-07-07</td>\n",
       "      <td>1997</td>\n",
       "      <td>7</td>\n",
       "      <td>7</td>\n",
       "    </tr>\n",
       "    <tr>\n",
       "      <th>Facebook</th>\n",
       "      <td>85965</td>\n",
       "      <td>58604</td>\n",
       "      <td>California</td>\n",
       "      <td>United States</td>\n",
       "      <td>1997-08-07</td>\n",
       "      <td>1997</td>\n",
       "      <td>8</td>\n",
       "      <td>7</td>\n",
       "    </tr>\n",
       "    <tr>\n",
       "      <th>Sony</th>\n",
       "      <td>84893</td>\n",
       "      <td>109700</td>\n",
       "      <td>Tokyo</td>\n",
       "      <td>Japan</td>\n",
       "      <td>1997-08-08</td>\n",
       "      <td>1997</td>\n",
       "      <td>8</td>\n",
       "      <td>8</td>\n",
       "    </tr>\n",
       "    <tr>\n",
       "      <th>Hitachi</th>\n",
       "      <td>82345</td>\n",
       "      <td>350864</td>\n",
       "      <td>Tokyo</td>\n",
       "      <td>Japan</td>\n",
       "      <td>1997-09-09</td>\n",
       "      <td>1997</td>\n",
       "      <td>9</td>\n",
       "      <td>9</td>\n",
       "    </tr>\n",
       "    <tr>\n",
       "      <th>Intel</th>\n",
       "      <td>77867</td>\n",
       "      <td>110600</td>\n",
       "      <td>California</td>\n",
       "      <td>United States</td>\n",
       "      <td>1997-02-09</td>\n",
       "      <td>1997</td>\n",
       "      <td>2</td>\n",
       "      <td>9</td>\n",
       "    </tr>\n",
       "    <tr>\n",
       "      <th>IBM</th>\n",
       "      <td>73620</td>\n",
       "      <td>364800</td>\n",
       "      <td>New York</td>\n",
       "      <td>United States</td>\n",
       "      <td>1997-05-05</td>\n",
       "      <td>1997</td>\n",
       "      <td>5</td>\n",
       "      <td>5</td>\n",
       "    </tr>\n",
       "    <tr>\n",
       "      <th>Tencent</th>\n",
       "      <td>69864</td>\n",
       "      <td>85858</td>\n",
       "      <td>Shenzhen</td>\n",
       "      <td>China</td>\n",
       "      <td>1997-06-06</td>\n",
       "      <td>1997</td>\n",
       "      <td>6</td>\n",
       "      <td>6</td>\n",
       "    </tr>\n",
       "    <tr>\n",
       "      <th>Panasonic</th>\n",
       "      <td>63191</td>\n",
       "      <td>243540</td>\n",
       "      <td>Osaka</td>\n",
       "      <td>Japan</td>\n",
       "      <td>1997-05-06</td>\n",
       "      <td>1997</td>\n",
       "      <td>5</td>\n",
       "      <td>6</td>\n",
       "    </tr>\n",
       "    <tr>\n",
       "      <th>Lenovo</th>\n",
       "      <td>60742</td>\n",
       "      <td>71500</td>\n",
       "      <td>Hong Kong</td>\n",
       "      <td>China</td>\n",
       "      <td>1997-07-07</td>\n",
       "      <td>1997</td>\n",
       "      <td>7</td>\n",
       "      <td>7</td>\n",
       "    </tr>\n",
       "    <tr>\n",
       "      <th>HP Inc.</th>\n",
       "      <td>56639</td>\n",
       "      <td>53000</td>\n",
       "      <td>California</td>\n",
       "      <td>United States</td>\n",
       "      <td>1997-08-08</td>\n",
       "      <td>1997</td>\n",
       "      <td>8</td>\n",
       "      <td>8</td>\n",
       "    </tr>\n",
       "    <tr>\n",
       "      <th>LG Electronics</th>\n",
       "      <td>53625</td>\n",
       "      <td>75000</td>\n",
       "      <td>Seoul</td>\n",
       "      <td>South Korea</td>\n",
       "      <td>1997-09-09</td>\n",
       "      <td>1997</td>\n",
       "      <td>9</td>\n",
       "      <td>9</td>\n",
       "    </tr>\n",
       "  </tbody>\n",
       "</table>\n",
       "</div>"
      ],
      "text/plain": [
       "                     Revenue  Employees             City        Country  \\\n",
       "Company                                                                   \n",
       "Samsung Electronics   200734     267937            Suwon    South Korea   \n",
       "Alphabet              182527     135301       California  United States   \n",
       "Foxconn               181945     878429  New Taipei City         Taiwan   \n",
       "Microsoft             143015     163000       Washington  United States   \n",
       "Huawei                129184     197000         Shenzhen          China   \n",
       "Dell Technologies      92224     158000            Texas  United States   \n",
       "Facebook               85965      58604       California  United States   \n",
       "Sony                   84893     109700            Tokyo          Japan   \n",
       "Hitachi                82345     350864            Tokyo          Japan   \n",
       "Intel                  77867     110600       California  United States   \n",
       "IBM                    73620     364800         New York  United States   \n",
       "Tencent                69864      85858         Shenzhen          China   \n",
       "Panasonic              63191     243540            Osaka          Japan   \n",
       "Lenovo                 60742      71500        Hong Kong          China   \n",
       "HP Inc.                56639      53000       California  United States   \n",
       "LG Electronics         53625      75000            Seoul    South Korea   \n",
       "\n",
       "                       Founded  fyear  fmonth  fday  \n",
       "Company                                              \n",
       "Samsung Electronics 1997-02-09   1997       2     9  \n",
       "Alphabet            1997-03-03   1997       3     3  \n",
       "Foxconn             1997-04-04   1997       4     4  \n",
       "Microsoft           1997-05-05   1997       5     5  \n",
       "Huawei              1997-06-06   1997       6     6  \n",
       "Dell Technologies   1997-07-07   1997       7     7  \n",
       "Facebook            1997-08-07   1997       8     7  \n",
       "Sony                1997-08-08   1997       8     8  \n",
       "Hitachi             1997-09-09   1997       9     9  \n",
       "Intel               1997-02-09   1997       2     9  \n",
       "IBM                 1997-05-05   1997       5     5  \n",
       "Tencent             1997-06-06   1997       6     6  \n",
       "Panasonic           1997-05-06   1997       5     6  \n",
       "Lenovo              1997-07-07   1997       7     7  \n",
       "HP Inc.             1997-08-08   1997       8     8  \n",
       "LG Electronics      1997-09-09   1997       9     9  "
      ]
     },
     "execution_count": 26,
     "metadata": {},
     "output_type": "execute_result"
    }
   ],
   "source": [
    "# empresas creadas antes del 2000\n",
    "df.query('Founded <= 2000')"
   ]
  },
  {
   "cell_type": "code",
   "execution_count": null,
   "metadata": {},
   "outputs": [
    {
     "data": {
      "text/html": [
       "<div>\n",
       "<style scoped>\n",
       "    .dataframe tbody tr th:only-of-type {\n",
       "        vertical-align: middle;\n",
       "    }\n",
       "\n",
       "    .dataframe tbody tr th {\n",
       "        vertical-align: top;\n",
       "    }\n",
       "\n",
       "    .dataframe thead th {\n",
       "        text-align: right;\n",
       "    }\n",
       "</style>\n",
       "<table border=\"1\" class=\"dataframe\">\n",
       "  <thead>\n",
       "    <tr style=\"text-align: right;\">\n",
       "      <th></th>\n",
       "      <th>Revenue</th>\n",
       "      <th>Employees</th>\n",
       "      <th>City</th>\n",
       "      <th>Country</th>\n",
       "      <th>Founded</th>\n",
       "      <th>fyear</th>\n",
       "      <th>fmonth</th>\n",
       "      <th>fday</th>\n",
       "    </tr>\n",
       "    <tr>\n",
       "      <th>Company</th>\n",
       "      <th></th>\n",
       "      <th></th>\n",
       "      <th></th>\n",
       "      <th></th>\n",
       "      <th></th>\n",
       "      <th></th>\n",
       "      <th></th>\n",
       "      <th></th>\n",
       "    </tr>\n",
       "  </thead>\n",
       "  <tbody>\n",
       "    <tr>\n",
       "      <th>Apple</th>\n",
       "      <td>274515</td>\n",
       "      <td>147000</td>\n",
       "      <td>California</td>\n",
       "      <td>United States</td>\n",
       "      <td>2015-01-09</td>\n",
       "      <td>2015</td>\n",
       "      <td>1</td>\n",
       "      <td>9</td>\n",
       "    </tr>\n",
       "  </tbody>\n",
       "</table>\n",
       "</div>"
      ],
      "text/plain": [
       "         Revenue  Employees        City        Country    Founded  fyear  \\\n",
       "Company                                                                    \n",
       "Apple     274515     147000  California  United States 2015-01-09   2015   \n",
       "\n",
       "         fmonth  fday  \n",
       "Company                \n",
       "Apple         1     9  "
      ]
     },
     "execution_count": 27,
     "metadata": {},
     "output_type": "execute_result"
    }
   ],
   "source": [
    "# Empresas creadas en Enero\n",
    "df.query('Founded.dt.month == 1')"
   ]
  },
  {
   "cell_type": "code",
   "execution_count": null,
   "metadata": {},
   "outputs": [
    {
     "data": {
      "text/html": [
       "<div>\n",
       "<style scoped>\n",
       "    .dataframe tbody tr th:only-of-type {\n",
       "        vertical-align: middle;\n",
       "    }\n",
       "\n",
       "    .dataframe tbody tr th {\n",
       "        vertical-align: top;\n",
       "    }\n",
       "\n",
       "    .dataframe thead th {\n",
       "        text-align: right;\n",
       "    }\n",
       "</style>\n",
       "<table border=\"1\" class=\"dataframe\">\n",
       "  <thead>\n",
       "    <tr style=\"text-align: right;\">\n",
       "      <th></th>\n",
       "      <th>Revenue</th>\n",
       "      <th>Employees</th>\n",
       "      <th>City</th>\n",
       "      <th>Country</th>\n",
       "      <th>Founded</th>\n",
       "      <th>fyear</th>\n",
       "      <th>fmonth</th>\n",
       "      <th>fday</th>\n",
       "    </tr>\n",
       "    <tr>\n",
       "      <th>Company</th>\n",
       "      <th></th>\n",
       "      <th></th>\n",
       "      <th></th>\n",
       "      <th></th>\n",
       "      <th></th>\n",
       "      <th></th>\n",
       "      <th></th>\n",
       "      <th></th>\n",
       "    </tr>\n",
       "  </thead>\n",
       "  <tbody>\n",
       "    <tr>\n",
       "      <th>Hitachi</th>\n",
       "      <td>82345</td>\n",
       "      <td>350864</td>\n",
       "      <td>Tokyo</td>\n",
       "      <td>Japan</td>\n",
       "      <td>1997-09-09</td>\n",
       "      <td>1997</td>\n",
       "      <td>9</td>\n",
       "      <td>9</td>\n",
       "    </tr>\n",
       "    <tr>\n",
       "      <th>LG Electronics</th>\n",
       "      <td>53625</td>\n",
       "      <td>75000</td>\n",
       "      <td>Seoul</td>\n",
       "      <td>South Korea</td>\n",
       "      <td>1997-09-09</td>\n",
       "      <td>1997</td>\n",
       "      <td>9</td>\n",
       "      <td>9</td>\n",
       "    </tr>\n",
       "  </tbody>\n",
       "</table>\n",
       "</div>"
      ],
      "text/plain": [
       "                Revenue  Employees   City      Country    Founded  fyear  \\\n",
       "Company                                                                    \n",
       "Hitachi           82345     350864  Tokyo        Japan 1997-09-09   1997   \n",
       "LG Electronics    53625      75000  Seoul  South Korea 1997-09-09   1997   \n",
       "\n",
       "                fmonth  fday  \n",
       "Company                       \n",
       "Hitachi              9     9  \n",
       "LG Electronics       9     9  "
      ]
     },
     "execution_count": 29,
     "metadata": {},
     "output_type": "execute_result"
    }
   ],
   "source": [
    "# Empresas creadas en el ultimo cuatrimestre del año\n",
    "df.query('9 <= Founded.dt.month <= 12')"
   ]
  },
  {
   "cell_type": "code",
   "execution_count": null,
   "metadata": {},
   "outputs": [
    {
     "data": {
      "text/html": [
       "<div>\n",
       "<style scoped>\n",
       "    .dataframe tbody tr th:only-of-type {\n",
       "        vertical-align: middle;\n",
       "    }\n",
       "\n",
       "    .dataframe tbody tr th {\n",
       "        vertical-align: top;\n",
       "    }\n",
       "\n",
       "    .dataframe thead th {\n",
       "        text-align: right;\n",
       "    }\n",
       "</style>\n",
       "<table border=\"1\" class=\"dataframe\">\n",
       "  <thead>\n",
       "    <tr style=\"text-align: right;\">\n",
       "      <th></th>\n",
       "      <th>Company</th>\n",
       "      <th>Revenue</th>\n",
       "      <th>Employees</th>\n",
       "      <th>City</th>\n",
       "      <th>Country</th>\n",
       "      <th>fyear</th>\n",
       "      <th>fmonth</th>\n",
       "      <th>fday</th>\n",
       "    </tr>\n",
       "    <tr>\n",
       "      <th>Founded</th>\n",
       "      <th></th>\n",
       "      <th></th>\n",
       "      <th></th>\n",
       "      <th></th>\n",
       "      <th></th>\n",
       "      <th></th>\n",
       "      <th></th>\n",
       "      <th></th>\n",
       "    </tr>\n",
       "  </thead>\n",
       "  <tbody>\n",
       "    <tr>\n",
       "      <th>1997-02-09</th>\n",
       "      <td>Samsung Electronics</td>\n",
       "      <td>200734</td>\n",
       "      <td>267937</td>\n",
       "      <td>Suwon</td>\n",
       "      <td>South Korea</td>\n",
       "      <td>1997</td>\n",
       "      <td>2</td>\n",
       "      <td>9</td>\n",
       "    </tr>\n",
       "    <tr>\n",
       "      <th>1997-02-09</th>\n",
       "      <td>Intel</td>\n",
       "      <td>77867</td>\n",
       "      <td>110600</td>\n",
       "      <td>California</td>\n",
       "      <td>United States</td>\n",
       "      <td>1997</td>\n",
       "      <td>2</td>\n",
       "      <td>9</td>\n",
       "    </tr>\n",
       "    <tr>\n",
       "      <th>1997-03-03</th>\n",
       "      <td>Alphabet</td>\n",
       "      <td>182527</td>\n",
       "      <td>135301</td>\n",
       "      <td>California</td>\n",
       "      <td>United States</td>\n",
       "      <td>1997</td>\n",
       "      <td>3</td>\n",
       "      <td>3</td>\n",
       "    </tr>\n",
       "    <tr>\n",
       "      <th>1997-04-04</th>\n",
       "      <td>Foxconn</td>\n",
       "      <td>181945</td>\n",
       "      <td>878429</td>\n",
       "      <td>New Taipei City</td>\n",
       "      <td>Taiwan</td>\n",
       "      <td>1997</td>\n",
       "      <td>4</td>\n",
       "      <td>4</td>\n",
       "    </tr>\n",
       "    <tr>\n",
       "      <th>1997-05-05</th>\n",
       "      <td>Microsoft</td>\n",
       "      <td>143015</td>\n",
       "      <td>163000</td>\n",
       "      <td>Washington</td>\n",
       "      <td>United States</td>\n",
       "      <td>1997</td>\n",
       "      <td>5</td>\n",
       "      <td>5</td>\n",
       "    </tr>\n",
       "  </tbody>\n",
       "</table>\n",
       "</div>"
      ],
      "text/plain": [
       "                        Company  Revenue  Employees             City  \\\n",
       "Founded                                                                \n",
       "1997-02-09  Samsung Electronics   200734     267937            Suwon   \n",
       "1997-02-09                Intel    77867     110600       California   \n",
       "1997-03-03             Alphabet   182527     135301       California   \n",
       "1997-04-04              Foxconn   181945     878429  New Taipei City   \n",
       "1997-05-05            Microsoft   143015     163000       Washington   \n",
       "\n",
       "                  Country  fyear  fmonth  fday  \n",
       "Founded                                         \n",
       "1997-02-09    South Korea   1997       2     9  \n",
       "1997-02-09  United States   1997       2     9  \n",
       "1997-03-03  United States   1997       3     3  \n",
       "1997-04-04         Taiwan   1997       4     4  \n",
       "1997-05-05  United States   1997       5     5  "
      ]
     },
     "execution_count": 30,
     "metadata": {},
     "output_type": "execute_result"
    }
   ],
   "source": [
    "# la fecha se convierte en el índice del DataFrame:\n",
    "df = df.reset_index().set_index('Founded').sort_index()\n",
    "df.head()"
   ]
  },
  {
   "cell_type": "code",
   "execution_count": null,
   "metadata": {},
   "outputs": [
    {
     "data": {
      "text/html": [
       "<div>\n",
       "<style scoped>\n",
       "    .dataframe tbody tr th:only-of-type {\n",
       "        vertical-align: middle;\n",
       "    }\n",
       "\n",
       "    .dataframe tbody tr th {\n",
       "        vertical-align: top;\n",
       "    }\n",
       "\n",
       "    .dataframe thead th {\n",
       "        text-align: right;\n",
       "    }\n",
       "</style>\n",
       "<table border=\"1\" class=\"dataframe\">\n",
       "  <thead>\n",
       "    <tr style=\"text-align: right;\">\n",
       "      <th></th>\n",
       "      <th>Company</th>\n",
       "      <th>Revenue</th>\n",
       "      <th>Employees</th>\n",
       "      <th>City</th>\n",
       "      <th>Country</th>\n",
       "      <th>fyear</th>\n",
       "      <th>fmonth</th>\n",
       "      <th>fday</th>\n",
       "    </tr>\n",
       "    <tr>\n",
       "      <th>Founded</th>\n",
       "      <th></th>\n",
       "      <th></th>\n",
       "      <th></th>\n",
       "      <th></th>\n",
       "      <th></th>\n",
       "      <th></th>\n",
       "      <th></th>\n",
       "      <th></th>\n",
       "    </tr>\n",
       "  </thead>\n",
       "  <tbody>\n",
       "    <tr>\n",
       "      <th>2015-01-09</th>\n",
       "      <td>Apple</td>\n",
       "      <td>274515</td>\n",
       "      <td>147000</td>\n",
       "      <td>California</td>\n",
       "      <td>United States</td>\n",
       "      <td>2015</td>\n",
       "      <td>1</td>\n",
       "      <td>9</td>\n",
       "    </tr>\n",
       "  </tbody>\n",
       "</table>\n",
       "</div>"
      ],
      "text/plain": [
       "           Company  Revenue  Employees        City        Country  fyear  \\\n",
       "Founded                                                                    \n",
       "2015-01-09   Apple   274515     147000  California  United States   2015   \n",
       "\n",
       "            fmonth  fday  \n",
       "Founded                   \n",
       "2015-01-09       1     9  "
      ]
     },
     "execution_count": 32,
     "metadata": {},
     "output_type": "execute_result"
    }
   ],
   "source": [
    "# indexar de manera mas rapida\n",
    "df.loc['2015']"
   ]
  },
  {
   "cell_type": "code",
   "execution_count": null,
   "metadata": {},
   "outputs": [
    {
     "data": {
      "text/html": [
       "<div>\n",
       "<style scoped>\n",
       "    .dataframe tbody tr th:only-of-type {\n",
       "        vertical-align: middle;\n",
       "    }\n",
       "\n",
       "    .dataframe tbody tr th {\n",
       "        vertical-align: top;\n",
       "    }\n",
       "\n",
       "    .dataframe thead th {\n",
       "        text-align: right;\n",
       "    }\n",
       "</style>\n",
       "<table border=\"1\" class=\"dataframe\">\n",
       "  <thead>\n",
       "    <tr style=\"text-align: right;\">\n",
       "      <th></th>\n",
       "      <th>Company</th>\n",
       "      <th>Revenue</th>\n",
       "      <th>Employees</th>\n",
       "      <th>City</th>\n",
       "      <th>Country</th>\n",
       "      <th>fyear</th>\n",
       "      <th>fmonth</th>\n",
       "      <th>fday</th>\n",
       "    </tr>\n",
       "    <tr>\n",
       "      <th>Founded</th>\n",
       "      <th></th>\n",
       "      <th></th>\n",
       "      <th></th>\n",
       "      <th></th>\n",
       "      <th></th>\n",
       "      <th></th>\n",
       "      <th></th>\n",
       "      <th></th>\n",
       "    </tr>\n",
       "  </thead>\n",
       "  <tbody>\n",
       "    <tr>\n",
       "      <th>1997-02-09</th>\n",
       "      <td>Samsung Electronics</td>\n",
       "      <td>200734</td>\n",
       "      <td>267937</td>\n",
       "      <td>Suwon</td>\n",
       "      <td>South Korea</td>\n",
       "      <td>1997</td>\n",
       "      <td>2</td>\n",
       "      <td>9</td>\n",
       "    </tr>\n",
       "    <tr>\n",
       "      <th>1997-02-09</th>\n",
       "      <td>Intel</td>\n",
       "      <td>77867</td>\n",
       "      <td>110600</td>\n",
       "      <td>California</td>\n",
       "      <td>United States</td>\n",
       "      <td>1997</td>\n",
       "      <td>2</td>\n",
       "      <td>9</td>\n",
       "    </tr>\n",
       "    <tr>\n",
       "      <th>1997-03-03</th>\n",
       "      <td>Alphabet</td>\n",
       "      <td>182527</td>\n",
       "      <td>135301</td>\n",
       "      <td>California</td>\n",
       "      <td>United States</td>\n",
       "      <td>1997</td>\n",
       "      <td>3</td>\n",
       "      <td>3</td>\n",
       "    </tr>\n",
       "    <tr>\n",
       "      <th>1997-04-04</th>\n",
       "      <td>Foxconn</td>\n",
       "      <td>181945</td>\n",
       "      <td>878429</td>\n",
       "      <td>New Taipei City</td>\n",
       "      <td>Taiwan</td>\n",
       "      <td>1997</td>\n",
       "      <td>4</td>\n",
       "      <td>4</td>\n",
       "    </tr>\n",
       "    <tr>\n",
       "      <th>1997-05-05</th>\n",
       "      <td>Microsoft</td>\n",
       "      <td>143015</td>\n",
       "      <td>163000</td>\n",
       "      <td>Washington</td>\n",
       "      <td>United States</td>\n",
       "      <td>1997</td>\n",
       "      <td>5</td>\n",
       "      <td>5</td>\n",
       "    </tr>\n",
       "    <tr>\n",
       "      <th>1997-05-05</th>\n",
       "      <td>IBM</td>\n",
       "      <td>73620</td>\n",
       "      <td>364800</td>\n",
       "      <td>New York</td>\n",
       "      <td>United States</td>\n",
       "      <td>1997</td>\n",
       "      <td>5</td>\n",
       "      <td>5</td>\n",
       "    </tr>\n",
       "    <tr>\n",
       "      <th>1997-05-06</th>\n",
       "      <td>Panasonic</td>\n",
       "      <td>63191</td>\n",
       "      <td>243540</td>\n",
       "      <td>Osaka</td>\n",
       "      <td>Japan</td>\n",
       "      <td>1997</td>\n",
       "      <td>5</td>\n",
       "      <td>6</td>\n",
       "    </tr>\n",
       "    <tr>\n",
       "      <th>1997-06-06</th>\n",
       "      <td>Huawei</td>\n",
       "      <td>129184</td>\n",
       "      <td>197000</td>\n",
       "      <td>Shenzhen</td>\n",
       "      <td>China</td>\n",
       "      <td>1997</td>\n",
       "      <td>6</td>\n",
       "      <td>6</td>\n",
       "    </tr>\n",
       "    <tr>\n",
       "      <th>1997-06-06</th>\n",
       "      <td>Tencent</td>\n",
       "      <td>69864</td>\n",
       "      <td>85858</td>\n",
       "      <td>Shenzhen</td>\n",
       "      <td>China</td>\n",
       "      <td>1997</td>\n",
       "      <td>6</td>\n",
       "      <td>6</td>\n",
       "    </tr>\n",
       "    <tr>\n",
       "      <th>1997-07-07</th>\n",
       "      <td>Dell Technologies</td>\n",
       "      <td>92224</td>\n",
       "      <td>158000</td>\n",
       "      <td>Texas</td>\n",
       "      <td>United States</td>\n",
       "      <td>1997</td>\n",
       "      <td>7</td>\n",
       "      <td>7</td>\n",
       "    </tr>\n",
       "    <tr>\n",
       "      <th>1997-07-07</th>\n",
       "      <td>Lenovo</td>\n",
       "      <td>60742</td>\n",
       "      <td>71500</td>\n",
       "      <td>Hong Kong</td>\n",
       "      <td>China</td>\n",
       "      <td>1997</td>\n",
       "      <td>7</td>\n",
       "      <td>7</td>\n",
       "    </tr>\n",
       "    <tr>\n",
       "      <th>1997-08-07</th>\n",
       "      <td>Facebook</td>\n",
       "      <td>85965</td>\n",
       "      <td>58604</td>\n",
       "      <td>California</td>\n",
       "      <td>United States</td>\n",
       "      <td>1997</td>\n",
       "      <td>8</td>\n",
       "      <td>7</td>\n",
       "    </tr>\n",
       "    <tr>\n",
       "      <th>1997-08-08</th>\n",
       "      <td>Sony</td>\n",
       "      <td>84893</td>\n",
       "      <td>109700</td>\n",
       "      <td>Tokyo</td>\n",
       "      <td>Japan</td>\n",
       "      <td>1997</td>\n",
       "      <td>8</td>\n",
       "      <td>8</td>\n",
       "    </tr>\n",
       "    <tr>\n",
       "      <th>1997-08-08</th>\n",
       "      <td>HP Inc.</td>\n",
       "      <td>56639</td>\n",
       "      <td>53000</td>\n",
       "      <td>California</td>\n",
       "      <td>United States</td>\n",
       "      <td>1997</td>\n",
       "      <td>8</td>\n",
       "      <td>8</td>\n",
       "    </tr>\n",
       "    <tr>\n",
       "      <th>1997-09-09</th>\n",
       "      <td>LG Electronics</td>\n",
       "      <td>53625</td>\n",
       "      <td>75000</td>\n",
       "      <td>Seoul</td>\n",
       "      <td>South Korea</td>\n",
       "      <td>1997</td>\n",
       "      <td>9</td>\n",
       "      <td>9</td>\n",
       "    </tr>\n",
       "    <tr>\n",
       "      <th>1997-09-09</th>\n",
       "      <td>Hitachi</td>\n",
       "      <td>82345</td>\n",
       "      <td>350864</td>\n",
       "      <td>Tokyo</td>\n",
       "      <td>Japan</td>\n",
       "      <td>1997</td>\n",
       "      <td>9</td>\n",
       "      <td>9</td>\n",
       "    </tr>\n",
       "    <tr>\n",
       "      <th>2015-01-09</th>\n",
       "      <td>Apple</td>\n",
       "      <td>274515</td>\n",
       "      <td>147000</td>\n",
       "      <td>California</td>\n",
       "      <td>United States</td>\n",
       "      <td>2015</td>\n",
       "      <td>1</td>\n",
       "      <td>9</td>\n",
       "    </tr>\n",
       "  </tbody>\n",
       "</table>\n",
       "</div>"
      ],
      "text/plain": [
       "                        Company  Revenue  Employees             City  \\\n",
       "Founded                                                                \n",
       "1997-02-09  Samsung Electronics   200734     267937            Suwon   \n",
       "1997-02-09                Intel    77867     110600       California   \n",
       "1997-03-03             Alphabet   182527     135301       California   \n",
       "1997-04-04              Foxconn   181945     878429  New Taipei City   \n",
       "1997-05-05            Microsoft   143015     163000       Washington   \n",
       "1997-05-05                  IBM    73620     364800         New York   \n",
       "1997-05-06            Panasonic    63191     243540            Osaka   \n",
       "1997-06-06               Huawei   129184     197000         Shenzhen   \n",
       "1997-06-06              Tencent    69864      85858         Shenzhen   \n",
       "1997-07-07    Dell Technologies    92224     158000            Texas   \n",
       "1997-07-07               Lenovo    60742      71500        Hong Kong   \n",
       "1997-08-07             Facebook    85965      58604       California   \n",
       "1997-08-08                 Sony    84893     109700            Tokyo   \n",
       "1997-08-08              HP Inc.    56639      53000       California   \n",
       "1997-09-09       LG Electronics    53625      75000            Seoul   \n",
       "1997-09-09              Hitachi    82345     350864            Tokyo   \n",
       "2015-01-09                Apple   274515     147000       California   \n",
       "\n",
       "                  Country  fyear  fmonth  fday  \n",
       "Founded                                         \n",
       "1997-02-09    South Korea   1997       2     9  \n",
       "1997-02-09  United States   1997       2     9  \n",
       "1997-03-03  United States   1997       3     3  \n",
       "1997-04-04         Taiwan   1997       4     4  \n",
       "1997-05-05  United States   1997       5     5  \n",
       "1997-05-05  United States   1997       5     5  \n",
       "1997-05-06          Japan   1997       5     6  \n",
       "1997-06-06          China   1997       6     6  \n",
       "1997-06-06          China   1997       6     6  \n",
       "1997-07-07  United States   1997       7     7  \n",
       "1997-07-07          China   1997       7     7  \n",
       "1997-08-07  United States   1997       8     7  \n",
       "1997-08-08          Japan   1997       8     8  \n",
       "1997-08-08  United States   1997       8     8  \n",
       "1997-09-09    South Korea   1997       9     9  \n",
       "1997-09-09          Japan   1997       9     9  \n",
       "2015-01-09  United States   2015       1     9  "
      ]
     },
     "execution_count": 33,
     "metadata": {},
     "output_type": "execute_result"
    }
   ],
   "source": [
    "# Empresas creadas entre 1970 y 2020 con loc\n",
    "df.loc['1970':'2020']\n"
   ]
  },
  {
   "cell_type": "code",
   "execution_count": null,
   "metadata": {},
   "outputs": [
    {
     "data": {
      "text/html": [
       "<div>\n",
       "<style scoped>\n",
       "    .dataframe tbody tr th:only-of-type {\n",
       "        vertical-align: middle;\n",
       "    }\n",
       "\n",
       "    .dataframe tbody tr th {\n",
       "        vertical-align: top;\n",
       "    }\n",
       "\n",
       "    .dataframe thead th {\n",
       "        text-align: right;\n",
       "    }\n",
       "</style>\n",
       "<table border=\"1\" class=\"dataframe\">\n",
       "  <thead>\n",
       "    <tr style=\"text-align: right;\">\n",
       "      <th></th>\n",
       "      <th>Company</th>\n",
       "      <th>Revenue</th>\n",
       "      <th>Employees</th>\n",
       "      <th>City</th>\n",
       "      <th>Country</th>\n",
       "      <th>fyear</th>\n",
       "      <th>fmonth</th>\n",
       "      <th>fday</th>\n",
       "    </tr>\n",
       "    <tr>\n",
       "      <th>Founded</th>\n",
       "      <th></th>\n",
       "      <th></th>\n",
       "      <th></th>\n",
       "      <th></th>\n",
       "      <th></th>\n",
       "      <th></th>\n",
       "      <th></th>\n",
       "      <th></th>\n",
       "    </tr>\n",
       "  </thead>\n",
       "  <tbody>\n",
       "    <tr>\n",
       "      <th>1997-02-09</th>\n",
       "      <td>Samsung Electronics</td>\n",
       "      <td>200734</td>\n",
       "      <td>267937</td>\n",
       "      <td>Suwon</td>\n",
       "      <td>South Korea</td>\n",
       "      <td>1997</td>\n",
       "      <td>2</td>\n",
       "      <td>9</td>\n",
       "    </tr>\n",
       "    <tr>\n",
       "      <th>1997-02-09</th>\n",
       "      <td>Intel</td>\n",
       "      <td>77867</td>\n",
       "      <td>110600</td>\n",
       "      <td>California</td>\n",
       "      <td>United States</td>\n",
       "      <td>1997</td>\n",
       "      <td>2</td>\n",
       "      <td>9</td>\n",
       "    </tr>\n",
       "    <tr>\n",
       "      <th>1997-03-03</th>\n",
       "      <td>Alphabet</td>\n",
       "      <td>182527</td>\n",
       "      <td>135301</td>\n",
       "      <td>California</td>\n",
       "      <td>United States</td>\n",
       "      <td>1997</td>\n",
       "      <td>3</td>\n",
       "      <td>3</td>\n",
       "    </tr>\n",
       "  </tbody>\n",
       "</table>\n",
       "</div>"
      ],
      "text/plain": [
       "                        Company  Revenue  Employees        City  \\\n",
       "Founded                                                           \n",
       "1997-02-09  Samsung Electronics   200734     267937       Suwon   \n",
       "1997-02-09                Intel    77867     110600  California   \n",
       "1997-03-03             Alphabet   182527     135301  California   \n",
       "\n",
       "                  Country  fyear  fmonth  fday  \n",
       "Founded                                         \n",
       "1997-02-09    South Korea   1997       2     9  \n",
       "1997-02-09  United States   1997       2     9  \n",
       "1997-03-03  United States   1997       3     3  "
      ]
     },
     "execution_count": 36,
     "metadata": {},
     "output_type": "execute_result"
    }
   ],
   "source": [
    "# Empresas creadas entre enero de 1997 y marzo de 1997 con loc\n",
    "df.loc['1997-1':'1997-3']"
   ]
  },
  {
   "cell_type": "code",
   "execution_count": 26,
   "metadata": {},
   "outputs": [],
   "source": [
    "# Manejo de categorias\n",
    "df['Continent'] = ['America', 'Asia','America', 'Asia',\n",
    "                   'America', 'Asia','America', 'Asia',\n",
    "                   'Asia','Asia','America','America',\n",
    "                   'Asia','Asia','Asia','America', 'Asia']"
   ]
  },
  {
   "cell_type": "code",
   "execution_count": 27,
   "metadata": {},
   "outputs": [
    {
     "data": {
      "text/plain": [
       "Company\n",
       "Apple                  America\n",
       "Samsung Electronics       Asia\n",
       "Alphabet               America\n",
       "Foxconn                   Asia\n",
       "Microsoft              America\n",
       "Name: Continent, dtype: object"
      ]
     },
     "execution_count": 27,
     "metadata": {},
     "output_type": "execute_result"
    }
   ],
   "source": [
    "# Ahora podemos convertir esta columna a tipo categoría:\n",
    "df['Continent'].astype('category')\n",
    "df['Continent'].head()"
   ]
  },
  {
   "cell_type": "code",
   "execution_count": 28,
   "metadata": {},
   "outputs": [
    {
     "data": {
      "text/plain": [
       "Company\n",
       "Apple                  America\n",
       "Samsung Electronics       Asia\n",
       "Alphabet               America\n",
       "Foxconn                   Asia\n",
       "Microsoft              America\n",
       "Huawei                    Asia\n",
       "Dell Technologies      America\n",
       "Facebook                  Asia\n",
       "Sony                      Asia\n",
       "Hitachi                   Asia\n",
       "Intel                  America\n",
       "IBM                    America\n",
       "Tencent                   Asia\n",
       "Panasonic                 Asia\n",
       "Lenovo                    Asia\n",
       "HP Inc.                America\n",
       "LG Electronics            Asia\n",
       "Name: Continent, dtype: category\n",
       "Categories (5, object): ['Asia' < 'Africa' < 'Europe' < 'America' < 'Australia']"
      ]
     },
     "execution_count": 28,
     "metadata": {},
     "output_type": "execute_result"
    }
   ],
   "source": [
    "# establecer un orden para las categorías de continentes basadas, \n",
    "# por ejemplo, en su población: Asia, África, Europa, América, Australia:\n",
    "from pandas.api.types import CategoricalDtype\n",
    "continents = ('Asia','Africa','Europe','America','Australia')\n",
    "cat_continents = CategoricalDtype(categories= continents, ordered=True)\n",
    "df['Continent'].astype(cat_continents)"
   ]
  },
  {
   "cell_type": "code",
   "execution_count": 29,
   "metadata": {},
   "outputs": [
    {
     "data": {
      "text/plain": [
       "'America'"
      ]
     },
     "execution_count": 29,
     "metadata": {},
     "output_type": "execute_result"
    }
   ],
   "source": [
    "df['Continent'].min()"
   ]
  },
  {
   "cell_type": "code",
   "execution_count": 30,
   "metadata": {},
   "outputs": [
    {
     "data": {
      "text/plain": [
       "'Asia'"
      ]
     },
     "execution_count": 30,
     "metadata": {},
     "output_type": "execute_result"
    }
   ],
   "source": [
    "df['Continent'].max()"
   ]
  },
  {
   "cell_type": "code",
   "execution_count": 12,
   "metadata": {},
   "outputs": [
    {
     "data": {
      "text/plain": [
       "Company\n",
       "Apple                  America\n",
       "Lenovo                 America\n",
       "Tencent                America\n",
       "Intel                  America\n",
       "Dell Technologies      America\n",
       "Sony                   America\n",
       "Microsoft              America\n",
       "Alphabet               America\n",
       "LG Electronics         America\n",
       "Facebook                  Asia\n",
       "HP Inc.                   Asia\n",
       "Hitachi                   Asia\n",
       "Foxconn                   Asia\n",
       "IBM                       Asia\n",
       "Panasonic                 Asia\n",
       "Samsung Electronics       Asia\n",
       "Huawei                    Asia\n",
       "Name: Continent, dtype: category\n",
       "Categories (2, object): ['America', 'Asia']"
      ]
     },
     "execution_count": 12,
     "metadata": {},
     "output_type": "execute_result"
    }
   ],
   "source": [
    "# ordenar categorias alfabeticamente\n",
    "df['Continent'].sort_values()"
   ]
  }
 ],
 "metadata": {
  "colab": {
   "authorship_tag": "ABX9TyNqpO9AYcfMYYYWCHLedGRn",
   "provenance": []
  },
  "kernelspec": {
   "display_name": "Python 3 (ipykernel)",
   "language": "python",
   "name": "python3"
  },
  "language_info": {
   "codemirror_mode": {
    "name": "ipython",
    "version": 3
   },
   "file_extension": ".py",
   "mimetype": "text/x-python",
   "name": "python",
   "nbconvert_exporter": "python",
   "pygments_lexer": "ipython3",
   "version": "3.12.2"
  }
 },
 "nbformat": 4,
 "nbformat_minor": 4
}
