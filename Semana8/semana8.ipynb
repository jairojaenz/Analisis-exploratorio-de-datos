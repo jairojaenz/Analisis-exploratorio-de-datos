{
 "cells": [
  {
   "cell_type": "code",
   "execution_count": 1,
   "metadata": {},
   "outputs": [],
   "source": [
    "# instalacion de openpyxl\n",
    "\n",
    "import openpyxl\n",
    "import numpy as np\n",
    "import pandas as pd\n",
    "import seaborn as sns\n",
    "import matplotlib.pyplot as plt\n",
    "import sqlite3 as sql3\n",
    "from matplotlib import rcParams"
   ]
  },
  {
   "cell_type": "code",
   "execution_count": 2,
   "metadata": {},
   "outputs": [
    {
     "name": "stdout",
     "output_type": "stream",
     "text": [
      "           article_name unit_price\n",
      "article_id                        \n",
      "20015        Smartphone     525.00\n",
      "20016           Full Pc    2127.81\n"
     ]
    }
   ],
   "source": [
    "# Importacion de articles.db (sql) de la carpeta data y trannsformacion a dataframe\n",
    "conn = sql3.connect('data/articles.db')\n",
    "\n",
    "# se toma la columna article_id como index del dataframe\n",
    "# y como el metodo read_sql_query no la elimina,\n",
    "# hago un drop de la columna posterior, ya que todos NaN y no \n",
    " # tiene opcion inplace.\n",
    "\n",
    "sql_query = pd.read_sql_query(\"SELECT * FROM articles\", conn, index_col='article_id')\n",
    "df_articles = pd.DataFrame(sql_query, columns=['article_id', 'article_name','unit_price'])\n",
    "df_articles = df_articles.drop(columns='article_id', axis=1)\n",
    "# imprimo el dataframe\n",
    "print(df_articles.head(2))"
   ]
  },
  {
   "cell_type": "code",
   "execution_count": 3,
   "metadata": {},
   "outputs": [
    {
     "name": "stdout",
     "output_type": "stream",
     "text": [
      "                 seller_name\n",
      "seller_id                   \n",
      "1           Aveline Swanwick\n",
      "2                   Jase Doy\n",
      "3          Oliviero Charkham\n",
      "4           Cornie Wynrehame\n"
     ]
    }
   ],
   "source": [
    "# importacio de sales.db (sql) de la carpeta data y transformacion a dataframe\n",
    "df_sellers = pd.read_excel('data/sellers.xlsx', index_col='seller_id')\n",
    "# imprimo el dataframe\n",
    "print(df_sellers.head(4))\n"
   ]
  },
  {
   "cell_type": "code",
   "execution_count": 4,
   "metadata": {},
   "outputs": [
    {
     "name": "stdout",
     "output_type": "stream",
     "text": [
      "   order_id  week  article_id  quantity  seller_id country_name\n",
      "0     15024     1       20039        10         10         Peru\n",
      "1     15025     1       20029        15          5         Peru\n",
      "2     15026     1       20024         5         14      Bolivia\n"
     ]
    }
   ],
   "source": [
    "# importacion de orders.csv de la carpeta data y transformacion a dataframe\n",
    "df_orders = pd.read_csv('data/orders.csv')\n",
    "# imprimo el dataframe\n",
    "print(df_orders.head(3))"
   ]
  },
  {
   "cell_type": "code",
   "execution_count": 5,
   "metadata": {},
   "outputs": [
    {
     "name": "stdout",
     "output_type": "stream",
     "text": [
      "Muestra de datos\n",
      "           article_name unit_price\n",
      "article_id                        \n",
      "20016           Full Pc    2127.81\n"
     ]
    }
   ],
   "source": [
    "# explorar y preparar datos\n",
    "# exploracion del dataframe df_articles\n",
    "print(\"Muestra de datos\")\n",
    "print(df_articles.sample())"
   ]
  },
  {
   "cell_type": "code",
   "execution_count": 6,
   "metadata": {},
   "outputs": [
    {
     "name": "stdout",
     "output_type": "stream",
     "text": [
      "Dimensiones del dataframe\n",
      "(31, 2)\n"
     ]
    }
   ],
   "source": [
    "print(\"Dimensiones del dataframe\")\n",
    "print(df_articles.shape)"
   ]
  },
  {
   "cell_type": "code",
   "execution_count": 7,
   "metadata": {},
   "outputs": [
    {
     "name": "stdout",
     "output_type": "stream",
     "text": [
      "Busqueda de valores nulos\n",
      "article_name    0\n",
      "unit_price      0\n",
      "dtype: int64\n"
     ]
    }
   ],
   "source": [
    "print(\"Busqueda de valores nulos\")\n",
    "print(df_articles.isnull().sum())"
   ]
  },
  {
   "cell_type": "code",
   "execution_count": 8,
   "metadata": {},
   "outputs": [
    {
     "name": "stdout",
     "output_type": "stream",
     "text": [
      "Tipo de datos por columna\n",
      "article_name    object\n",
      "unit_price      object\n",
      "dtype: object\n"
     ]
    }
   ],
   "source": [
    "print(\"Tipo de datos por columna\")\n",
    "print(df_articles.dtypes)"
   ]
  },
  {
   "cell_type": "code",
   "execution_count": 9,
   "metadata": {},
   "outputs": [
    {
     "name": "stdout",
     "output_type": "stream",
     "text": [
      "Muestra de datos\n",
      "               seller_name\n",
      "seller_id                 \n",
      "13         Arnold Kilkenny\n"
     ]
    }
   ],
   "source": [
    "# exploracion del dataframe df_sellers\n",
    "print(\"Muestra de datos\")\n",
    "print(df_sellers.sample())"
   ]
  },
  {
   "cell_type": "code",
   "execution_count": 10,
   "metadata": {},
   "outputs": [
    {
     "name": "stdout",
     "output_type": "stream",
     "text": [
      "Dimensiones del dataframe\n",
      "(15, 1)\n"
     ]
    }
   ],
   "source": [
    "print(\"Dimensiones del dataframe\")\n",
    "print(df_sellers.shape)"
   ]
  },
  {
   "cell_type": "code",
   "execution_count": 11,
   "metadata": {},
   "outputs": [
    {
     "name": "stdout",
     "output_type": "stream",
     "text": [
      "Busqueda de valores nulos\n",
      "seller_name    0\n",
      "dtype: int64\n"
     ]
    }
   ],
   "source": [
    "print(\"Busqueda de valores nulos\")\n",
    "print(df_sellers.isnull().sum())"
   ]
  },
  {
   "cell_type": "code",
   "execution_count": 12,
   "metadata": {},
   "outputs": [
    {
     "name": "stdout",
     "output_type": "stream",
     "text": [
      "Tipo de datos por columna\n",
      "seller_name    object\n",
      "dtype: object\n"
     ]
    }
   ],
   "source": [
    "print(\"Tipo de datos por columna\")\n",
    "print(df_sellers.dtypes)"
   ]
  },
  {
   "cell_type": "code",
   "execution_count": 13,
   "metadata": {},
   "outputs": [
    {
     "name": "stdout",
     "output_type": "stream",
     "text": [
      "Muestra de datos\n",
      "     order_id  week  article_id  quantity  seller_id country_name\n",
      "468     15492     2       20017        14         15   Costa Rica\n"
     ]
    }
   ],
   "source": [
    "# exploracion del dataframe df_orders\n",
    "print(\"Muestra de datos\")\n",
    "print(df_orders.sample())"
   ]
  },
  {
   "cell_type": "code",
   "execution_count": 14,
   "metadata": {},
   "outputs": [
    {
     "name": "stdout",
     "output_type": "stream",
     "text": [
      "Dimensiones del dataframe\n",
      "(1000, 6)\n"
     ]
    }
   ],
   "source": [
    "print(\"Dimensiones del dataframe\")\n",
    "print(df_orders.shape)"
   ]
  },
  {
   "cell_type": "code",
   "execution_count": 15,
   "metadata": {},
   "outputs": [
    {
     "name": "stdout",
     "output_type": "stream",
     "text": [
      "Busqueda de valores nulos\n",
      "order_id        0\n",
      "week            0\n",
      "article_id      0\n",
      "quantity        0\n",
      "seller_id       0\n",
      "country_name    0\n",
      "dtype: int64\n"
     ]
    }
   ],
   "source": [
    "print(\"Busqueda de valores nulos\")\n",
    "print(df_orders.isnull().sum())\n"
   ]
  },
  {
   "cell_type": "code",
   "execution_count": 16,
   "metadata": {},
   "outputs": [
    {
     "name": "stdout",
     "output_type": "stream",
     "text": [
      "Tipo de datos por columna\n",
      "order_id         int64\n",
      "week             int64\n",
      "article_id       int64\n",
      "quantity         int64\n",
      "seller_id        int64\n",
      "country_name    object\n",
      "dtype: object\n"
     ]
    }
   ],
   "source": [
    "print(\"Tipo de datos por columna\")\n",
    "print(df_orders.dtypes)"
   ]
  },
  {
   "cell_type": "code",
   "execution_count": 17,
   "metadata": {},
   "outputs": [
    {
     "name": "stdout",
     "output_type": "stream",
     "text": [
      "article_name     object\n",
      "unit_price      float64\n",
      "dtype: object\n"
     ]
    }
   ],
   "source": [
    "# cambiar el formato de la columna precios de los articulos\n",
    "# de string a float\n",
    "pd.options.display.float_format = '$ {:,.2f}'.format\n",
    "df_articles['unit_price'] = df_articles['unit_price'].astype(float)\n",
    "# imprimo el dataframe\n",
    "print(df_articles.dtypes)"
   ]
  },
  {
   "cell_type": "code",
   "execution_count": 18,
   "metadata": {},
   "outputs": [
    {
     "name": "stdout",
     "output_type": "stream",
     "text": [
      "           article_name  unit_price\n",
      "article_id                         \n",
      "20015        Smartphone    $ 525.00\n",
      "20016           Full Pc  $ 2,127.81\n",
      "20017           Monitor    $ 230.00\n"
     ]
    }
   ],
   "source": [
    "print(df_articles.head(3))"
   ]
  },
  {
   "cell_type": "markdown",
   "metadata": {},
   "source": [
    "<h2>Analisis de datos</h2>\n",
    "<h3>Definir el modelo de datos</h3>\n",
    "<img src=\"img/Diagrama.png\" alt=\"Modelo de datos\" style=\"width: 600px;\"/>"
   ]
  },
  {
   "cell_type": "code",
   "execution_count": 19,
   "metadata": {},
   "outputs": [
    {
     "data": {
      "text/html": [
       "<div>\n",
       "<style scoped>\n",
       "    .dataframe tbody tr th:only-of-type {\n",
       "        vertical-align: middle;\n",
       "    }\n",
       "\n",
       "    .dataframe tbody tr th {\n",
       "        vertical-align: top;\n",
       "    }\n",
       "\n",
       "    .dataframe thead th {\n",
       "        text-align: right;\n",
       "    }\n",
       "</style>\n",
       "<table border=\"1\" class=\"dataframe\">\n",
       "  <thead>\n",
       "    <tr style=\"text-align: right;\">\n",
       "      <th></th>\n",
       "      <th>order_id</th>\n",
       "      <th>week</th>\n",
       "      <th>article_id</th>\n",
       "      <th>quantity</th>\n",
       "      <th>seller_id</th>\n",
       "      <th>country_name</th>\n",
       "    </tr>\n",
       "  </thead>\n",
       "  <tbody>\n",
       "    <tr>\n",
       "      <th>0</th>\n",
       "      <td>15024</td>\n",
       "      <td>1</td>\n",
       "      <td>20039</td>\n",
       "      <td>10</td>\n",
       "      <td>10</td>\n",
       "      <td>Peru</td>\n",
       "    </tr>\n",
       "    <tr>\n",
       "      <th>1</th>\n",
       "      <td>15025</td>\n",
       "      <td>1</td>\n",
       "      <td>20029</td>\n",
       "      <td>15</td>\n",
       "      <td>5</td>\n",
       "      <td>Peru</td>\n",
       "    </tr>\n",
       "  </tbody>\n",
       "</table>\n",
       "</div>"
      ],
      "text/plain": [
       "   order_id  week  article_id  quantity  seller_id country_name\n",
       "0     15024     1       20039        10         10         Peru\n",
       "1     15025     1       20029        15          5         Peru"
      ]
     },
     "execution_count": 19,
     "metadata": {},
     "output_type": "execute_result"
    }
   ],
   "source": [
    "data = df_orders.copy()\n",
    "data.head(2)"
   ]
  },
  {
   "cell_type": "code",
   "execution_count": 20,
   "metadata": {},
   "outputs": [
    {
     "data": {
      "text/html": [
       "<div>\n",
       "<style scoped>\n",
       "    .dataframe tbody tr th:only-of-type {\n",
       "        vertical-align: middle;\n",
       "    }\n",
       "\n",
       "    .dataframe tbody tr th {\n",
       "        vertical-align: top;\n",
       "    }\n",
       "\n",
       "    .dataframe thead th {\n",
       "        text-align: right;\n",
       "    }\n",
       "</style>\n",
       "<table border=\"1\" class=\"dataframe\">\n",
       "  <thead>\n",
       "    <tr style=\"text-align: right;\">\n",
       "      <th></th>\n",
       "      <th>order_id</th>\n",
       "      <th>week</th>\n",
       "      <th>article_id</th>\n",
       "      <th>quantity</th>\n",
       "      <th>seller_id</th>\n",
       "      <th>country_name</th>\n",
       "      <th>article_name</th>\n",
       "      <th>unit_price</th>\n",
       "    </tr>\n",
       "  </thead>\n",
       "  <tbody>\n",
       "    <tr>\n",
       "      <th>0</th>\n",
       "      <td>15024</td>\n",
       "      <td>1</td>\n",
       "      <td>20039</td>\n",
       "      <td>10</td>\n",
       "      <td>10</td>\n",
       "      <td>Peru</td>\n",
       "      <td>Water Cooling</td>\n",
       "      <td>$ 67.50</td>\n",
       "    </tr>\n",
       "    <tr>\n",
       "      <th>1</th>\n",
       "      <td>15047</td>\n",
       "      <td>1</td>\n",
       "      <td>20039</td>\n",
       "      <td>5</td>\n",
       "      <td>9</td>\n",
       "      <td>Argentina</td>\n",
       "      <td>Water Cooling</td>\n",
       "      <td>$ 67.50</td>\n",
       "    </tr>\n",
       "    <tr>\n",
       "      <th>2</th>\n",
       "      <td>15058</td>\n",
       "      <td>1</td>\n",
       "      <td>20039</td>\n",
       "      <td>9</td>\n",
       "      <td>12</td>\n",
       "      <td>Mexico</td>\n",
       "      <td>Water Cooling</td>\n",
       "      <td>$ 67.50</td>\n",
       "    </tr>\n",
       "  </tbody>\n",
       "</table>\n",
       "</div>"
      ],
      "text/plain": [
       "   order_id  week  article_id  quantity  seller_id country_name  \\\n",
       "0     15024     1       20039        10         10         Peru   \n",
       "1     15047     1       20039         5          9    Argentina   \n",
       "2     15058     1       20039         9         12       Mexico   \n",
       "\n",
       "    article_name  unit_price  \n",
       "0  Water Cooling     $ 67.50  \n",
       "1  Water Cooling     $ 67.50  \n",
       "2  Water Cooling     $ 67.50  "
      ]
     },
     "execution_count": 20,
     "metadata": {},
     "output_type": "execute_result"
    }
   ],
   "source": [
    "# Voy a unir los distintos DataFrame utilizando el método merge (equivalente en Pandas a JOIN en SQL) uniendo de la siguiente manera:\n",
    "# article_id del DataFrame Data con el index de df_articles para obtener el nombre y precio unitario\n",
    "# seller_id del DataFrame Data con el index de df_sellers para obtener el nombre del vendedor\n",
    "# Posteriormente tengo dropear las columnas article_id y seller_id del DataFrame data ya que no tiene sentido que sigan ahí.\n",
    "\n",
    "data_article = data.merge(df_articles, left_on='article_id', right_on=df_articles.index, how='inner')\n",
    "data_article.head(3)"
   ]
  },
  {
   "cell_type": "code",
   "execution_count": 21,
   "metadata": {},
   "outputs": [
    {
     "data": {
      "text/html": [
       "<div>\n",
       "<style scoped>\n",
       "    .dataframe tbody tr th:only-of-type {\n",
       "        vertical-align: middle;\n",
       "    }\n",
       "\n",
       "    .dataframe tbody tr th {\n",
       "        vertical-align: top;\n",
       "    }\n",
       "\n",
       "    .dataframe thead th {\n",
       "        text-align: right;\n",
       "    }\n",
       "</style>\n",
       "<table border=\"1\" class=\"dataframe\">\n",
       "  <thead>\n",
       "    <tr style=\"text-align: right;\">\n",
       "      <th></th>\n",
       "      <th>order_id</th>\n",
       "      <th>week</th>\n",
       "      <th>article_id</th>\n",
       "      <th>quantity</th>\n",
       "      <th>seller_id</th>\n",
       "      <th>country_name</th>\n",
       "      <th>article_name</th>\n",
       "      <th>unit_price</th>\n",
       "      <th>seller_name</th>\n",
       "    </tr>\n",
       "  </thead>\n",
       "  <tbody>\n",
       "    <tr>\n",
       "      <th>0</th>\n",
       "      <td>15024</td>\n",
       "      <td>1</td>\n",
       "      <td>20039</td>\n",
       "      <td>10</td>\n",
       "      <td>10</td>\n",
       "      <td>Peru</td>\n",
       "      <td>Water Cooling</td>\n",
       "      <td>$ 67.50</td>\n",
       "      <td>Cirilo Grandham</td>\n",
       "    </tr>\n",
       "    <tr>\n",
       "      <th>1</th>\n",
       "      <td>15892</td>\n",
       "      <td>3</td>\n",
       "      <td>20039</td>\n",
       "      <td>15</td>\n",
       "      <td>10</td>\n",
       "      <td>Brazil</td>\n",
       "      <td>Water Cooling</td>\n",
       "      <td>$ 67.50</td>\n",
       "      <td>Cirilo Grandham</td>\n",
       "    </tr>\n",
       "    <tr>\n",
       "      <th>2</th>\n",
       "      <td>15732</td>\n",
       "      <td>3</td>\n",
       "      <td>20029</td>\n",
       "      <td>6</td>\n",
       "      <td>10</td>\n",
       "      <td>Guatemala</td>\n",
       "      <td>Mouse</td>\n",
       "      <td>$ 30.30</td>\n",
       "      <td>Cirilo Grandham</td>\n",
       "    </tr>\n",
       "  </tbody>\n",
       "</table>\n",
       "</div>"
      ],
      "text/plain": [
       "   order_id  week  article_id  quantity  seller_id country_name  \\\n",
       "0     15024     1       20039        10         10         Peru   \n",
       "1     15892     3       20039        15         10       Brazil   \n",
       "2     15732     3       20029         6         10    Guatemala   \n",
       "\n",
       "    article_name  unit_price      seller_name  \n",
       "0  Water Cooling     $ 67.50  Cirilo Grandham  \n",
       "1  Water Cooling     $ 67.50  Cirilo Grandham  \n",
       "2          Mouse     $ 30.30  Cirilo Grandham  "
      ]
     },
     "execution_count": 21,
     "metadata": {},
     "output_type": "execute_result"
    }
   ],
   "source": [
    "data_article_seller = data_article.merge(df_sellers, left_on='seller_id', right_on=df_sellers.index, how='inner')\n",
    "data_article_seller.head(3)"
   ]
  },
  {
   "cell_type": "code",
   "execution_count": 22,
   "metadata": {},
   "outputs": [
    {
     "data": {
      "text/html": [
       "<div>\n",
       "<style scoped>\n",
       "    .dataframe tbody tr th:only-of-type {\n",
       "        vertical-align: middle;\n",
       "    }\n",
       "\n",
       "    .dataframe tbody tr th {\n",
       "        vertical-align: top;\n",
       "    }\n",
       "\n",
       "    .dataframe thead th {\n",
       "        text-align: right;\n",
       "    }\n",
       "</style>\n",
       "<table border=\"1\" class=\"dataframe\">\n",
       "  <thead>\n",
       "    <tr style=\"text-align: right;\">\n",
       "      <th></th>\n",
       "      <th>order_id</th>\n",
       "      <th>week</th>\n",
       "      <th>quantity</th>\n",
       "      <th>country_name</th>\n",
       "      <th>article_name</th>\n",
       "      <th>unit_price</th>\n",
       "      <th>seller_name</th>\n",
       "    </tr>\n",
       "  </thead>\n",
       "  <tbody>\n",
       "    <tr>\n",
       "      <th>0</th>\n",
       "      <td>15024</td>\n",
       "      <td>1</td>\n",
       "      <td>10</td>\n",
       "      <td>Peru</td>\n",
       "      <td>Water Cooling</td>\n",
       "      <td>$ 67.50</td>\n",
       "      <td>Cirilo Grandham</td>\n",
       "    </tr>\n",
       "    <tr>\n",
       "      <th>1</th>\n",
       "      <td>15892</td>\n",
       "      <td>3</td>\n",
       "      <td>15</td>\n",
       "      <td>Brazil</td>\n",
       "      <td>Water Cooling</td>\n",
       "      <td>$ 67.50</td>\n",
       "      <td>Cirilo Grandham</td>\n",
       "    </tr>\n",
       "    <tr>\n",
       "      <th>2</th>\n",
       "      <td>15732</td>\n",
       "      <td>3</td>\n",
       "      <td>6</td>\n",
       "      <td>Guatemala</td>\n",
       "      <td>Mouse</td>\n",
       "      <td>$ 30.30</td>\n",
       "      <td>Cirilo Grandham</td>\n",
       "    </tr>\n",
       "  </tbody>\n",
       "</table>\n",
       "</div>"
      ],
      "text/plain": [
       "   order_id  week  quantity country_name   article_name  unit_price  \\\n",
       "0     15024     1        10         Peru  Water Cooling     $ 67.50   \n",
       "1     15892     3        15       Brazil  Water Cooling     $ 67.50   \n",
       "2     15732     3         6    Guatemala          Mouse     $ 30.30   \n",
       "\n",
       "       seller_name  \n",
       "0  Cirilo Grandham  \n",
       "1  Cirilo Grandham  \n",
       "2  Cirilo Grandham  "
      ]
     },
     "execution_count": 22,
     "metadata": {},
     "output_type": "execute_result"
    }
   ],
   "source": [
    "data_unificada = data_article_seller.drop(columns=['article_id', 'seller_id'], axis=1)\n",
    "data_unificada.head(3)"
   ]
  },
  {
   "cell_type": "code",
   "execution_count": 23,
   "metadata": {},
   "outputs": [
    {
     "data": {
      "text/html": [
       "<div>\n",
       "<style scoped>\n",
       "    .dataframe tbody tr th:only-of-type {\n",
       "        vertical-align: middle;\n",
       "    }\n",
       "\n",
       "    .dataframe tbody tr th {\n",
       "        vertical-align: top;\n",
       "    }\n",
       "\n",
       "    .dataframe thead th {\n",
       "        text-align: right;\n",
       "    }\n",
       "</style>\n",
       "<table border=\"1\" class=\"dataframe\">\n",
       "  <thead>\n",
       "    <tr style=\"text-align: right;\">\n",
       "      <th></th>\n",
       "      <th>order_id</th>\n",
       "      <th>week</th>\n",
       "      <th>quantity</th>\n",
       "      <th>country_name</th>\n",
       "      <th>article_name</th>\n",
       "      <th>unit_price</th>\n",
       "      <th>seller_name</th>\n",
       "      <th>total_amount</th>\n",
       "    </tr>\n",
       "  </thead>\n",
       "  <tbody>\n",
       "    <tr>\n",
       "      <th>0</th>\n",
       "      <td>15024</td>\n",
       "      <td>1</td>\n",
       "      <td>10</td>\n",
       "      <td>Peru</td>\n",
       "      <td>Water Cooling</td>\n",
       "      <td>$ 67.50</td>\n",
       "      <td>Cirilo Grandham</td>\n",
       "      <td>$ 675.00</td>\n",
       "    </tr>\n",
       "    <tr>\n",
       "      <th>1</th>\n",
       "      <td>15892</td>\n",
       "      <td>3</td>\n",
       "      <td>15</td>\n",
       "      <td>Brazil</td>\n",
       "      <td>Water Cooling</td>\n",
       "      <td>$ 67.50</td>\n",
       "      <td>Cirilo Grandham</td>\n",
       "      <td>$ 1,012.50</td>\n",
       "    </tr>\n",
       "    <tr>\n",
       "      <th>2</th>\n",
       "      <td>15732</td>\n",
       "      <td>3</td>\n",
       "      <td>6</td>\n",
       "      <td>Guatemala</td>\n",
       "      <td>Mouse</td>\n",
       "      <td>$ 30.30</td>\n",
       "      <td>Cirilo Grandham</td>\n",
       "      <td>$ 181.80</td>\n",
       "    </tr>\n",
       "  </tbody>\n",
       "</table>\n",
       "</div>"
      ],
      "text/plain": [
       "   order_id  week  quantity country_name   article_name  unit_price  \\\n",
       "0     15024     1        10         Peru  Water Cooling     $ 67.50   \n",
       "1     15892     3        15       Brazil  Water Cooling     $ 67.50   \n",
       "2     15732     3         6    Guatemala          Mouse     $ 30.30   \n",
       "\n",
       "       seller_name  total_amount  \n",
       "0  Cirilo Grandham      $ 675.00  \n",
       "1  Cirilo Grandham    $ 1,012.50  \n",
       "2  Cirilo Grandham      $ 181.80  "
      ]
     },
     "execution_count": 23,
     "metadata": {},
     "output_type": "execute_result"
    }
   ],
   "source": [
    "# crear nueva columna con el total de la venta y eliminar las columnas unit_price\n",
    "data_unificada['total_amount'] = data_unificada['unit_price'] * data_unificada['quantity']\n",
    "data_unificada.head(3)"
   ]
  },
  {
   "cell_type": "code",
   "execution_count": 24,
   "metadata": {},
   "outputs": [
    {
     "data": {
      "text/html": [
       "<div>\n",
       "<style scoped>\n",
       "    .dataframe tbody tr th:only-of-type {\n",
       "        vertical-align: middle;\n",
       "    }\n",
       "\n",
       "    .dataframe tbody tr th {\n",
       "        vertical-align: top;\n",
       "    }\n",
       "\n",
       "    .dataframe thead th {\n",
       "        text-align: right;\n",
       "    }\n",
       "</style>\n",
       "<table border=\"1\" class=\"dataframe\">\n",
       "  <thead>\n",
       "    <tr style=\"text-align: right;\">\n",
       "      <th></th>\n",
       "      <th>week</th>\n",
       "      <th>quantity</th>\n",
       "      <th>country_name</th>\n",
       "      <th>article_name</th>\n",
       "      <th>seller_name</th>\n",
       "      <th>total_amount</th>\n",
       "    </tr>\n",
       "  </thead>\n",
       "  <tbody>\n",
       "    <tr>\n",
       "      <th>0</th>\n",
       "      <td>1</td>\n",
       "      <td>10</td>\n",
       "      <td>Peru</td>\n",
       "      <td>Water Cooling</td>\n",
       "      <td>Cirilo Grandham</td>\n",
       "      <td>$ 675.00</td>\n",
       "    </tr>\n",
       "    <tr>\n",
       "      <th>1</th>\n",
       "      <td>3</td>\n",
       "      <td>15</td>\n",
       "      <td>Brazil</td>\n",
       "      <td>Water Cooling</td>\n",
       "      <td>Cirilo Grandham</td>\n",
       "      <td>$ 1,012.50</td>\n",
       "    </tr>\n",
       "    <tr>\n",
       "      <th>2</th>\n",
       "      <td>3</td>\n",
       "      <td>6</td>\n",
       "      <td>Guatemala</td>\n",
       "      <td>Mouse</td>\n",
       "      <td>Cirilo Grandham</td>\n",
       "      <td>$ 181.80</td>\n",
       "    </tr>\n",
       "  </tbody>\n",
       "</table>\n",
       "</div>"
      ],
      "text/plain": [
       "   week  quantity country_name   article_name      seller_name  total_amount\n",
       "0     1        10         Peru  Water Cooling  Cirilo Grandham      $ 675.00\n",
       "1     3        15       Brazil  Water Cooling  Cirilo Grandham    $ 1,012.50\n",
       "2     3         6    Guatemala          Mouse  Cirilo Grandham      $ 181.80"
      ]
     },
     "execution_count": 24,
     "metadata": {},
     "output_type": "execute_result"
    }
   ],
   "source": [
    "data_a_trabajar = data_unificada.drop(['unit_price', 'order_id'], axis=1)\n",
    "data_a_trabajar.head(3)"
   ]
  },
  {
   "cell_type": "code",
   "execution_count": 25,
   "metadata": {},
   "outputs": [
    {
     "data": {
      "text/plain": [
       "week              int64\n",
       "quantity          int64\n",
       "country_name     object\n",
       "article_name     object\n",
       "seller_name      object\n",
       "total_amount    float64\n",
       "dtype: object"
      ]
     },
     "execution_count": 25,
     "metadata": {},
     "output_type": "execute_result"
    }
   ],
   "source": [
    "data_a_trabajar.dtypes"
   ]
  }
 ],
 "metadata": {
  "kernelspec": {
   "display_name": "base",
   "language": "python",
   "name": "python3"
  },
  "language_info": {
   "codemirror_mode": {
    "name": "ipython",
    "version": 3
   },
   "file_extension": ".py",
   "mimetype": "text/x-python",
   "name": "python",
   "nbconvert_exporter": "python",
   "pygments_lexer": "ipython3",
   "version": "3.11.7"
  }
 },
 "nbformat": 4,
 "nbformat_minor": 2
}
