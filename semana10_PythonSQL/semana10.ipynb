{
 "cells": [
  {
   "cell_type": "code",
   "execution_count": 1,
   "metadata": {
    "tags": []
   },
   "outputs": [],
   "source": [
    "import edaSQL\n",
    "import pandas as pd"
   ]
  },
  {
   "cell_type": "code",
   "execution_count": 2,
   "metadata": {
    "tags": []
   },
   "outputs": [
    {
     "data": {
      "text/html": [
       "<img src=\"https://raw.githubusercontent.com/selva221724/edaSQL/main/readme_src/sql_logo_smaller.png\" width=\"50%\" height=\"50%\">"
      ],
      "text/plain": [
       "<IPython.core.display.HTML object>"
      ]
     },
     "metadata": {},
     "output_type": "display_data"
    },
    {
     "name": "stdout",
     "output_type": "stream",
     "text": [
      "========== Connected to DataBase Successfully ===========\n",
      "Server:  10.211.55.4\n",
      "DataBase:  edaSQL\n",
      "User :  jairojaenz\n",
      "Password :  jairo1234\n"
     ]
    }
   ],
   "source": [
    "# crear una instancia de la clase edaSQL con las opcion de imprimir toda la salida\n",
    "edasql = edaSQL.SQL(printAll=True)\n",
    "# Conectar a la base de datos\n",
    "edasql.connectToDataBase(\n",
    "    server='10.211.55.4',\n",
    "    database='edaSQL',\n",
    "    user='jairojaenz',\n",
    "    password='jairo1234',\n",
    "    sqlDriver=\"ODBC Driver 17 for SQL Server\"\n",
    ")"
   ]
  },
  {
   "cell_type": "markdown",
   "metadata": {},
   "source": [
    "## Conectar BD"
   ]
  },
  {
   "cell_type": "code",
   "execution_count": 4,
   "metadata": {},
   "outputs": [
    {
     "name": "stdout",
     "output_type": "stream",
     "text": [
      "Error en la conexion ('HY000', '[HY000] [Microsoft][ODBC Driver 17 for SQL Server]SSPI Provider:  The operation or option is not available (1048576) (SQLDriverConnect)')\n"
     ]
    }
   ],
   "source": [
    "# Metodo 1 con autenticacion de windows\n",
    "import pyodbc\n",
    "# Configuracion de la conexion\n",
    "server = '10.211.55.4'\n",
    "database = 'edaSQL'\n",
    "driver = 'ODBC Driver 17 for SQL Server'\n",
    "# Intenta la conexion con autenticacion de windows\n",
    "try:\n",
    "    conn = pyodbc.connect(\n",
    "        f'DRIVER={driver};'\n",
    "        f'server={server};'\n",
    "        f'database={database};'\n",
    "        f'Trusted_Connection=yes;'\n",
    "    )\n",
    "    print('Conexion exitosa con autenticacion de windows')\n",
    "except Exception as e:\n",
    "    print('Error en la conexion', e)\n"
   ]
  },
  {
   "cell_type": "code",
   "execution_count": 5,
   "metadata": {},
   "outputs": [],
   "source": [
    "# Metodo 2 con autenticacion de windows en una clase\n",
    "class edaSQL:\n",
    "    def __init__(self, server, database, driver):\n",
    "        self.server = server\n",
    "        self.database = database\n",
    "        self.driver = driver\n",
    "\n",
    "    def connectToDataBase(self):\n",
    "        try:\n",
    "            conn = pyodbc.connect(\n",
    "                f'DRIVER={self.driver};'\n",
    "                f'server={self.server};'\n",
    "                f'database={self.database};'\n",
    "                f'Trusted_Connection=yes;'\n",
    "            )\n",
    "            print('Conexion exitosa con autenticacion de windows')\n",
    "        except Exception as e:\n",
    "            print('Error en la conexion', e)\n",
    "\n"
   ]
  }
 ],
 "metadata": {
  "kernelspec": {
   "display_name": "Python 3 (ipykernel)",
   "language": "python",
   "name": "python3"
  },
  "language_info": {
   "codemirror_mode": {
    "name": "ipython",
    "version": 3
   },
   "file_extension": ".py",
   "mimetype": "text/x-python",
   "name": "python",
   "nbconvert_exporter": "python",
   "pygments_lexer": "ipython3",
   "version": "3.11.7"
  }
 },
 "nbformat": 4,
 "nbformat_minor": 4
}
